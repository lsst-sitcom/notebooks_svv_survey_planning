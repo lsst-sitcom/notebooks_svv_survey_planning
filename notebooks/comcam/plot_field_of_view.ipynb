{
 "cells": [
  {
   "cell_type": "code",
   "execution_count": null,
   "id": "c13adfaa-703f-4a44-bf0b-a785b157f3f3",
   "metadata": {},
   "outputs": [],
   "source": [
    "import lsst.daf.butler"
   ]
  },
  {
   "cell_type": "code",
   "execution_count": null,
   "id": "d5957b48-7ed4-423e-b107-838e9c9c017f",
   "metadata": {},
   "outputs": [],
   "source": [
    "\n",
    "\n",
    "f =plt.figure()\n",
    "ax = f.add_subplot(111)\n",
    "for CCD in chips:\n",
    "    w=df['detector'] ==CCD\n",
    "    corners=df[w].copy()\n",
    "    plt.fill(corners['x']*180/3.14, corners['y']*180/3.14, fc='#0fea72')\n",
    "\n",
    "circle1=Circle((0, 0), radius=2.06, edgecolor=\"blue\", fc='none', linewidth=1.0, linestyle='dashdot')\n",
    "ax.add_patch(circle1)\n",
    "circle2=Circle((0, 0), radius=1.75, edgecolor=\"#ea0f87\", fc='none', linewidth=1.0)\n",
    "ax.add_patch(circle2)\n",
    "circle3=Circle((0, 0), radius= 2.06+0.2, edgecolor=\"#999999\", fc='none', linestyle='--', linewidth=1.5)\n",
    "ax.add_patch(circle3)\n",
    "\n",
    "\n",
    "plt.gca().set_aspect(\"equal\")\n",
    "\n",
    "\n",
    "plt.xlabel(\"X Pupil (Degrees)\")\n",
    "plt.ylabel(\"Y Pupil (Degrees)\")\n",
    "\n",
    "plt.legend([circle3,circle1,circle2], [\"Assist+Rebound \\n search radius \\n + buffer \\n (r=2.08 deg)\",\"r=2.06 deg\", \"r=1.75 deg \\n (90% fill factor)\"], bbox_to_anchor=(1.0, 1.0),fontsize='small', fancybox=True)\n",
    "plt.tight_layout()\n",
    "#plt.savefig(\"sorcha_fovs.pdf\")"
   ]
  },
  {
   "cell_type": "code",
   "execution_count": null,
   "id": "35656f51-1481-4ffb-8914-d1d1c5ee449c",
   "metadata": {},
   "outputs": [],
   "source": [
    "calexp.getWcs().pixelToSky(calexp.getBBox().endX, calexp.getBBox().endY).getRa().asDegrees()\n",
    "calexp.visitInfo.boresightRotAngle.asDegrees()"
   ]
  },
  {
   "cell_type": "markdown",
   "id": "e823628e-084b-4225-891d-263ab5e43153",
   "metadata": {},
   "source": [
    "# Start"
   ]
  },
  {
   "cell_type": "code",
   "execution_count": null,
   "id": "965665b4-c95a-4f01-8736-d27509085738",
   "metadata": {},
   "outputs": [],
   "source": [
    "import numpy as np\n",
    "\n",
    "import matplotlib.pyplot as plt\n",
    "plt.ion()"
   ]
  },
  {
   "cell_type": "code",
   "execution_count": null,
   "id": "76f3191e-d9e1-4600-9e53-a7724a1a020f",
   "metadata": {},
   "outputs": [],
   "source": [
    "import lsst.daf.butler"
   ]
  },
  {
   "cell_type": "code",
   "execution_count": null,
   "id": "cf05efe4-5693-4957-ac96-7d4d341416bc",
   "metadata": {},
   "outputs": [],
   "source": [
    "import lsst.afw.geom as afwGeom\n",
    "import lsst.afw.cameraGeom as cameraGeom"
   ]
  },
  {
   "cell_type": "code",
   "execution_count": null,
   "id": "a7d440de-e2ad-4d8e-a6a0-d417cdabce80",
   "metadata": {},
   "outputs": [],
   "source": [
    "repo = '/repo/embargo'\n",
    "collection = 'LSSTComCam/nightlyValidation'"
   ]
  },
  {
   "cell_type": "code",
   "execution_count": null,
   "id": "433d939e-3b16-43ee-9e8b-54130055b863",
   "metadata": {},
   "outputs": [],
   "source": [
    "butler = lsst.daf.butler.Butler(repo, collections=collection)\n",
    "camera = butler.get('camera', instrument='LSSTComCam')"
   ]
  },
  {
   "cell_type": "code",
   "execution_count": null,
   "id": "fd86297b-fd61-447a-935e-dfebf229c773",
   "metadata": {},
   "outputs": [],
   "source": [
    "# https://lsstc.slack.com/archives/C2JPMCF5X/p1569266787124100\n",
    "# https://community.lsst.org/t/constructing-a-wcs-from-camera-geometry/3039\n",
    "def getWcsFromDetector(detector, boresight, rotation=0*lsst.geom.degrees, flipX=False):\n",
    "    \"\"\"Given a detector and (boresight, rotation), return that detector's WCS\n",
    "\n",
    "    Parameters\n",
    "    ----------\n",
    "    detector : `lsst.afw.cameraGeom.Detector`\n",
    "        A detector in a camera.\n",
    "    boresight : `lsst.geom.SpherePoint`\n",
    "       The boresight of the observation.\n",
    "    rotation : `lsst.afw.geom.Angle`, optional\n",
    "        The rotation angle of the camera.\n",
    "        The rotation is \"rotskypos\", the angle of sky relative to camera\n",
    "        coordinates (from North over East).\n",
    "    flipX : `bool`, optional\n",
    "        Flip the X axis?\n",
    "\n",
    "    Returns\n",
    "    -------\n",
    "    wcs : `lsst::afw::geom::SkyWcs`\n",
    "        The calculated WCS.\n",
    "    \"\"\"\n",
    "    trans = detector.getTransform(detector.makeCameraSys(cameraGeom.PIXELS),\n",
    "                                  detector.makeCameraSys(cameraGeom.FIELD_ANGLE))\n",
    "\n",
    "    wcs = afwGeom.makeSkyWcs(trans, rotation, flipX, boresight)\n",
    "\n",
    "    return wcs"
   ]
  },
  {
   "cell_type": "code",
   "execution_count": null,
   "id": "ac9145c4-50a3-48c9-ba12-b6b1f6ba188a",
   "metadata": {},
   "outputs": [],
   "source": [
    "boresight = lsst.geom.SpherePoint(180., -1., units=lsst.geom.degrees)\n",
    "rotation = 45.*lsst.geom.degrees\n",
    "flipX = False"
   ]
  },
  {
   "cell_type": "code",
   "execution_count": null,
   "id": "fd3e7101-7977-4632-b8ef-12264f667aac",
   "metadata": {},
   "outputs": [],
   "source": [
    "det = camera[0]"
   ]
  },
  {
   "cell_type": "code",
   "execution_count": null,
   "id": "ec809272-ee7a-4e19-a731-caa2b92e0649",
   "metadata": {},
   "outputs": [],
   "source": [
    "for det in camera:\n",
    "    print(det.getName())"
   ]
  },
  {
   "cell_type": "code",
   "execution_count": null,
   "id": "6ce17ea9-06dd-4585-931a-c5be78a074df",
   "metadata": {},
   "outputs": [],
   "source": [
    "det.getName()"
   ]
  },
  {
   "cell_type": "code",
   "execution_count": null,
   "id": "f3ce3240-a59d-4210-bc33-981a0eb195af",
   "metadata": {},
   "outputs": [],
   "source": [
    "wcs = getWcsFromDetector(det, boresight, rotation=rotation, flipX=flipX)"
   ]
  },
  {
   "cell_type": "code",
   "execution_count": null,
   "id": "8e949603-2978-448b-b876-ee6b108e5b01",
   "metadata": {},
   "outputs": [],
   "source": []
  },
  {
   "cell_type": "code",
   "execution_count": null,
   "id": "6f6364f9-0b97-4960-a877-c38e02cff6d7",
   "metadata": {},
   "outputs": [],
   "source": [
    "sky = wcs.pixelToSky(det.getBBox().endX, det.getBBox().endY)\n",
    "ra = sky.getRa().asDegrees()\n",
    "dec = sky.getDec().asDegrees()"
   ]
  },
  {
   "cell_type": "code",
   "execution_count": null,
   "id": "66ea9405-a722-496e-8a9b-a1b8dc21ac3b",
   "metadata": {},
   "outputs": [],
   "source": [
    "def getCorners(det, wcs):\n",
    "    sky_00 = wcs.pixelToSky(det.getBBox().beginX, det.getBBox().beginY)\n",
    "    sky_01 = wcs.pixelToSky(det.getBBox().beginX, det.getBBox().endY)\n",
    "    sky_11 = wcs.pixelToSky(det.getBBox().endX, det.getBBox().endY)\n",
    "    sky_10 = wcs.pixelToSky(det.getBBox().endX, det.getBBox().beginY)\n",
    "    ra = np.array([\n",
    "        sky_00.getRa().asDegrees(),\n",
    "        sky_01.getRa().asDegrees(),\n",
    "        sky_11.getRa().asDegrees(),\n",
    "        sky_10.getRa().asDegrees(),\n",
    "    ])\n",
    "    dec = np.array([\n",
    "        sky_00.getDec().asDegrees(),\n",
    "        sky_01.getDec().asDegrees(),\n",
    "        sky_11.getDec().asDegrees(),\n",
    "        sky_10.getDec().asDegrees(),\n",
    "    ])\n",
    "    return ra, dec"
   ]
  },
  {
   "cell_type": "code",
   "execution_count": null,
   "id": "7350e036-6991-463d-b640-761b185666c9",
   "metadata": {},
   "outputs": [],
   "source": [
    "def plotFootprint(ra, dec, rotSkyPos, camera):\n",
    "    boresight = lsst.geom.SpherePoint(ra, dec, units=lsst.geom.degrees)\n",
    "    rotation = rotSkyPos * lsst.geom.degrees\n",
    "\n",
    "    for det in camera:\n",
    "        wcs = getWcsFromDetector(det, boresight, rotation=rotation, flipX=flipX)\n",
    "        ra, dec = getCorners(det, wcs)\n",
    "        plt.fill(ra, dec, fc='blue', alpha=0.2)"
   ]
  },
  {
   "cell_type": "code",
   "execution_count": null,
   "id": "8f771973-ea53-4d5c-9e83-4141ce4cb3df",
   "metadata": {},
   "outputs": [],
   "source": [
    "ra, dec = getCorners(det, wcs)"
   ]
  },
  {
   "cell_type": "code",
   "execution_count": null,
   "id": "9598aeb3-787e-46bd-8373-1e3c182dfcd1",
   "metadata": {},
   "outputs": [],
   "source": [
    "plt.figure()\n",
    "plt.fill(ra, dec, fc='blue', alpha=0.5)\n",
    "#plt.scatter(ra, dec)"
   ]
  },
  {
   "cell_type": "code",
   "execution_count": null,
   "id": "da45a766-8d7f-4ad1-b9ae-24c17a5a7650",
   "metadata": {},
   "outputs": [],
   "source": [
    "scale = 0.71 / 2"
   ]
  },
  {
   "cell_type": "code",
   "execution_count": null,
   "id": "8c000654-400e-4ced-9675-b470483660b9",
   "metadata": {},
   "outputs": [],
   "source": [
    "x_grid = np.array([-1. * scale, -1. * scale, scale, scale])\n",
    "y_grid = np.array([-1. * scale, scale, scale, -1. * scale])"
   ]
  },
  {
   "cell_type": "code",
   "execution_count": null,
   "id": "1158e17f-20de-4a7b-b515-4b79389f778e",
   "metadata": {},
   "outputs": [],
   "source": [
    "def rotate(x, y, angle):\n",
    "    angle = np.radians(angle)\n",
    "    x_rot = x * np.cos(angle) - y * np.sin(angle) \n",
    "    y_rot = x * np.sin(angle) + y * np.cos(angle) \n",
    "    return x_rot, y_rot"
   ]
  },
  {
   "cell_type": "code",
   "execution_count": null,
   "id": "b2142ed8-667b-4ffa-8505-460be5ffcf76",
   "metadata": {},
   "outputs": [],
   "source": [
    "angle = 10.\n",
    "x_grid_rot, y_grid_rot = rotate(x_grid, y_grid, -1. * angle)\n",
    "\n",
    "plt.figure()\n",
    "#plotFootprint(180., 0., 0., camera)\n",
    "#plotFootprint(180. + 0.71, 0., 0., camera)\n",
    "#plotFootprint(180. + 0.71, 0. + 0.71, 0., camera)\n",
    "#plotFootprint(180., 0. + 0.71, 0., camera)\n",
    "for x, y in zip(x_grid_rot, y_grid_rot):\n",
    "    plotFootprint(180. + x, y, angle, camera)"
   ]
  },
  {
   "cell_type": "code",
   "execution_count": null,
   "id": "1ffbf716-abf8-439a-b678-98408e62b7de",
   "metadata": {},
   "outputs": [],
   "source": [
    "def plotGridFootprint(ra, dec, rotSkyPos):\n",
    "    scale = 0.71 / 2\n",
    "    x_grid = np.array([-1. * scale, -1. * scale, scale, scale])\n",
    "    y_grid = np.array([-1. * scale, scale, scale, -1. * scale])\n",
    "\n",
    "    x_grid_rot, y_grid_rot = rotate(x_grid, y_grid, -1. * rotSkyPos)\n",
    "\n",
    "    for x, y in zip(x_grid_rot, y_grid_rot):\n",
    "        plotFootprint(ra + x, dec + y, rotSkyPos, camera)"
   ]
  },
  {
   "cell_type": "code",
   "execution_count": null,
   "id": "eaa546e4-830b-4a31-8239-e1fcde279436",
   "metadata": {},
   "outputs": [],
   "source": [
    "plt.figure()\n",
    "plotGridFootprint(1., 1., 20.)\n",
    "plotGridFootprint(1. + 0.05, 1. + 0.05, 50.)\n",
    "plotGridFootprint(1. + 0.1, 1. + 0.1, 70.)\n",
    "plt.xlim(plt.xlim()[::-1])\n",
    "plt.xlabel('RA (deg)')\n",
    "plt.ylabel('Dec (deg)')"
   ]
  },
  {
   "cell_type": "code",
   "execution_count": null,
   "id": "9762d8a3-370a-4e08-b6e9-2a697f243d1c",
   "metadata": {},
   "outputs": [],
   "source": []
  }
 ],
 "metadata": {
  "kernelspec": {
   "display_name": "LSST",
   "language": "python",
   "name": "lsst"
  },
  "language_info": {
   "codemirror_mode": {
    "name": "ipython",
    "version": 3
   },
   "file_extension": ".py",
   "mimetype": "text/x-python",
   "name": "python",
   "nbconvert_exporter": "python",
   "pygments_lexer": "ipython3",
   "version": "3.11.9"
  }
 },
 "nbformat": 4,
 "nbformat_minor": 5
}
