{
 "cells": [
  {
   "cell_type": "markdown",
   "id": "8ee63091-87db-4af1-85c0-283b25a3ae54",
   "metadata": {},
   "source": [
    "# Set Up Scheduler Configuration"
   ]
  },
  {
   "cell_type": "code",
   "execution_count": 1,
   "id": "208cf44c-5e28-4de0-b10e-da93e736b1b7",
   "metadata": {
    "execution": {
     "iopub.execute_input": "2024-08-22T17:06:53.704168Z",
     "iopub.status.busy": "2024-08-22T17:06:53.703883Z",
     "iopub.status.idle": "2024-08-22T17:06:53.706698Z",
     "shell.execute_reply": "2024-08-22T17:06:53.706291Z",
     "shell.execute_reply.started": "2024-08-22T17:06:53.704150Z"
    }
   },
   "outputs": [],
   "source": [
    "import sys\n",
    "sys.path.append('/home/b/bechtol/repos/ts_config_ocs')"
   ]
  },
  {
   "cell_type": "code",
   "execution_count": 2,
   "id": "c800b4fb-3d1d-4901-aac9-33579418555e",
   "metadata": {
    "execution": {
     "iopub.execute_input": "2024-08-22T17:06:54.379337Z",
     "iopub.status.busy": "2024-08-22T17:06:54.379056Z",
     "iopub.status.idle": "2024-08-22T17:06:57.125360Z",
     "shell.execute_reply": "2024-08-22T17:06:57.124904Z",
     "shell.execute_reply.started": "2024-08-22T17:06:54.379322Z"
    }
   },
   "outputs": [],
   "source": [
    "import Scheduler.feature_scheduler.maintel.fbs_config_fieldsurvey"
   ]
  },
  {
   "cell_type": "code",
   "execution_count": 3,
   "id": "1fa819b3-b711-4d5a-9344-b5055f6afd47",
   "metadata": {
    "execution": {
     "iopub.execute_input": "2024-08-22T17:06:57.921170Z",
     "iopub.status.busy": "2024-08-22T17:06:57.920897Z",
     "iopub.status.idle": "2024-08-22T17:06:58.073686Z",
     "shell.execute_reply": "2024-08-22T17:06:58.073164Z",
     "shell.execute_reply.started": "2024-08-22T17:06:57.921155Z"
    }
   },
   "outputs": [],
   "source": [
    "nside, scheduler = Scheduler.feature_scheduler.maintel.fbs_config_fieldsurvey.get_scheduler()"
   ]
  },
  {
   "cell_type": "code",
   "execution_count": 4,
   "id": "5f8a7fb1-d678-4a04-a5ea-20a55309e74c",
   "metadata": {
    "execution": {
     "iopub.execute_input": "2024-08-22T17:06:59.474676Z",
     "iopub.status.busy": "2024-08-22T17:06:59.474384Z",
     "iopub.status.idle": "2024-08-22T17:06:59.477858Z",
     "shell.execute_reply": "2024-08-22T17:06:59.477505Z",
     "shell.execute_reply.started": "2024-08-22T17:06:59.474660Z"
    }
   },
   "outputs": [
    {
     "data": {
      "text/plain": [
       "[[<FieldSurvey survey_name='Rubin_SV_095_-25', RA=1.6580627893946132, dec=-0.4363323129985824 at 0x7fa5a3397610>,\n",
       "  <FieldSurvey survey_name='Rubin_SV_125_-15', RA=2.181661564992912, dec=-0.2617993877991494 at 0x7fa5a114ad50>,\n",
       "  <FieldSurvey survey_name='DESI_SV3_R1', RA=3.134611336581816, dec=0.0 at 0x7fa5a112b3d0>,\n",
       "  <FieldSurvey survey_name='Rubin_SV_225_-40', RA=3.9269908169872414, dec=-0.6981317007977318 at 0x7fa5a1362350>,\n",
       "  <FieldSurvey survey_name='DEEP_A0', RA=3.7699111843077517, dec=-0.2181661564992912 at 0x7fa5a1151b90>,\n",
       "  <FieldSurvey survey_name='Rubin_SV_250_2', RA=4.363323129985824, dec=0.03490658503988659 at 0x7fa5a10e2a90>,\n",
       "  <FieldSurvey survey_name='Rubin_SV_300_-41', RA=5.235987755982989, dec=-0.7155849933176751 at 0x7fa5a10fad50>,\n",
       "  <FieldSurvey survey_name='Rubin_SV_280_-48', RA=4.886921905584122, dec=-0.8377580409572782 at 0x7fa5a10ffb90>,\n",
       "  <FieldSurvey survey_name='DEEP_B0', RA=5.410520681182422, dec=-0.33161255787892263 at 0x7fa5a1109650>,\n",
       "  <FieldSurvey survey_name='ELAIS_S1', RA=0.16493361431346412, dec=-0.767944870877505 at 0x7fa5afbc3090>,\n",
       "  <FieldSurvey survey_name='XMM_LSS', RA=0.6232279812485444, dec=-0.08290313946973066 at 0x7fa5a1093850>,\n",
       "  <FieldSurvey survey_name='ECDFS', RA=0.9272061651219876, dec=-0.4904375198104066 at 0x7fa5a10c7b10>,\n",
       "  <FieldSurvey survey_name='COSMOS', RA=2.6197392072434886, dec=0.038082114651154055 at 0x7fa5a1122e10>,\n",
       "  <FieldSurvey survey_name='EDFS_A', RA=1.02799892942466, dec=-0.8607091206210036 at 0x7fa5a111ea50>,\n",
       "  <FieldSurvey survey_name='EDFS_B', RA=1.1100294042683936, dec=-0.8307767239493009 at 0x7fa5a1349e90>]]"
      ]
     },
     "execution_count": 4,
     "metadata": {},
     "output_type": "execute_result"
    }
   ],
   "source": [
    "scheduler.survey_lists"
   ]
  },
  {
   "cell_type": "code",
   "execution_count": 5,
   "id": "3babd56f-65f6-4f9c-b32e-6b752489295b",
   "metadata": {
    "execution": {
     "iopub.execute_input": "2024-08-22T17:07:00.433574Z",
     "iopub.status.busy": "2024-08-22T17:07:00.432988Z",
     "iopub.status.idle": "2024-08-22T17:07:00.436467Z",
     "shell.execute_reply": "2024-08-22T17:07:00.436093Z",
     "shell.execute_reply.started": "2024-08-22T17:07:00.433557Z"
    }
   },
   "outputs": [
    {
     "data": {
      "text/plain": [
       "[<rubin_scheduler.scheduler.basis_functions.feasibility_funcs.NotTwilightBasisFunction at 0x7fa5a1303f10>,\n",
       " <rubin_scheduler.scheduler.basis_functions.mask_basis_funcs.MoonAvoidanceBasisFunction at 0x7fa5a12a86d0>,\n",
       " <rubin_scheduler.scheduler.basis_functions.basis_functions.AvoidDirectWind at 0x7fa5a12b7750>,\n",
       " <rubin_scheduler.scheduler.basis_functions.mask_basis_funcs.AltAzShadowMaskBasisFunction at 0x7fa5a1d1b090>,\n",
       " <rubin_scheduler.scheduler.basis_functions.basis_functions.AvoidFastRevisitsBasisFunction at 0x7fa5a3376e50>,\n",
       " <rubin_scheduler.scheduler.basis_functions.basis_functions.RewardRisingBasisFunction at 0x7fa5afbcc550>,\n",
       " <rubin_scheduler.scheduler.basis_functions.basis_functions.M5DiffBasisFunction at 0x7fa5a1ac3f10>]"
      ]
     },
     "execution_count": 5,
     "metadata": {},
     "output_type": "execute_result"
    }
   ],
   "source": [
    "scheduler.survey_lists[0][0].basis_functions"
   ]
  },
  {
   "cell_type": "code",
   "execution_count": 6,
   "id": "6b30653b-69b9-4adb-821b-19a03f443ccd",
   "metadata": {
    "execution": {
     "iopub.execute_input": "2024-08-22T17:07:01.199477Z",
     "iopub.status.busy": "2024-08-22T17:07:01.198966Z",
     "iopub.status.idle": "2024-08-22T17:07:01.202351Z",
     "shell.execute_reply": "2024-08-22T17:07:01.201999Z",
     "shell.execute_reply.started": "2024-08-22T17:07:01.199461Z"
    }
   },
   "outputs": [
    {
     "data": {
      "text/plain": [
       "[<rubin_scheduler.scheduler.detailers.dither_detailer.CameraSmallRotPerObservationListDetailer at 0x7fa5afbcc510>,\n",
       " <rubin_scheduler.scheduler.detailers.dither_detailer.DitherDetailer at 0x7fa5a1d1af90>]"
      ]
     },
     "execution_count": 6,
     "metadata": {},
     "output_type": "execute_result"
    }
   ],
   "source": [
    "scheduler.survey_lists[0][0].detailers"
   ]
  },
  {
   "cell_type": "markdown",
   "id": "f00ec973-e534-44ff-b16b-073910ab9194",
   "metadata": {},
   "source": [
    "# Set Up Model Observatory"
   ]
  },
  {
   "cell_type": "code",
   "execution_count": 7,
   "id": "c916a7d0-d3c7-453b-aef9-7b1338b2b50b",
   "metadata": {
    "execution": {
     "iopub.execute_input": "2024-08-22T17:07:03.902461Z",
     "iopub.status.busy": "2024-08-22T17:07:03.902172Z",
     "iopub.status.idle": "2024-08-22T17:07:03.991612Z",
     "shell.execute_reply": "2024-08-22T17:07:03.991109Z",
     "shell.execute_reply.started": "2024-08-22T17:07:03.902446Z"
    }
   },
   "outputs": [],
   "source": [
    "import os\n",
    "import warnings\n",
    "import copy\n",
    "import numpy as np\n",
    "import pandas as pd\n",
    "import matplotlib.pyplot as plt\n",
    "import colorcet as cc\n",
    "import healpy as hp\n",
    "from astropy.time import Time\n",
    "\n",
    "from rubin_scheduler.site_models import Almanac\n",
    "from rubin_scheduler.utils import Site\n",
    "from rubin_scheduler.data import get_data_dir\n",
    "\n",
    "from rubin_scheduler.scheduler.model_observatory import ModelObservatory, KinemModel\n",
    "from rubin_scheduler.site_models import ConstantSeeingData, ConstantWindData\n",
    "\n",
    "from rubin_scheduler.utils import ra_dec2_hpid\n",
    "from rubin_scheduler.scheduler.utils import empty_observation\n",
    "\n",
    "from rubin_scheduler.scheduler import basis_functions\n",
    "from rubin_scheduler.scheduler import features\n",
    "from rubin_scheduler.scheduler.detailers import CameraSmallRotPerObservationListDetailer\n",
    "from rubin_scheduler.scheduler.surveys import FieldSurvey\n",
    "from rubin_scheduler.scheduler.schedulers import CoreScheduler, ComCamFilterSched\n",
    "from rubin_scheduler.utils import Site, _approx_altaz2pa, pseudo_parallactic_angle, rotation_converter\n",
    "\n",
    "from rubin_scheduler.scheduler import sim_runner\n",
    "from rubin_scheduler.scheduler.utils import SchemaConverter"
   ]
  },
  {
   "cell_type": "code",
   "execution_count": 8,
   "id": "251fdb1f-0207-4098-9e7d-d00a058097e8",
   "metadata": {
    "execution": {
     "iopub.execute_input": "2024-08-22T17:07:04.522899Z",
     "iopub.status.busy": "2024-08-22T17:07:04.522372Z",
     "iopub.status.idle": "2024-08-22T17:07:04.525693Z",
     "shell.execute_reply": "2024-08-22T17:07:04.525298Z",
     "shell.execute_reply.started": "2024-08-22T17:07:04.522883Z"
    }
   },
   "outputs": [
    {
     "name": "stdout",
     "output_type": "stream",
     "text": [
      "Using rubin_sim_data from  /home/b/bechtol/rubin-user/rubin_sim_data\n"
     ]
    }
   ],
   "source": [
    "at_usdf = True\n",
    "if at_usdf:\n",
    "    #os.environ[\"RUBIN_SIM_DATA_DIR\"] = \"/sdf/group/rubin/shared/rubin_sim_data\"\n",
    "    os.environ[\"RUBIN_SIM_DATA_DIR\"] = \"/home/b/bechtol/rubin-user/rubin_sim_data\"\n",
    "print(\"Using rubin_sim_data from \", get_data_dir())"
   ]
  },
  {
   "cell_type": "code",
   "execution_count": 9,
   "id": "2adba136-951d-4e91-a3f9-baa3eceb6b0c",
   "metadata": {
    "execution": {
     "iopub.execute_input": "2024-08-22T17:07:04.966727Z",
     "iopub.status.busy": "2024-08-22T17:07:04.965975Z",
     "iopub.status.idle": "2024-08-22T17:07:04.969474Z",
     "shell.execute_reply": "2024-08-22T17:07:04.969085Z",
     "shell.execute_reply.started": "2024-08-22T17:07:04.966709Z"
    }
   },
   "outputs": [],
   "source": [
    "# Setting the start of the *survey* (and keeping this the same) is important for the Model Observatory and Scheduler,\n",
    "# because this sets an overall dither pattern per night, but also helps track things that may \n",
    "# otherwise change per night ... for SV surveys, might not be totally necessary, but is good practice\n",
    "# (you can change the *day* / mjd that you are simulating, of course, but mjd_start should remain the same)\n",
    "\n",
    "dayobs = '2024-09-09'\n",
    "survey_start = Time(f'{dayobs}T12:00:00', format='isot', scale='utc')"
   ]
  },
  {
   "cell_type": "code",
   "execution_count": 10,
   "id": "c41d2ddb-3179-4482-9eae-743c000593a4",
   "metadata": {
    "execution": {
     "iopub.execute_input": "2024-08-22T17:07:05.515823Z",
     "iopub.status.busy": "2024-08-22T17:07:05.515558Z",
     "iopub.status.idle": "2024-08-22T17:07:06.375813Z",
     "shell.execute_reply": "2024-08-22T17:07:06.375351Z",
     "shell.execute_reply.started": "2024-08-22T17:07:05.515809Z"
    }
   },
   "outputs": [
    {
     "name": "stdout",
     "output_type": "stream",
     "text": [
      "sunset 60562.936555093154 2024-09-09 22:28:38.360\n",
      "sun_n12_setting 60562.975207073614 2024-09-09 23:24:17.891\n",
      "sun_n18_setting 60562.99454106344 2024-09-09 23:52:08.348\n",
      "sun_n18_rising 60563.39397472935 2024-09-10 09:27:19.417\n",
      "sun_n12_rising 60563.4132887749 2024-09-10 09:55:08.150\n",
      "sunrise 60563.45188789442 2024-09-10 10:50:43.114\n",
      "moonrise 60563.62073250674 2024-09-10 14:53:51.289\n",
      "moonset 60563.19181374041 2024-09-10 04:36:12.707\n",
      "moonphase(%) 46.25\n"
     ]
    }
   ],
   "source": [
    "# Don't have to do this, but can grab almanac information\n",
    "\n",
    "almanac = Almanac(mjd_start = survey_start.mjd)\n",
    "\n",
    "def show_almanac_info(dayobs):\n",
    "    night_info = almanac.get_sunset_info(evening_date=dayobs, longitude=Site('LSST').longitude_rad)\n",
    "    \n",
    "    dd = []\n",
    "    for val, col in zip(night_info, night_info.dtype.names):\n",
    "        if col == 'night':\n",
    "            continue\n",
    "        else:\n",
    "            print(col, val, Time(val, format='mjd', scale='utc').iso)\n",
    "    \n",
    "    # And can check on the lunar phase -- this goes from 0 (new) to 100 (full)\n",
    "    moon_phase = almanac.get_sun_moon_positions(night_info['moonrise'])['moon_phase']\n",
    "    print(f'moonphase(%) {moon_phase.round(2)}')\n",
    "\n",
    "show_almanac_info(dayobs)"
   ]
  },
  {
   "cell_type": "code",
   "execution_count": 11,
   "id": "a3b18dd4-af2d-49f3-9266-afbed7e8b25f",
   "metadata": {
    "execution": {
     "iopub.execute_input": "2024-08-22T17:07:06.731884Z",
     "iopub.status.busy": "2024-08-22T17:07:06.731601Z",
     "iopub.status.idle": "2024-08-22T17:07:06.735448Z",
     "shell.execute_reply": "2024-08-22T17:07:06.735070Z",
     "shell.execute_reply.started": "2024-08-22T17:07:06.731869Z"
    }
   },
   "outputs": [],
   "source": [
    "def tma_movement(percent=70):\n",
    "    # See https://confluence.lsstcorp.org/display/LSSTCOM/TMA+Motion+Settings\n",
    "    # Expected performance at end of comcam on-sky is probably 10%\n",
    "    if percent > 125:\n",
    "        percent = 125\n",
    "        print(\"Cannot exceed 125 percent, by requirements.\")\n",
    "    tma = {}\n",
    "    scale = percent / 100.0\n",
    "    tma['azimuth_maxspeed'] = np.min([10.0 * scale, 7.0])\n",
    "    tma['azimuth_accel'] = 10.0 * scale\n",
    "    tma['azimuth_jerk'] = np.max([1.0, 40.0 * scale])\n",
    "    tma['altitude_maxspeed'] = 5.0 * scale\n",
    "    tma['altitude_accel'] = 5.0 * scale\n",
    "    tma['altitude_jerk'] = np.max([1.0, 20.0 * scale])\n",
    "    tma['settle_time'] = 3.0\n",
    "    return tma"
   ]
  },
  {
   "cell_type": "code",
   "execution_count": 12,
   "id": "81f41884-a9e0-4426-a0a5-5d8be5559c4b",
   "metadata": {
    "execution": {
     "iopub.execute_input": "2024-08-22T17:07:07.070243Z",
     "iopub.status.busy": "2024-08-22T17:07:07.069955Z",
     "iopub.status.idle": "2024-08-22T17:07:07.073482Z",
     "shell.execute_reply": "2024-08-22T17:07:07.073047Z",
     "shell.execute_reply.started": "2024-08-22T17:07:07.070228Z"
    }
   },
   "outputs": [],
   "source": [
    "def rotator_movement(percent=100):\n",
    "    # Kevin and Brian say these can run 100% and are independent of TMA movement\n",
    "    if percent > 125:\n",
    "        percent = 125\n",
    "        print(\"Cannot exceed 125 percent, by requirements.\")\n",
    "    rot = {}\n",
    "    rot['maxspeed'] = 3.5 * percent/100\n",
    "    rot['accel'] = 1.0 * percent/100\n",
    "    rot['jerk'] = 4.0 * percent/100\n",
    "    return rot"
   ]
  },
  {
   "cell_type": "code",
   "execution_count": 13,
   "id": "a0d8dc7e-705f-40ef-b672-12f14312a8f7",
   "metadata": {
    "execution": {
     "iopub.execute_input": "2024-08-22T17:07:07.514305Z",
     "iopub.status.busy": "2024-08-22T17:07:07.513902Z",
     "iopub.status.idle": "2024-08-22T17:07:07.518128Z",
     "shell.execute_reply": "2024-08-22T17:07:07.517663Z",
     "shell.execute_reply.started": "2024-08-22T17:07:07.514290Z"
    }
   },
   "outputs": [],
   "source": [
    "def get_model_observatory(dayobs='2024-09-09'):\n",
    "    # Set up a fresh model observatory\n",
    "    survey_start = Time(f'{dayobs}T12:00:00', format='isot', scale='utc')\n",
    "    mjd_now = survey_start.mjd\n",
    "\n",
    "    kinematic_model = KinemModel(mjd0=mjd_now)\n",
    "    kinematic_model.setup_camera(readtime=2.4, **rotator_movement(100.))\n",
    "    kinematic_model.setup_telescope(**tma_movement(10.0))\n",
    "    \n",
    "    # Some weather telemetry that might be useful\n",
    "    seeing_data = ConstantSeeingData(fwhm_500=2.0)\n",
    "    wind_data = ConstantWindData(wind_direction=340, wind_speed=5.0)\n",
    "    \n",
    "    # Set up the model observatory\n",
    "    observatory = ModelObservatory(mjd=mjd_now, \n",
    "                                   mjd_start=survey_start.mjd,\n",
    "                                   kinem_model=kinematic_model, # Modified kinematics\n",
    "                                   cloud_data='ideal',          # No clouds\n",
    "                                   seeing_data=seeing_data,     # Modified seeing\n",
    "                                   wind_data=wind_data,         # Add some wind\n",
    "                                   downtimes='ideal',           # No downtime\n",
    "                                   lax_dome=True,               # dome crawl?\n",
    "                                   init_load_length=1,          # size of skybrightness files to load first\n",
    "                                  )\n",
    "    return observatory"
   ]
  },
  {
   "cell_type": "code",
   "execution_count": 14,
   "id": "71133d72-31fb-40a2-9afe-607362b68e5a",
   "metadata": {
    "execution": {
     "iopub.execute_input": "2024-08-22T17:07:08.244115Z",
     "iopub.status.busy": "2024-08-22T17:07:08.243558Z",
     "iopub.status.idle": "2024-08-22T17:07:08.246989Z",
     "shell.execute_reply": "2024-08-22T17:07:08.246599Z",
     "shell.execute_reply.started": "2024-08-22T17:07:08.244098Z"
    }
   },
   "outputs": [],
   "source": [
    "def update_model_observatory_sunset(observatory, filter_scheduler):\n",
    "    # Make sure correct filters are mounted\n",
    "    conditions = observatory.return_conditions()\n",
    "    filters_needed = filter_scheduler(conditions)\n",
    "    observatory.observatory.mount_filters(filters_needed)\n",
    "    conditions = observatory.return_conditions()\n",
    "    print(\"Current filter set\", conditions.mounted_filters)\n",
    "    \n",
    "    # Move ahead to twilight\n",
    "    observatory.mjd = conditions.sun_n18_setting\n",
    "    print(\"Current observatory time\", observatory.mjd)\n",
    "    return observatory"
   ]
  },
  {
   "cell_type": "markdown",
   "id": "37abf078-5d1e-461f-9254-62fffa36bf59",
   "metadata": {},
   "source": [
    "# Run Simulation"
   ]
  },
  {
   "cell_type": "code",
   "execution_count": 15,
   "id": "f1d61530-e6b7-48a5-8964-f794640c9a3f",
   "metadata": {
    "execution": {
     "iopub.execute_input": "2024-08-22T17:07:11.116589Z",
     "iopub.status.busy": "2024-08-22T17:07:11.116191Z",
     "iopub.status.idle": "2024-08-22T17:07:21.928745Z",
     "shell.execute_reply": "2024-08-22T17:07:21.928355Z",
     "shell.execute_reply.started": "2024-08-22T17:07:11.116575Z"
    }
   },
   "outputs": [
    {
     "name": "stderr",
     "output_type": "stream",
     "text": [
      "/home/b/bechtol/repos/rubin_scheduler/rubin_scheduler/skybrightness_pre/sky_model_pre.py:352: UserWarning: Requested MJD between sunrise and sunset, returning closest maps\n",
      "  warnings.warn(\"Requested MJD between sunrise and sunset, returning closest maps\")\n",
      "/home/b/bechtol/repos/rubin_scheduler/rubin_scheduler/scheduler/schedulers/core_scheduler.py:298: RuntimeWarning: All-NaN axis encountered\n",
      "  rewards[i] = np.nanmax(survey.calc_reward_function(self.conditions))\n"
     ]
    },
    {
     "name": "stdout",
     "output_type": "stream",
     "text": [
      "Current filter set ['g', 'r', 'i']\n",
      "Current observatory time 60562.99454106344\n",
      "progress = 98.10%Skipped 0 observations\n",
      "Flushed 0 observations from queue for being stale\n",
      "Completed 907 observations\n",
      "ran in 0 min = 0.0 hours\n"
     ]
    }
   ],
   "source": [
    "verbose = False\n",
    "\n",
    "dayobs = '2024-09-09'\n",
    "survey_start = Time(f'{dayobs}T12:00:00', format='isot', scale='utc')\n",
    "mjd_now = survey_start.mjd\n",
    "\n",
    "# Set up again to be sure all is 'clean'\n",
    "#scheduler, filter_scheduler = get_comcam_schedulers()\n",
    "filter_scheduler = ComCamFilterSched()\n",
    "observatory = get_model_observatory(dayobs)\n",
    "observatory = update_model_observatory_sunset(observatory, filter_scheduler)\n",
    "conditions = observatory.return_conditions()\n",
    "\n",
    "mjd = observatory.mjd\n",
    "mjd_end = conditions.sun_n12_rising\n",
    "survey_length = 1 #mjd_end - mjd\n",
    "\n",
    "observatory, scheduler, observations = sim_runner(\n",
    "    observatory,\n",
    "    scheduler,\n",
    "    filter_scheduler=filter_scheduler,\n",
    "    mjd_start=mjd,\n",
    "    survey_length=survey_length,\n",
    "    n_visit_limit=None,\n",
    "    step_none=10.0,\n",
    "    verbose=True,\n",
    "    record_rewards=False,\n",
    "    start_result_size=int(2e4),\n",
    "    append_result_size=int(2.5e4),\n",
    ")"
   ]
  },
  {
   "cell_type": "code",
   "execution_count": 16,
   "id": "7082e09f-88e8-4e0b-8fd5-8cc1c93238b0",
   "metadata": {
    "execution": {
     "iopub.execute_input": "2024-08-22T17:07:22.352767Z",
     "iopub.status.busy": "2024-08-22T17:07:22.352606Z",
     "iopub.status.idle": "2024-08-22T17:07:22.363143Z",
     "shell.execute_reply": "2024-08-22T17:07:22.362703Z",
     "shell.execute_reply.started": "2024-08-22T17:07:22.352751Z"
    }
   },
   "outputs": [],
   "source": [
    "sc = SchemaConverter()\n",
    "visits = sc.obs2opsim(observations)"
   ]
  },
  {
   "cell_type": "code",
   "execution_count": 19,
   "id": "951943bf-9bd9-4ebc-9c68-a1fbfff755b6",
   "metadata": {
    "execution": {
     "iopub.execute_input": "2024-08-22T17:08:27.932832Z",
     "iopub.status.busy": "2024-08-22T17:08:27.932639Z",
     "iopub.status.idle": "2024-08-22T17:08:27.936007Z",
     "shell.execute_reply": "2024-08-22T17:08:27.935714Z",
     "shell.execute_reply.started": "2024-08-22T17:08:27.932818Z"
    }
   },
   "outputs": [
    {
     "data": {
      "text/plain": [
       "Index(['observationId', 'fieldRA', 'fieldDec', 'observationStartMJD',\n",
       "       'flush_by_mjd', 'visitExposureTime', 'filter', 'rotSkyPos',\n",
       "       'rotSkyPos_desired', 'numExposures', 'airmass', 'seeingFwhm500',\n",
       "       'seeingFwhmEff', 'seeingFwhmGeom', 'skyBrightness', 'night', 'slewTime',\n",
       "       'visitTime', 'slewDistance', 'fiveSigmaDepth', 'altitude', 'azimuth',\n",
       "       'paraAngle', 'psudoParaAngle', 'cloud', 'moonAlt', 'sunAlt', 'note',\n",
       "       'scheduler_note', 'target_name', 'block_id', 'observationStartLST',\n",
       "       'rotTelPos', 'rotTelPos_backup', 'moonAz', 'sunAz', 'sunRA', 'sunDec',\n",
       "       'moonRA', 'moonDec', 'moonDistance', 'solarElong', 'moonPhase',\n",
       "       'cummTelAz', 'scripted_id', 'observation_reason', 'science_program',\n",
       "       'json_block'],\n",
       "      dtype='object')"
      ]
     },
     "execution_count": 19,
     "metadata": {},
     "output_type": "execute_result"
    }
   ],
   "source": [
    "visits.columns"
   ]
  },
  {
   "cell_type": "code",
   "execution_count": 20,
   "id": "e71c38ca-106c-4f62-a7bb-a1f585c3c52a",
   "metadata": {
    "execution": {
     "iopub.execute_input": "2024-08-22T17:08:42.122934Z",
     "iopub.status.busy": "2024-08-22T17:08:42.122660Z",
     "iopub.status.idle": "2024-08-22T17:08:42.127357Z",
     "shell.execute_reply": "2024-08-22T17:08:42.126943Z",
     "shell.execute_reply.started": "2024-08-22T17:08:42.122920Z"
    }
   },
   "outputs": [
    {
     "data": {
      "text/plain": [
       "target_name\n",
       "DEEP_B0              60\n",
       "ECDFS                29\n",
       "EDFS_A              240\n",
       "EDFS_B              120\n",
       "ELAIS_S1            240\n",
       "Rubin_SV_300_-41    158\n",
       "XMM_LSS              60\n",
       "Name: observationStartMJD, dtype: int64"
      ]
     },
     "execution_count": 20,
     "metadata": {},
     "output_type": "execute_result"
    }
   ],
   "source": [
    "# Let's check in on sequences, because there are some issues\n",
    "visits.groupby('target_name')['observationStartMJD'].count()"
   ]
  },
  {
   "cell_type": "code",
   "execution_count": 21,
   "id": "24874420-35f1-41b2-aa7c-029c8aacc58d",
   "metadata": {
    "execution": {
     "iopub.execute_input": "2024-08-22T17:08:49.336528Z",
     "iopub.status.busy": "2024-08-22T17:08:49.335980Z",
     "iopub.status.idle": "2024-08-22T17:08:49.341301Z",
     "shell.execute_reply": "2024-08-22T17:08:49.340915Z",
     "shell.execute_reply.started": "2024-08-22T17:08:49.336509Z"
    }
   },
   "outputs": [
    {
     "name": "stdout",
     "output_type": "stream",
     "text": [
      "[]\n",
      "[]\n"
     ]
    }
   ],
   "source": [
    "# the time from the start of one exposure to the start of the next exposure:\n",
    "slew_to_next_visit = visits['slewTime'][1:]\n",
    "expected_overheads = visits['visitTime'][:-1].values + slew_to_next_visit.values\n",
    "# Compare to the actual time between visits\n",
    "actual_overheads = np.diff(visits['observationStartMJD'])*24*60*60 \n",
    "# We can look at the difference to identify gaps in visits (seconds)\n",
    "diff = np.abs(expected_overheads - actual_overheads)\n",
    "indx = np.where((diff > 1) & (diff < 6*60*60))[0]\n",
    "breaks = []\n",
    "for i in indx:\n",
    "    b1 = visits.iloc[i]['observationStartMJD']\n",
    "    b2 = visits.iloc[i+1]['observationStartMJD']\n",
    "    breaks.append([b1, b2])\n",
    "print(indx)\n",
    "print(breaks)"
   ]
  },
  {
   "cell_type": "code",
   "execution_count": 26,
   "id": "8a013bc0-078e-47c5-a678-16d04c21ba8b",
   "metadata": {
    "execution": {
     "iopub.execute_input": "2024-08-22T17:10:10.257928Z",
     "iopub.status.busy": "2024-08-22T17:10:10.257631Z",
     "iopub.status.idle": "2024-08-22T17:10:10.557968Z",
     "shell.execute_reply": "2024-08-22T17:10:10.557504Z",
     "shell.execute_reply.started": "2024-08-22T17:10:10.257910Z"
    }
   },
   "outputs": [
    {
     "data": {
      "text/plain": [
       "Text(0, 0.5, 'Airmass')"
      ]
     },
     "execution_count": 26,
     "metadata": {},
     "output_type": "execute_result"
    },
    {
     "data": {
      "image/png": "[encoded data removed]",
      "text/plain": [
       "<Figure size 800x600 with 1 Axes>"
      ]
     },
     "metadata": {},
     "output_type": "display_data"
    }
   ],
   "source": [
    "plt.figure(figsize=(8, 6))\n",
    "filtershapes = {'u': 'o', 'g': '^', 'r': 'v', 'i': 's', 'z': '*', 'y': 'p'}\n",
    "filtercolors = {'u': '#005BDB',\n",
    "                'g': '#3DA952',\n",
    "                'r': '#c61c00',\n",
    "                'i': '#997500',\n",
    "                'z': '#CE0D77',\n",
    "                'y': '#5d0000'}\n",
    "fieldcolors = {}\n",
    "for i, t in enumerate(visits.target_name.unique()):\n",
    "    fieldcolors[t] = cc.glasbey[i]\n",
    "\n",
    "if len(breaks) > 0:\n",
    "    for b in breaks:\n",
    "        plt.fill_between(b, 2.5, 0.0, color='pink', alpha=0.3)\n",
    "\n",
    "night = 1\n",
    "nvisits = visits.query('night == @night')\n",
    "for t in nvisits.target_name.unique():\n",
    "    vv = nvisits.query('target_name == @t')\n",
    "    for f in vv['filter'].unique():\n",
    "        vvf = vv.query('filter == @f')\n",
    "        label = f'{t} {f}'\n",
    "        plt.plot(vvf.observationStartMJD, vvf.airmass, linestyle='', \n",
    "                 marker=filtershapes[f], markersize=3, color=fieldcolors[t], label=label)\n",
    "plt.legend(loc=(0.00 , -0.3), ncols=len(nvisits.target_name.unique()))\n",
    "plt.ylim(2.5, 0.9)\n",
    "plt.xlim(nvisits.observationStartMJD.min(), nvisits.observationStartMJD.max())\n",
    "plt.grid(alpha=0.3)\n",
    "plt.xlabel(\"MJD\", fontsize='large')\n",
    "plt.ylabel(\"Airmass\", fontsize='x-large')\n",
    "#plt.title(f\"Night {night}, {Time(nights.observationStartMJD.min(), format='mjd', scale='utc').isot.split(\"T\")[0]}\")"
   ]
  },
  {
   "cell_type": "code",
   "execution_count": null,
   "id": "e70e7686-20fb-453d-86a4-9eb0fcbff16a",
   "metadata": {},
   "outputs": [],
   "source": []
  },
  {
   "cell_type": "markdown",
   "id": "10d253b8-ef96-4e16-8dc4-77746dd0bb6c",
   "metadata": {
    "jp-MarkdownHeadingCollapsed": true
   },
   "source": [
    "# Scratch"
   ]
  },
  {
   "cell_type": "code",
   "execution_count": null,
   "id": "92007f56-0c78-44d4-b38d-d73ae211f87c",
   "metadata": {},
   "outputs": [],
   "source": [
    "import lsst.ts.fbs.utils\n",
    "lsst.ts.fbs.utils"
   ]
  },
  {
   "cell_type": "code",
   "execution_count": null,
   "id": "feb232c3-94a6-4300-898d-5de814eee3a4",
   "metadata": {},
   "outputs": [],
   "source": [
    "#import lsst.ts.config.ocs"
   ]
  },
  {
   "cell_type": "code",
   "execution_count": null,
   "id": "09241585-e1d1-4fc6-97d3-f5fcf8ee26ef",
   "metadata": {},
   "outputs": [],
   "source": [
    "import rubin_scheduler\n",
    "rubin_scheduler"
   ]
  },
  {
   "cell_type": "code",
   "execution_count": null,
   "id": "d90893c3-6da8-412f-85f7-6cc41e381ebc",
   "metadata": {},
   "outputs": [],
   "source": [
    "from lsst.ts.fbs.utils.maintel import MakeFieldSurveyScheduler"
   ]
  },
  {
   "cell_type": "code",
   "execution_count": null,
   "id": "248b523b-9586-4745-8ac2-e272971d80e9",
   "metadata": {},
   "outputs": [],
   "source": [
    "nside = 32"
   ]
  },
  {
   "cell_type": "code",
   "execution_count": null,
   "id": "9b0c221c-f1f7-4c44-b5b4-2c577553b9aa",
   "metadata": {},
   "outputs": [],
   "source": [
    "make_scheduler = MakeFieldSurveyScheduler()"
   ]
  },
  {
   "cell_type": "code",
   "execution_count": null,
   "id": "e9e4f9ee-26fb-469c-bce5-a4fa2acd993b",
   "metadata": {},
   "outputs": [],
   "source": [
    "make_scheduler.nside"
   ]
  },
  {
   "cell_type": "code",
   "execution_count": null,
   "id": "5730f5cb-e37b-4216-9099-f505d1c07091",
   "metadata": {},
   "outputs": [],
   "source": [
    "sequence=\"rgi\"\n",
    "nvis=[30, 30, 30]\n",
    "survey_name=\"test\""
   ]
  },
  {
   "cell_type": "code",
   "execution_count": null,
   "id": "f5ea80ac-740e-4920-be1b-4361db69f85a",
   "metadata": {},
   "outputs": [],
   "source": [
    "make_scheduler._load_candidate_fields()"
   ]
  },
  {
   "cell_type": "code",
   "execution_count": null,
   "id": "e494e7b8-1276-411d-9696-9484e5e868d5",
   "metadata": {},
   "outputs": [],
   "source": [
    "field_names = [\n",
    "    \"EDFS_A\", \n",
    "    \"EDFS_B\",\n",
    "]\n",
    "make_scheduler.add_field_surveys(field_names, sequence=sequence, nvis=nvis, survey_name=survey_name)"
   ]
  },
  {
   "cell_type": "code",
   "execution_count": null,
   "id": "19fa4455-6a33-4f2c-a397-61182380aa13",
   "metadata": {},
   "outputs": [],
   "source": [
    "make_scheduler.surveys[1]"
   ]
  },
  {
   "cell_type": "code",
   "execution_count": null,
   "id": "78870ac0-630e-4e4c-a2d4-a0e528206223",
   "metadata": {},
   "outputs": [],
   "source": [
    "make_scheduler.get_scheduler()"
   ]
  },
  {
   "cell_type": "code",
   "execution_count": null,
   "id": "ba484fad-d932-4675-8a11-71257f18058c",
   "metadata": {},
   "outputs": [],
   "source": []
  },
  {
   "cell_type": "markdown",
   "id": "b7a9684b-ce8b-4cdb-9eb9-ab881462aaf0",
   "metadata": {
    "jp-MarkdownHeadingCollapsed": true
   },
   "source": [
    "# Scheduler Config Testing"
   ]
  },
  {
   "cell_type": "code",
   "execution_count": null,
   "id": "42abd9de-98a7-40da-8c32-00a832a8c69b",
   "metadata": {},
   "outputs": [],
   "source": [
    "import sys\n",
    "sys.path.append('/home/b/bechtol/repos/ts_config_ocs')"
   ]
  },
  {
   "cell_type": "code",
   "execution_count": null,
   "id": "ba999cde-423d-4da1-bb51-07b954cfa564",
   "metadata": {},
   "outputs": [],
   "source": [
    "#import Scheduler.feature_scheduler.auxtel.fbs_config_image_photocal_survey"
   ]
  },
  {
   "cell_type": "code",
   "execution_count": null,
   "id": "17c27eac-064c-454d-a524-ff369763003a",
   "metadata": {},
   "outputs": [],
   "source": [
    "#Scheduler.feature_scheduler.auxtel.fbs_config_image_photocal_survey.get_scheduler()"
   ]
  },
  {
   "cell_type": "code",
   "execution_count": null,
   "id": "4a9bd6c8-c23b-4849-878b-e4546101d013",
   "metadata": {},
   "outputs": [],
   "source": [
    "import Scheduler.feature_scheduler.maintel.fbs_config_fieldsurvey"
   ]
  },
  {
   "cell_type": "code",
   "execution_count": null,
   "id": "fecdd015-a3cc-4947-8e51-7c5ef4e1101e",
   "metadata": {},
   "outputs": [],
   "source": [
    "nside, scheduler = Scheduler.feature_scheduler.maintel.fbs_config_fieldsurvey.get_scheduler()"
   ]
  },
  {
   "cell_type": "code",
   "execution_count": null,
   "id": "b5569f45-e17c-45bb-9c99-f34bde029900",
   "metadata": {},
   "outputs": [],
   "source": [
    "scheduler.survey_lists"
   ]
  },
  {
   "cell_type": "code",
   "execution_count": null,
   "id": "98e8c390-1f51-4ec1-85cc-2a479316074e",
   "metadata": {},
   "outputs": [],
   "source": [
    "dir(scheduler.survey_lists[0][0])"
   ]
  },
  {
   "cell_type": "code",
   "execution_count": null,
   "id": "c302416c-6ede-4095-85c7-e68c08958979",
   "metadata": {},
   "outputs": [],
   "source": [
    "scheduler.survey_lists[0][0].basis_functions"
   ]
  },
  {
   "cell_type": "code",
   "execution_count": null,
   "id": "80593e01-480c-4002-ba60-0aa84f0e4efd",
   "metadata": {},
   "outputs": [],
   "source": [
    "scheduler.survey_lists[0][0].detailers"
   ]
  },
  {
   "cell_type": "markdown",
   "id": "b5e8b5f9-1943-47f4-9374-f5de8bc03934",
   "metadata": {
    "jp-MarkdownHeadingCollapsed": true
   },
   "source": [
    "# Run Simulation Simple"
   ]
  },
  {
   "cell_type": "code",
   "execution_count": null,
   "id": "e927c662-ba7d-4236-a5df-fff4e5cbeb05",
   "metadata": {},
   "outputs": [],
   "source": [
    "import copy\n",
    "import numpy as np\n",
    "\n",
    "from astropy.time import Time\n",
    "\n",
    "import matplotlib.pylab as plt"
   ]
  },
  {
   "cell_type": "code",
   "execution_count": null,
   "id": "f72decd8-58f5-41bd-b05d-4626f6b5e40c",
   "metadata": {},
   "outputs": [],
   "source": [
    "from rubin_scheduler.scheduler.model_observatory import ModelObservatory\n",
    "from rubin_scheduler.site_models import SeeingData\n",
    "from rubin_scheduler.scheduler import  sim_runner"
   ]
  },
  {
   "cell_type": "code",
   "execution_count": null,
   "id": "c081d42d-a242-4b83-b076-a5c4eadfe393",
   "metadata": {},
   "outputs": [],
   "source": [
    "# There ought to be a way to set the environment variable for this kernel\n",
    "import os\n",
    "os.environ[\"RUBIN_SIM_DATA_DIR\"] = \"/home/b/bechtol/rubin-user/rubin_sim_data\"\n",
    "os.getenv(\"RUBIN_SIM_DATA_DIR\")"
   ]
  },
  {
   "cell_type": "code",
   "execution_count": null,
   "id": "359245d2-8240-44f6-aa86-cd00890eecf7",
   "metadata": {},
   "outputs": [],
   "source": [
    "# Note that can only set this date after downloading the full set sky brightness data\n",
    "mjd_start = Time('2024-09-01 00:00:00.000', format='iso').mjd\n",
    "mjd_start"
   ]
  },
  {
   "cell_type": "code",
   "execution_count": null,
   "id": "3f29a62b-1503-4790-a2f6-6f0c79168407",
   "metadata": {},
   "outputs": [],
   "source": [
    "# We need the start date of the survey, so let's load up our model observatory and get that from the conditions\n",
    "mo = ModelObservatory(nside=nside, ideal_conditions=True, mjd_start=mjd_start)\n",
    "mo.seeing_data = SeeingData(Time(mjd_start, format='mjd'))\n",
    "conditions = mo.return_conditions()"
   ]
  },
  {
   "cell_type": "code",
   "execution_count": null,
   "id": "d84f7a99-373a-4bcd-a41e-12cf4dba4392",
   "metadata": {},
   "outputs": [],
   "source": [
    "conditions.mounted_filters = ['gjgj', 'ghghi', 'kykykz']\n",
    "conditions.mounted_filters"
   ]
  },
  {
   "cell_type": "code",
   "execution_count": null,
   "id": "69ceb30d-9e57-4ddf-9a9c-ee639c75e2ca",
   "metadata": {},
   "outputs": [],
   "source": [
    "mo.conditions.mounted_filters"
   ]
  },
  {
   "cell_type": "code",
   "execution_count": null,
   "id": "28ec082b-6c2d-4813-adcd-7cb747e3a31a",
   "metadata": {},
   "outputs": [],
   "source": [
    "new_mo, new_scheduler, observations = sim_runner(copy.deepcopy(mo), copy.deepcopy(scheduler), survey_length=0.2, verbose=True)\n",
    "del new_mo\n",
    "del new_scheduler"
   ]
  },
  {
   "cell_type": "code",
   "execution_count": null,
   "id": "87170afa-a7b9-487e-b260-015002e3da5d",
   "metadata": {},
   "outputs": [],
   "source": [
    "observations.dtype.names"
   ]
  },
  {
   "cell_type": "code",
   "execution_count": null,
   "id": "543e36d3-11c2-449b-863b-1e9b0c9e5337",
   "metadata": {},
   "outputs": [],
   "source": [
    "observations['filter']"
   ]
  },
  {
   "cell_type": "code",
   "execution_count": null,
   "id": "d9b27f57-6993-47dc-8385-e540a073813e",
   "metadata": {},
   "outputs": [],
   "source": [
    "observations[0]"
   ]
  },
  {
   "cell_type": "code",
   "execution_count": null,
   "id": "9e200f6f-47a9-41d7-b2c9-91ec37352ae4",
   "metadata": {},
   "outputs": [],
   "source": [
    "f2c = {'u': 'purple', 'g': 'blue', 'r': 'green',\n",
    "       'i': 'cyan', 'z': 'orange', 'y': 'red'}\n",
    "\n",
    "plt.figure(dpi=200)\n",
    "for filtername in f2c:\n",
    "    in_filt = np.where(observations['filter'] == filtername)[0]\n",
    "    if in_filt.size > 0:\n",
    "        plt.plot(observations['mjd'][in_filt], observations['airmass'][in_filt], \n",
    "                 'o', markersize=1, color=f2c[filtername], label=filtername)\n",
    "plt.legend()\n",
    "plt.xlabel('MJD')\n",
    "plt.ylabel('Airmass')"
   ]
  }
 ],
 "metadata": {
  "kernelspec": {
   "display_name": "rubin-sim",
   "language": "python",
   "name": "rubin-sim"
  },
  "language_info": {
   "codemirror_mode": {
    "name": "ipython",
    "version": 3
   },
   "file_extension": ".py",
   "mimetype": "text/x-python",
   "name": "python",
   "nbconvert_exporter": "python",
   "pygments_lexer": "ipython3",
   "version": "3.11.6"
  }
 },
 "nbformat": 4,
 "nbformat_minor": 5
}
