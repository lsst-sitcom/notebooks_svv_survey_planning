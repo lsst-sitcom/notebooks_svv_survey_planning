{
 "cells": [
  {
   "cell_type": "code",
   "execution_count": null,
   "id": "872f3d75-ea9c-4fb4-afeb-13649ecde93c",
   "metadata": {},
   "outputs": [],
   "source": [
    "import numpy as np\n",
    "import healpy as hp\n",
    "import scipy\n",
    "\n",
    "from astropy.coordinates import SkyCoord, EarthLocation, get_body\n",
    "import astropy.units as u\n",
    "from astropy.time import Time\n",
    "\n",
    "from astroplan import Observer, FixedTarget\n",
    "from astroplan.plots import plot_airmass, plot_sky\n",
    "\n",
    "import skyproj\n",
    "\n",
    "import matplotlib.pyplot as plt\n",
    "#%matplotlib widget"
   ]
  },
  {
   "cell_type": "markdown",
   "id": "96317d50-1524-4cc4-961a-024bc0742920",
   "metadata": {},
   "source": [
    "# Candidate Fields\n",
    "\n",
    "Characteristics of a set of candidate fields"
   ]
  },
  {
   "cell_type": "code",
   "execution_count": null,
   "id": "086c9a16-5566-4e46-9ac3-119e6edbf9b2",
   "metadata": {},
   "outputs": [],
   "source": [
    "targets = [\n",
    "    FixedTarget(SkyCoord(6.022329,-72.081444, unit='deg', frame='icrs'), name='47 Tuc'),\n",
    "    FixedTarget(SkyCoord(37.9, 7.0, unit='deg', frame='icrs'), name='Rubin_SV_38_7'),\n",
    "    FixedTarget(SkyCoord(39.9971, -34.4492, unit='deg', frame='icrs'), name='Fornax Dwarf'),\n",
    "    FixedTarget(SkyCoord(53.125, -28.1, unit='deg', frame='icrs'), name='ECDFS'),\n",
    "    FixedTarget(SkyCoord(59.1004, -48.73, unit='deg', frame='icrs'), name='EDFS_ComCam'),\n",
    "    #FixedTarget(SkyCoord(352.360542, -0.844150, unit='deg', frame='icrs'), name='HSC-SSP_Deep2-3'),\n",
    "    #FixedTarget(SkyCoord(16.0, 4.0, unit='deg', frame='icrs'), name='Ecliptic_16_4'),\n",
    "    #FixedTarget(SkyCoord(30.0, 10.0, unit='deg', frame='icrs'), name='Ecliptic_30_10'),\n",
    "    #FixedTarget(SkyCoord(75.0, 8.0, unit='deg', frame='icrs'), name='Ecliptic_75_8'),\n",
    "    #FixedTarget(SkyCoord(85.0, 10.0, unit='deg', frame='icrs'), name='Ecliptic_85_10'),\n",
    "    #FixedTarget(SkyCoord(105.0, 20.0, unit='deg', frame='icrs'), name='Ecliptic_105_20'),\n",
    "    #FixedTarget(SkyCoord(150.1, 2.18194444, unit='deg', frame='icrs'), name='COSMOS'),\n",
    "    #FixedTarget(SkyCoord(89.26, -16.59, unit='deg', frame='icrs'), name='Rubin_SV_89_-17'), # WD 0554\n",
    "    #FixedTarget(SkyCoord(98.25, -21.75, unit='deg', frame='icrs'), name='Rubin_SV_98_-22'),\n",
    "    #FixedTarget(SkyCoord(94.0928496, -21.372688, unit='deg', frame='icrs'), name='Rubin_SV_94_-21'), # NGC 2207\n",
    "    FixedTarget(SkyCoord(95.0, -25.0, unit='deg', frame='icrs'), name='Rubin_SV_95_-25'),\n",
    "    #FixedTarget(SkyCoord(100.000000, -34.000000, unit='deg', frame='icrs'), name='Rubin_SV_100_-34'), # Star flat from DES\n",
    "    #FixedTarget(SkyCoord(110.000000, -22.500000, unit='deg', frame='icrs'), name='Rubin_SV_100_-34'), # Star flat from DES\n",
    "    #FixedTarget(SkyCoord(112.500000, -50.000000, unit='deg', frame='icrs'), name='Rubin_SV_113_-50'), # Star flat from DES, but out of azimuth range\n",
    "    #FixedTarget(SkyCoord(103.0, -39.0, unit='deg', frame='icrs'), name='Rubin_SV_103_-30'),\n",
    "    #FixedTarget(SkyCoord(93.0, -20.0, unit='deg', frame='icrs'), name='Rubin_SV_95_-25'),\n",
    "    #FixedTarget(SkyCoord(125.0, -15.0, unit='deg', frame='icrs'), name='Rubin_SV_125_-15'),\n",
    "    #FixedTarget(SkyCoord(95.3621919, -64.9941960, unit='deg', frame='icrs'), name='NGC 2230'), # Galaxy cluster on outskirts of LMC\n",
    "    #FixedTarget(SkyCoord(15.0392, -33.7089, unit='deg', frame='icrs'), name='Sculptor Dwarf'),\n",
    "    FixedTarget(SkyCoord(106.23, -10.51, unit='deg', frame='icrs'), name='Seagull'),\n",
    "]\n",
    "\n",
    "# Sort by RA\n",
    "targets.sort(key=lambda _: _.coord.ra.deg, reverse=False)"
   ]
  },
  {
   "cell_type": "markdown",
   "id": "178033a1-306f-4f94-a3c4-b4320e094567",
   "metadata": {},
   "source": [
    "Ecliptic Latitude"
   ]
  },
  {
   "cell_type": "code",
   "execution_count": null,
   "id": "459d75df-a2b8-4185-a47d-ec74e1deed81",
   "metadata": {},
   "outputs": [],
   "source": [
    "for target in targets:\n",
    "    print('%20s%10.3f'%(target.name, target.coord.geocentricmeanecliptic.lat.deg))"
   ]
  },
  {
   "cell_type": "markdown",
   "id": "6fe6bfd9-4fe1-4862-90a3-a92ee353367f",
   "metadata": {
    "execution": {
     "iopub.execute_input": "2024-11-21T01:58:41.080901Z",
     "iopub.status.busy": "2024-11-21T01:58:41.080639Z",
     "iopub.status.idle": "2024-11-21T01:58:41.083880Z",
     "shell.execute_reply": "2024-11-21T01:58:41.083380Z",
     "shell.execute_reply.started": "2024-11-21T01:58:41.080888Z"
    }
   },
   "source": [
    "Galactic Latitude"
   ]
  },
  {
   "cell_type": "code",
   "execution_count": null,
   "id": "2470938f-67b7-4633-bdc5-0a0ee9befda5",
   "metadata": {},
   "outputs": [],
   "source": [
    "for target in targets:\n",
    "    print('%20s%10.3f'%(target.name, target.coord.galactic.b.deg))"
   ]
  },
  {
   "cell_type": "markdown",
   "id": "e5c35774-849d-4305-9172-b968d669cbe5",
   "metadata": {},
   "source": [
    "Example sky viewer:\n",
    "https://www.legacysurvey.org/viewer?ra=16.0&dec=4.&layer=des-dr1&zoom=6"
   ]
  },
  {
   "cell_type": "code",
   "execution_count": null,
   "id": "82ece074-d615-41b7-a7f1-6d7016ad19ec",
   "metadata": {},
   "outputs": [],
   "source": [
    "ra_target = np.array([target.ra.deg for target in targets])\n",
    "dec_target = np.array([target.dec.deg for target in targets])"
   ]
  },
  {
   "cell_type": "code",
   "execution_count": null,
   "id": "a1d1cbff-15a9-4e97-ae18-bef64f6d74e4",
   "metadata": {},
   "outputs": [],
   "source": [
    "m_extinction = np.load('/home/b/bechtol/rubin-user/rubin_sim_data/maps/DustMaps/dust_nside_64.npz')"
   ]
  },
  {
   "cell_type": "code",
   "execution_count": null,
   "id": "4babeb60-f5a6-4901-bd64-7913c1ee95c8",
   "metadata": {},
   "outputs": [],
   "source": [
    "def plotEcliptic(sp):\n",
    "    lon = np.linspace(0, 360, 100)\n",
    "    lat = np.tile(0., 100)\n",
    "    coord = SkyCoord(lon, lat, unit='deg', frame='geocentricmeanecliptic')\n",
    "    sp.plot(coord.icrs.ra.deg, coord.icrs.dec.deg, c='black', ls='--', lw=1)"
   ]
  },
  {
   "cell_type": "code",
   "execution_count": null,
   "id": "89761ff6-28a7-49bf-985e-10bdc5822930",
   "metadata": {},
   "outputs": [],
   "source": [
    "fig, ax = plt.subplots(figsize=(8, 5))\n",
    "sp = skyproj.Skyproj(ax=ax)\n",
    "sp.draw_hpxmap(m_extinction['ebvMap'], cmap='Blues', lat_range=(-90., 90.), vmax=0.3, alpha=0.5)\n",
    "cbar = sp.draw_inset_colorbar(label='E(B-V)', bbox_to_anchor=(-0.05, -0.15, 1, 1), loc='upper right', ticks=(0., 0.1, 0.2), format='%.1f')\n",
    "plotEcliptic(sp)\n",
    "sp.scatter(ra_target, dec_target, c='red', s=10, zorder=10)\n",
    "plt.show()"
   ]
  },
  {
   "cell_type": "code",
   "execution_count": null,
   "id": "e5f4d58e-7dd9-4c57-b754-43ec57b65ad4",
   "metadata": {},
   "outputs": [],
   "source": [
    "print('%20s%10s'%('Target', 'E(B-V)'))\n",
    "for target in targets:\n",
    "    ebv = m_extinction['ebvMap'][hp.ang2pix(64, target.ra.deg, target.dec.deg, lonlat=True)]\n",
    "    print('%20s%10.2f'%(target.name, ebv))"
   ]
  },
  {
   "cell_type": "code",
   "execution_count": null,
   "id": "ec07d080-cfa6-4128-b7f1-a784efd3896f",
   "metadata": {},
   "outputs": [],
   "source": [
    "m_stellar_density = np.load('/home/b/bechtol/rubin-user/rubin_sim_data/maps/StarMaps/starDensity_g_nside_64.npz')"
   ]
  },
  {
   "cell_type": "code",
   "execution_count": null,
   "id": "81bd7c10-10be-46e2-ada4-bdba576ec845",
   "metadata": {},
   "outputs": [],
   "source": [
    "#plt.figure()\n",
    "#plt.hist(m_stellar_density['starDensity'][:,20], bins=np.linspace(0, 20000, 101))"
   ]
  },
  {
   "cell_type": "code",
   "execution_count": null,
   "id": "6fa17f8e-9300-4ee0-99df-ca74739b6194",
   "metadata": {},
   "outputs": [],
   "source": [
    "selection = (m_stellar_density['starDensity'][:,20] > 0.)\n",
    "median_stellar_density = np.median(m_stellar_density['starDensity'][:,20][selection])\n",
    "#print(median_stellar_density)"
   ]
  },
  {
   "cell_type": "code",
   "execution_count": null,
   "id": "0ea305b8-6376-4afe-97a9-da5ade8c1ffd",
   "metadata": {},
   "outputs": [],
   "source": [
    "print('%20s%20s'%('Target', 'Stellar Density'))\n",
    "for target in targets:\n",
    "    stellar_density = m_stellar_density['starDensity'][:,20][hp.ang2pix(64, target.ra.deg, target.dec.deg, lonlat=True)] / median_stellar_density\n",
    "    print('%20s%20.2f'%(target.name, stellar_density))"
   ]
  },
  {
   "cell_type": "markdown",
   "id": "5fd395a7-c681-45c6-9b2c-eaf61d680714",
   "metadata": {},
   "source": [
    "# Visibility\n",
    "\n",
    "Plot the airmass as a function of time during the night for three different dates over the next month, moving forward in time."
   ]
  },
  {
   "cell_type": "code",
   "execution_count": null,
   "id": "67f239f0-220b-46c9-a0ec-50562472df67",
   "metadata": {},
   "outputs": [],
   "source": [
    "observer = Observer.at_site(\"LSST\")\n",
    "observer.location.lat.deg"
   ]
  },
  {
   "cell_type": "code",
   "execution_count": null,
   "id": "72dabc8a-fcd5-4d48-a436-5a56911ed088",
   "metadata": {},
   "outputs": [],
   "source": [
    "time = Time('2024-11-17 03:00:00.000', format='iso')\n",
    "\n",
    "plt.figure()\n",
    "plt.clf()\n",
    "ax = plot_airmass(targets, observer, time, brightness_shading=True, altitude_yaxis=True)\n",
    "ax.legend(loc='lower right')\n",
    "plt.tight_layout()\n",
    "plt.show()"
   ]
  },
  {
   "cell_type": "code",
   "execution_count": null,
   "id": "1d432146-cd91-41d4-989d-53eee755f072",
   "metadata": {},
   "outputs": [],
   "source": [
    "time = Time('2024-12-01 03:00:00.000', format='iso')\n",
    "\n",
    "plt.figure()\n",
    "plt.clf()\n",
    "ax = plot_airmass(targets, observer, time, brightness_shading=True, altitude_yaxis=True)\n",
    "ax.legend(loc='lower right')\n",
    "plt.tight_layout()\n",
    "plt.show()"
   ]
  },
  {
   "cell_type": "code",
   "execution_count": null,
   "id": "adc09f5c-14dc-42df-a7ff-ec3c3db54181",
   "metadata": {},
   "outputs": [],
   "source": [
    "time = Time('2024-12-16 03:00:00.000', format='iso')\n",
    "\n",
    "plt.figure()\n",
    "plt.clf()\n",
    "ax = plot_airmass(targets, observer, time, brightness_shading=True, altitude_yaxis=True)\n",
    "ax.legend(loc='lower right')\n",
    "plt.tight_layout()\n",
    "plt.show()"
   ]
  },
  {
   "cell_type": "markdown",
   "id": "74653ef1-4d27-4c43-8141-3e3459bdc74b",
   "metadata": {},
   "source": [
    "# Moon\n",
    "\n",
    "Check when the Moon gets too close the targets"
   ]
  },
  {
   "cell_type": "code",
   "execution_count": null,
   "id": "8d59ef55-70b0-416e-9c70-22193ceaf08e",
   "metadata": {},
   "outputs": [],
   "source": [
    "time = Time('2024-11-16 03:00:00.000', format='iso')\n",
    "\n",
    "time_next_month = time + np.arange(0., 30., 1.,) * u.day\n",
    "\n",
    "lunar_illumination_next_month = observer.moon_illumination(time_next_month)"
   ]
  },
  {
   "cell_type": "code",
   "execution_count": null,
   "id": "ac733539-7d0b-4b60-b156-9e812e7ce2f8",
   "metadata": {},
   "outputs": [],
   "source": [
    "x_ticks = Time(np.floor(time_next_month.mjd), format='mjd')\n",
    "x_tick_labels = np.array([_.iso.split()[0] for _ in x_ticks])"
   ]
  },
  {
   "cell_type": "code",
   "execution_count": null,
   "id": "777bd14c-d3b8-4b14-a82e-b14cdfb0bbe8",
   "metadata": {},
   "outputs": [],
   "source": [
    "fig, ax1 = plt.subplots()\n",
    "ax2 = ax1.twinx()\n",
    "\n",
    "ax1.axhspan(0., 20., alpha=0.2, color='black')\n",
    "\n",
    "for target in targets:\n",
    "    lunar_separation_next_month = observer.moon_altaz(time_next_month).separation(observer.altaz(time_next_month, target.coord)).deg\n",
    "    ax1.plot(time_next_month.mjd, lunar_separation_next_month, label=target.name)\n",
    "\n",
    "ax1.set_ylabel('Lunar Separation (deg)')\n",
    "ax1.set_xticks(x_ticks.mjd[::3], x_tick_labels[::3], rotation=45.)\n",
    "ax1.set_ylim(0., 180.)\n",
    "\n",
    "ax2.plot(time_next_month.mjd, lunar_illumination_next_month, c='black', ls='--')\n",
    "ax2.set_ylabel('Lunar Illumination')\n",
    "ax2.set_ylim(0.,1.)\n",
    "\n",
    "ax1.legend(loc='upper center')\n",
    "\n",
    "fig.tight_layout()"
   ]
  },
  {
   "cell_type": "markdown",
   "id": "42fe58d1-b86f-4db8-a794-1fad31bd6f0a",
   "metadata": {},
   "source": [
    "# Azimuth at end of Night"
   ]
  },
  {
   "cell_type": "markdown",
   "id": "f6245652-c189-47b6-a3b8-2dcb0c2ffafb",
   "metadata": {},
   "source": [
    "After 3am, only targets only pointing towards South or West after 3AM. \n",
    "*  observing azimuth shall be between 220 and 330 degrees (for emergency access to dome for closure) "
   ]
  },
  {
   "cell_type": "code",
   "execution_count": null,
   "id": "1e74bcbc-d78e-4a31-997c-b7d54cb02dc2",
   "metadata": {},
   "outputs": [],
   "source": [
    "time = Time('2024-11-16 08:00:00.000', format='iso')\n",
    "\n",
    "print('%20s%15s'%('Target', 'Az (deg)'))\n",
    "for target in targets:\n",
    "    print('%20s%15.2f'%(target.name, observer.altaz(time, target.coord).az.deg))"
   ]
  },
  {
   "cell_type": "code",
   "execution_count": null,
   "id": "b79223e7-5fa0-4dca-9bbf-701521fccf23",
   "metadata": {},
   "outputs": [],
   "source": [
    "time = Time('2024-12-16 08:00:00.000', format='iso')\n",
    "\n",
    "print('%20s%15s'%('Target', 'Az (deg)'))\n",
    "for target in targets:\n",
    "    print('%20s%15.2f'%(target.name, observer.altaz(time, target.coord).az.deg))"
   ]
  },
  {
   "cell_type": "markdown",
   "id": "73e6111c-05bb-4aab-9f41-3f9563a46139",
   "metadata": {},
   "source": [
    "# Sun"
   ]
  },
  {
   "cell_type": "code",
   "execution_count": null,
   "id": "79e04883-e2b6-4ad3-835d-323151c6323e",
   "metadata": {},
   "outputs": [],
   "source": [
    "location = EarthLocation.of_site('lsst')"
   ]
  },
  {
   "cell_type": "markdown",
   "id": "a21093e3-74da-4638-9855-48f2c102fee9",
   "metadata": {},
   "source": [
    "Opposition"
   ]
  },
  {
   "cell_type": "code",
   "execution_count": null,
   "id": "8625eac4-eb34-4951-a8d8-807381a9b027",
   "metadata": {},
   "outputs": [],
   "source": [
    "time = Time('2024-11-16 05:00:00.000', format='iso')\n",
    "sun = get_body('sun', time, location)\n",
    "sun.ra.deg - 180."
   ]
  },
  {
   "cell_type": "markdown",
   "id": "8324f1e5-ca10-44d0-8e45-f0378979ad00",
   "metadata": {},
   "source": [
    "Opposition"
   ]
  },
  {
   "cell_type": "code",
   "execution_count": null,
   "id": "8b1b4bc0-9ddf-4ae0-81c8-1e17189efd0c",
   "metadata": {},
   "outputs": [],
   "source": [
    "time = Time('2024-12-16 05:00:00.000', format='iso')\n",
    "sun = get_body('sun', time, location)\n",
    "sun.ra.deg - 180."
   ]
  },
  {
   "cell_type": "markdown",
   "id": "9ff93971-86db-4717-88b6-3715c04db4ac",
   "metadata": {},
   "source": [
    "http://people.tamu.edu/~kevinkrisciunas/ra_dec_sun_2024.html"
   ]
  },
  {
   "cell_type": "markdown",
   "id": "499dc9c1-e457-4035-9f05-808146437c07",
   "metadata": {},
   "source": [
    "# Visibility Summary"
   ]
  },
  {
   "cell_type": "code",
   "execution_count": null,
   "id": "2264005e-6b4d-4488-b101-22812c0b947d",
   "metadata": {},
   "outputs": [],
   "source": [
    "time = Time('2024-12-03 23:59:00.000', format='iso')\n",
    "\n",
    "def printTime(time):\n",
    "    return ':'.join(time.iso.split()[1].split(':')[0:2])\n",
    "\n",
    "\n",
    "time_midnight = observer.midnight(time, which='nearest')\n",
    "time_sunset = observer.sun_set_time(time_midnight, which='previous')\n",
    "time_sunrise = observer.sun_rise_time(time_midnight, which='next')\n",
    "time_evening_astronomical_twilight = observer.twilight_evening_astronomical(time_midnight, which='previous')\n",
    "time_morning_astronomical_twilight = observer.twilight_morning_astronomical(time_midnight, which='next')\n",
    "#time_array = time_sunset + np.arange(0., (time_sunrise - time_sunset).to(u.hr).value, 0.1) * u.hr\n",
    "time_array = time_evening_astronomical_twilight \\\n",
    "    + np.arange(0., (time_morning_astronomical_twilight - time_evening_astronomical_twilight).to(u.hr).value, 0.1) * u.hr\n",
    "\n",
    "print('day_obs = %s\\n'%(time.iso.split()[0]))\n",
    "\n",
    "for target in targets:\n",
    "    time_transit = observer.target_meridian_transit_time(time_midnight, target.coord, which='nearest')\n",
    "    print(target.name)\n",
    "    print('  Transit\\t%s (UTC)'%(printTime(time_transit)))\n",
    "\n",
    "    alt_array = observer.altaz(time_array, target.coord).alt.deg\n",
    "    az_array = observer.altaz(time_array, target.coord).az.deg\n",
    "\n",
    "    azimuth_exclusion = ((observer.twilight_morning_astronomical(time_midnight, which='next') - time_array).to(u.hour) < (2. * u.hour)) \\\n",
    "        & ~((az_array > 220.) & (az_array < 360.))\n",
    "\n",
    "    criteria = (alt_array > 45.) \\\n",
    "        & (alt_array < 83.) \\\n",
    "        & (observer.sun_altaz(time_array).alt.value < -18.) \\\n",
    "        & ~azimuth_exclusion \\\n",
    "        & (observer.moon_altaz(time).separation(observer.altaz(time, target.coord)).deg > 30.)\n",
    "\n",
    "    observable_time_ranges = []\n",
    "    labels, n_labels = scipy.ndimage.label(criteria)\n",
    "    for label in range(0, n_labels):\n",
    "        selection = np.where(labels == (label + 1))[0]\n",
    "\n",
    "        time_start = time_array[np.min(selection)]\n",
    "        time_end = time_array[np.max(selection)]\n",
    "    \n",
    "        print('  Observable\\t%s - %s (UTC)'%(\n",
    "            #time_start.iso,\n",
    "            #time_end.iso\n",
    "            printTime(time_start),\n",
    "            printTime(time_end),\n",
    "        ))\n",
    "    print('')\n",
    "\n",
    "        #observable_time_ranges.append('%s -- %s'%(\n",
    "        #    printTime(time_start),\n",
    "        #    printTime(time_end),\n",
    "        #))"
   ]
  },
  {
   "cell_type": "code",
   "execution_count": null,
   "id": "1ca9eed4-9b68-4721-9388-09b16726aff5",
   "metadata": {},
   "outputs": [],
   "source": [
    "airmass_threshold = 1. / np.cos(np.radians(45.))\n",
    "\n",
    "plt.figure()\n",
    "plt.clf()\n",
    "ax = plot_airmass(targets, observer, time_midnight, brightness_shading=True, altitude_yaxis=True)\n",
    "ax.axhline(airmass_threshold, c='black', ls='--')\n",
    "ax.legend(loc='lower right')\n",
    "plt.title('day_obs = %s\\n'%(time.iso.split()[0]))\n",
    "plt.tight_layout()\n",
    "plt.savefig('%s_airmass.png'%(time.iso.split()[0]))\n",
    "plt.show()"
   ]
  },
  {
   "cell_type": "code",
   "execution_count": null,
   "id": "f58e3816-98a2-4196-8307-1b32d353a95c",
   "metadata": {},
   "outputs": [],
   "source": [
    "target_moon = FixedTarget(observer.moon_altaz(time_midnight), name='Moon')\n",
    "\n",
    "plt.clf()\n",
    "for target in targets:\n",
    "    plot_sky(target, observer, time_array)\n",
    "#plot_sky(target_moon, observer, time_array)\n",
    "plt.title('day_obs = %s\\n'%(time.iso.split()[0]))\n",
    "plt.legend(loc='lower right')\n",
    "#bbox_to_anchor=(1.25, 0.5))\n",
    "plt.show()"
   ]
  },
  {
   "cell_type": "code",
   "execution_count": null,
   "id": "e2dd8d61-fefc-4909-9cb7-8bacda287ce4",
   "metadata": {},
   "outputs": [],
   "source": [
    "if observer.moon_altaz(time_midnight).alt.value > 0.:\n",
    "    time_moonrise = observer.moon_rise_time(time_midnight, which='previous')\n",
    "    time_moonset = observer.moon_set_time(time_midnight, which='next')\n",
    "else:\n",
    "    time_moonrise = observer.moon_rise_time(time_midnight, which='next')\n",
    "    time_moonset = observer.moon_set_time(time_midnight, which='previous')\n",
    "\n",
    "#print('Time (UTC) =', time)\n",
    "\n",
    "print('%40s%30s'%('Time Evening Civil Twilight (UTC)', observer.twilight_evening_civil(time_midnight, which='previous').iso))\n",
    "print('%40s%30s'%('Time Evening Nautical Twilight (UTC)', observer.twilight_evening_nautical(time_midnight, which='previous').iso))\n",
    "print('%40s%30s'%('Time Evening Astronomical Twilight (UTC)', observer.twilight_evening_astronomical(time_midnight, which='previous').iso))\n",
    "print('%40s%30s'%('Time Midnight (UTC)', time_midnight.iso))\n",
    "print('%40s%30s'%('Time Morning Astronomical Twilight (UTC)', observer.twilight_morning_astronomical(time_midnight, which='next').iso))\n",
    "print('%40s%30s'%('Time Morning Nautical Twilight (UTC)', observer.twilight_morning_nautical(time_midnight, which='previous').iso))\n",
    "print('%40s%30s'%('Time Morning Civil Twilight (UTC)', observer.twilight_morning_civil(time_midnight, which='previous').iso))\n",
    "print('')\n",
    "print('%40s%30s'%('Moonrise time (UTC)', time_moonrise.iso))\n",
    "print('%40s%30s'%('Moonset time (UTC)', time_moonset.iso))\n",
    "print('%40s%30.2f'%('Moon Illumination', observer.moon_illumination(time)))"
   ]
  },
  {
   "cell_type": "markdown",
   "id": "6056b311-91ef-44be-b9a8-866a9b9ce2ca",
   "metadata": {},
   "source": [
    "# "
   ]
  }
 ],
 "metadata": {
  "kernelspec": {
   "display_name": "LSST",
   "language": "python",
   "name": "lsst"
  },
  "language_info": {
   "codemirror_mode": {
    "name": "ipython",
    "version": 3
   },
   "file_extension": ".py",
   "mimetype": "text/x-python",
   "name": "python",
   "nbconvert_exporter": "python",
   "pygments_lexer": "ipython3",
   "version": "3.11.9"
  }
 },
 "nbformat": 4,
 "nbformat_minor": 5
}
