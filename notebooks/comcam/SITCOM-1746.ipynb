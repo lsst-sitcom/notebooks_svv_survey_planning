{
 "cells": [
  {
   "cell_type": "code",
   "execution_count": null,
   "id": "872f3d75-ea9c-4fb4-afeb-13649ecde93c",
   "metadata": {},
   "outputs": [],
   "source": [
    "import numpy as np\n",
    "import healpy as hp\n",
    "\n",
    "from astropy.coordinates import SkyCoord\n",
    "import astropy.units as u\n",
    "from astropy.time import Time\n",
    "\n",
    "from astroplan import Observer, FixedTarget\n",
    "from astroplan.plots import plot_airmass\n",
    "\n",
    "import skyproj\n",
    "\n",
    "import matplotlib.pyplot as plt\n",
    "#%matplotlib widget"
   ]
  },
  {
   "cell_type": "markdown",
   "id": "96317d50-1524-4cc4-961a-024bc0742920",
   "metadata": {},
   "source": [
    "# Candidate Fields\n",
    "\n",
    "Characteristics of a set of candidate fields"
   ]
  },
  {
   "cell_type": "code",
   "execution_count": null,
   "id": "086c9a16-5566-4e46-9ac3-119e6edbf9b2",
   "metadata": {},
   "outputs": [],
   "source": [
    "targets = [\n",
    "    FixedTarget(SkyCoord(59.1004, -48.73, unit='deg', frame='icrs'), name='EDFS ComCam'),\n",
    "    FixedTarget(SkyCoord(53.125, -28.1, unit='deg', frame='icrs'), name='ECDFS'),\n",
    "    FixedTarget(SkyCoord(352.360542, -0.844150, unit='deg', frame='icrs'), name='HSC-SSP_Deep2-3'),\n",
    "    FixedTarget(SkyCoord(16.0, 4.0, unit='deg', frame='icrs'), name='Ecliptic 1'),\n",
    "    FixedTarget(SkyCoord(30.0, 10.0, unit='deg', frame='icrs'), name='Ecliptic 2'),\n",
    "    FixedTarget(SkyCoord(105.0, 20.0, unit='deg', frame='icrs'), name='Ecliptic 3'),\n",
    "    FixedTarget(SkyCoord(6.022329,-72.081444, unit='deg', frame='icrs'), name='47 Tuc'),\n",
    "    FixedTarget(SkyCoord(150.1, 2.18194444, unit='deg', frame='icrs'), name='COSMOS'),\n",
    "    FixedTarget(SkyCoord(95.0, -25.0, unit='deg', frame='icrs'), name='Rubin_SV_95_-25'),\n",
    "    #FixedTarget(SkyCoord(93.0, -20.0, unit='deg', frame='icrs'), name='Rubin_SV_95_-25'),\n",
    "    FixedTarget(SkyCoord(125.0, -15.0, unit='deg', frame='icrs'), name='Rubin_SV_125_-15'),\n",
    "]"
   ]
  },
  {
   "cell_type": "markdown",
   "id": "e5c35774-849d-4305-9172-b968d669cbe5",
   "metadata": {},
   "source": [
    "Example sky viewer:\n",
    "https://www.legacysurvey.org/viewer?ra=16.0&dec=4.&layer=des-dr1&zoom=6"
   ]
  },
  {
   "cell_type": "code",
   "execution_count": null,
   "id": "82ece074-d615-41b7-a7f1-6d7016ad19ec",
   "metadata": {},
   "outputs": [],
   "source": [
    "ra_target = np.array([target.ra.deg for target in targets])\n",
    "dec_target = np.array([target.dec.deg for target in targets])"
   ]
  },
  {
   "cell_type": "code",
   "execution_count": null,
   "id": "a1d1cbff-15a9-4e97-ae18-bef64f6d74e4",
   "metadata": {},
   "outputs": [],
   "source": [
    "m_extinction = np.load('/home/b/bechtol/rubin-user/rubin_sim_data/maps/DustMaps/dust_nside_64.npz')"
   ]
  },
  {
   "cell_type": "code",
   "execution_count": null,
   "id": "4babeb60-f5a6-4901-bd64-7913c1ee95c8",
   "metadata": {},
   "outputs": [],
   "source": [
    "def plotEcliptic(sp):\n",
    "    lon = np.linspace(0, 360, 100)\n",
    "    lat = np.tile(0., 100)\n",
    "    coord = SkyCoord(lon, lat, unit='deg', frame='geocentricmeanecliptic')\n",
    "    sp.plot(coord.icrs.ra.deg, coord.icrs.dec.deg, c='black', ls='--', lw=1)"
   ]
  },
  {
   "cell_type": "code",
   "execution_count": null,
   "id": "89761ff6-28a7-49bf-985e-10bdc5822930",
   "metadata": {},
   "outputs": [],
   "source": [
    "fig, ax = plt.subplots(figsize=(8, 5))\n",
    "sp = skyproj.Skyproj(ax=ax)\n",
    "sp.draw_hpxmap(m_extinction['ebvMap'], cmap='Blues', lat_range=(-90., 90.), vmax=0.2, alpha=0.5)\n",
    "cbar = sp.draw_inset_colorbar(label='E(B-V)', bbox_to_anchor=(-0.05, -0.15, 1, 1), loc='upper right', ticks=(0., 0.1, 0.2), format='%.1f')\n",
    "plotEcliptic(sp)\n",
    "sp.scatter(ra_target, dec_target, c='red', s=10, zorder=10)\n",
    "plt.show()"
   ]
  },
  {
   "cell_type": "code",
   "execution_count": null,
   "id": "6e20e63c-1c21-47e9-9073-5fb2ce484ec8",
   "metadata": {},
   "outputs": [],
   "source": []
  },
  {
   "cell_type": "code",
   "execution_count": null,
   "id": "e5f4d58e-7dd9-4c57-b754-43ec57b65ad4",
   "metadata": {},
   "outputs": [],
   "source": [
    "print('%20s%10s'%('Target', 'E(B-V)'))\n",
    "for target in targets:\n",
    "    ebv = m_extinction['ebvMap'][hp.ang2pix(64, target.ra.deg, target.dec.deg, lonlat=True)]\n",
    "    print('%20s%10.2f'%(target.name, ebv))"
   ]
  },
  {
   "cell_type": "code",
   "execution_count": null,
   "id": "ec07d080-cfa6-4128-b7f1-a784efd3896f",
   "metadata": {},
   "outputs": [],
   "source": [
    "m_stellar_density = np.load('/home/b/bechtol/rubin-user/rubin_sim_data/maps/StarMaps/starDensity_g_nside_64.npz')"
   ]
  },
  {
   "cell_type": "code",
   "execution_count": null,
   "id": "81bd7c10-10be-46e2-ada4-bdba576ec845",
   "metadata": {},
   "outputs": [],
   "source": [
    "#plt.figure()\n",
    "#plt.hist(m_stellar_density['starDensity'][:,20], bins=np.linspace(0, 20000, 101))"
   ]
  },
  {
   "cell_type": "code",
   "execution_count": null,
   "id": "6fa17f8e-9300-4ee0-99df-ca74739b6194",
   "metadata": {},
   "outputs": [],
   "source": [
    "selection = (m_stellar_density['starDensity'][:,20] > 0.)\n",
    "median_stellar_density = np.median(m_stellar_density['starDensity'][:,20][selection])\n",
    "#print(median_stellar_density)"
   ]
  },
  {
   "cell_type": "code",
   "execution_count": null,
   "id": "0ea305b8-6376-4afe-97a9-da5ade8c1ffd",
   "metadata": {},
   "outputs": [],
   "source": [
    "print('%20s%20s'%('Target', 'Stellar Density'))\n",
    "for target in targets:\n",
    "    stellar_density = m_stellar_density['starDensity'][:,20][hp.ang2pix(64, target.ra.deg, target.dec.deg, lonlat=True)] / median_stellar_density\n",
    "    print('%20s%20.2f'%(target.name, stellar_density))"
   ]
  },
  {
   "cell_type": "markdown",
   "id": "5fd395a7-c681-45c6-9b2c-eaf61d680714",
   "metadata": {},
   "source": [
    "# Visibility\n",
    "\n",
    "Plot the airmass as a function of time during the night for three different dates over the next month, moving forward in time."
   ]
  },
  {
   "cell_type": "code",
   "execution_count": null,
   "id": "67f239f0-220b-46c9-a0ec-50562472df67",
   "metadata": {},
   "outputs": [],
   "source": [
    "observer = Observer.at_site(\"LSST\")"
   ]
  },
  {
   "cell_type": "code",
   "execution_count": null,
   "id": "72dabc8a-fcd5-4d48-a436-5a56911ed088",
   "metadata": {},
   "outputs": [],
   "source": [
    "time = Time('2024-11-17 03:00:00.000', format='iso')\n",
    "\n",
    "plt.figure()\n",
    "plt.clf()\n",
    "ax = plot_airmass(targets, observer, time, brightness_shading=True, altitude_yaxis=True)\n",
    "ax.legend(loc='lower right')\n",
    "plt.tight_layout()\n",
    "plt.show()"
   ]
  },
  {
   "cell_type": "code",
   "execution_count": null,
   "id": "1d432146-cd91-41d4-989d-53eee755f072",
   "metadata": {},
   "outputs": [],
   "source": [
    "time = Time('2024-12-01 03:00:00.000', format='iso')\n",
    "\n",
    "plt.figure()\n",
    "plt.clf()\n",
    "ax = plot_airmass(targets, observer, time, brightness_shading=True, altitude_yaxis=True)\n",
    "ax.legend(loc='lower right')\n",
    "plt.tight_layout()\n",
    "plt.show()"
   ]
  },
  {
   "cell_type": "code",
   "execution_count": null,
   "id": "adc09f5c-14dc-42df-a7ff-ec3c3db54181",
   "metadata": {},
   "outputs": [],
   "source": [
    "time = Time('2024-12-16 03:00:00.000', format='iso')\n",
    "\n",
    "plt.figure()\n",
    "plt.clf()\n",
    "ax = plot_airmass(targets, observer, time, brightness_shading=True, altitude_yaxis=True)\n",
    "ax.legend(loc='lower right')\n",
    "plt.tight_layout()\n",
    "plt.show()"
   ]
  },
  {
   "cell_type": "markdown",
   "id": "74653ef1-4d27-4c43-8141-3e3459bdc74b",
   "metadata": {},
   "source": [
    "# Moon\n",
    "\n",
    "Check when the Moon gets too close the targets"
   ]
  },
  {
   "cell_type": "code",
   "execution_count": null,
   "id": "8d59ef55-70b0-416e-9c70-22193ceaf08e",
   "metadata": {},
   "outputs": [],
   "source": [
    "time = Time('2024-11-16 03:00:00.000', format='iso')\n",
    "\n",
    "time_next_month = time + np.arange(0., 30., 1.,) * u.day\n",
    "\n",
    "lunar_illumination_next_month = observer.moon_illumination(time_next_month)"
   ]
  },
  {
   "cell_type": "code",
   "execution_count": null,
   "id": "ac733539-7d0b-4b60-b156-9e812e7ce2f8",
   "metadata": {},
   "outputs": [],
   "source": [
    "x_ticks = Time(np.floor(time_next_month.mjd), format='mjd')\n",
    "x_tick_labels = np.array([_.iso.split()[0] for _ in x_ticks])"
   ]
  },
  {
   "cell_type": "code",
   "execution_count": null,
   "id": "777bd14c-d3b8-4b14-a82e-b14cdfb0bbe8",
   "metadata": {},
   "outputs": [],
   "source": [
    "fig, ax1 = plt.subplots()\n",
    "ax2 = ax1.twinx()\n",
    "\n",
    "ax1.axhspan(0., 20., alpha=0.2, color='black')\n",
    "\n",
    "for target in targets:\n",
    "    lunar_separation_next_month = observer.moon_altaz(time_next_month).separation(observer.altaz(time_next_month, target.coord)).deg\n",
    "    ax1.plot(time_next_month.mjd, lunar_separation_next_month, label=target.name)\n",
    "\n",
    "ax1.set_ylabel('Lunar Separation (deg)')\n",
    "ax1.set_xticks(x_ticks.mjd[::3], x_tick_labels[::3], rotation=45.)\n",
    "ax1.set_ylim(0., 180.)\n",
    "\n",
    "ax2.plot(time_next_month.mjd, lunar_illumination_next_month, c='black', ls='--')\n",
    "ax2.set_ylabel('Lunar Illumination')\n",
    "\n",
    "ax1.legend(loc='upper center')\n",
    "\n",
    "fig.tight_layout()"
   ]
  },
  {
   "cell_type": "code",
   "execution_count": null,
   "id": "6d75cb40-6870-45e8-bcb0-8c760b27e1ff",
   "metadata": {},
   "outputs": [],
   "source": []
  }
 ],
 "metadata": {
  "kernelspec": {
   "display_name": "LSST",
   "language": "python",
   "name": "lsst"
  },
  "language_info": {
   "codemirror_mode": {
    "name": "ipython",
    "version": 3
   },
   "file_extension": ".py",
   "mimetype": "text/x-python",
   "name": "python",
   "nbconvert_exporter": "python",
   "pygments_lexer": "ipython3",
   "version": "3.11.9"
  }
 },
 "nbformat": 4,
 "nbformat_minor": 5
}
