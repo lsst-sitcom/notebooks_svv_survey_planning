{
 "cells": [
  {
   "cell_type": "code",
   "execution_count": null,
   "id": "87da71dc-64b4-498b-a7da-0fb1f33d1c40",
   "metadata": {},
   "outputs": [],
   "source": [
    "import sys\n",
    "sys.path.append('/home/b/bechtol/repos/ts_config_ocs')"
   ]
  },
  {
   "cell_type": "code",
   "execution_count": null,
   "id": "8ef41123-e4f8-4835-b56c-3d6be9206488",
   "metadata": {},
   "outputs": [],
   "source": [
    "from rubin_scheduler.data import get_data_dir"
   ]
  },
  {
   "cell_type": "code",
   "execution_count": null,
   "id": "3b47be4a-f503-4382-8a24-4f1c10ab2622",
   "metadata": {},
   "outputs": [],
   "source": [
    "at_usdf = True\n",
    "if at_usdf:\n",
    "    #os.environ[\"RUBIN_SIM_DATA_DIR\"] = \"/sdf/group/rubin/shared/rubin_sim_data\"\n",
    "    os.environ[\"RUBIN_SIM_DATA_DIR\"] = \"/home/b/bechtol/rubin-user/rubin_sim_data\"\n",
    "print(\"Using rubin_sim_data from \", get_data_dir())"
   ]
  },
  {
   "cell_type": "code",
   "execution_count": null,
   "id": "90299f3a-9fbf-4dd2-bb1e-f217ad693a8b",
   "metadata": {},
   "outputs": [],
   "source": [
    "\"\"\"\n",
    "import numpy as np\n",
    "import rubin_scheduler.scheduler.basis_functions as bf\n",
    "import rubin_scheduler.scheduler.detailers as detailers\n",
    "from rubin_scheduler.scheduler.model_observatory import ModelObservatory\n",
    "from rubin_scheduler.scheduler.schedulers import CoreScheduler, ComCamFilterSched\n",
    "from rubin_scheduler.scheduler.surveys import FieldSurvey\n",
    "from rubin_scheduler.scheduler.utils import Footprint, SkyAreaGenerator\n",
    "from rubin_scheduler.utils import SURVEY_START_MJD as MJD_START\n",
    "\n",
    "from astropy.time import Time\n",
    "\"\"\"\n",
    "from rubin_scheduler.scheduler.schedulers import CoreScheduler"
   ]
  },
  {
   "cell_type": "code",
   "execution_count": null,
   "id": "10c7a003-4658-43e7-a7a0-c94c8e146369",
   "metadata": {},
   "outputs": [],
   "source": [
    "from Scheduler.feature_scheduler.maintel.fbs_config_sit_survey_block_t248 import gen_field_survey"
   ]
  },
  {
   "cell_type": "code",
   "execution_count": null,
   "id": "e8161e09-428c-423d-8388-01db27d611b8",
   "metadata": {},
   "outputs": [],
   "source": [
    "nside = 32\n",
    "\n",
    "filters_list = [\n",
    "    #\"i_06\",\n",
    "    #\"r_03\"\n",
    "    \"i\",\n",
    "    \"r\",\n",
    "]\n",
    "\n",
    "surveys = []\n",
    "i = 0\n",
    "for offset in range(0, 30):\n",
    "    surveys.append(gen_field_survey(f'BLOCK-T248_{i}', sequence=filters_list))\n",
    "    i += 1\n",
    "scheduler = CoreScheduler(surveys, nside=nside)"
   ]
  },
  {
   "cell_type": "code",
   "execution_count": null,
   "id": "89c8b452-a1cc-402d-955f-99c3b373d9d6",
   "metadata": {},
   "outputs": [],
   "source": [
    "scheduler.survey_lists"
   ]
  },
  {
   "cell_type": "code",
   "execution_count": null,
   "id": "4786416e-6bfd-4ce8-a7fe-798be1d0a757",
   "metadata": {},
   "outputs": [],
   "source": [
    "print(scheduler.survey_lists[0][0].science_program)\n",
    "print(scheduler.survey_lists[0][0].survey_name)\n",
    "print(scheduler.survey_lists[0][0].target_name)\n",
    "print(scheduler.survey_lists[0][0].observation_reason)\n",
    "print(scheduler.survey_lists[0][0].scheduler_note)"
   ]
  },
  {
   "cell_type": "code",
   "execution_count": null,
   "id": "1faaa13b-2b4c-48eb-9a81-77c57adcbbac",
   "metadata": {},
   "outputs": [],
   "source": [
    "scheduler.survey_lists[0][0].basis_functions"
   ]
  },
  {
   "cell_type": "code",
   "execution_count": null,
   "id": "28e974fb-3948-4f03-be55-8607e8e14494",
   "metadata": {},
   "outputs": [],
   "source": [
    "#dir(Scheduler.feature_scheduler.maintel.fbs_config_sit_survey_block_t248)"
   ]
  },
  {
   "cell_type": "code",
   "execution_count": null,
   "id": "34931ef2-f7ed-4d0d-8d55-026c1dcbe5b2",
   "metadata": {},
   "outputs": [],
   "source": [
    "import numpy as np\n",
    "from astropy.time import Time\n",
    "\n",
    "from rubin_scheduler.scheduler.schedulers import ComCamFilterSched\n",
    "from rubin_scheduler.scheduler.model_observatory import ModelObservatory, KinemModel\n",
    "from rubin_scheduler.site_models import ConstantSeeingData, ConstantWindData\n",
    "from rubin_scheduler.scheduler import sim_runner\n",
    "from rubin_scheduler.scheduler.utils import SchemaConverter"
   ]
  },
  {
   "cell_type": "code",
   "execution_count": null,
   "id": "a4f78d66-ab61-4c9c-8093-3d889bc4d16b",
   "metadata": {},
   "outputs": [],
   "source": [
    "def tma_movement(percent=70):\n",
    "    # See https://confluence.lsstcorp.org/display/LSSTCOM/TMA+Motion+Settings\n",
    "    # Expected performance at end of comcam on-sky is probably 10%\n",
    "    if percent > 125:\n",
    "        percent = 125\n",
    "        print(\"Cannot exceed 125 percent, by requirements.\")\n",
    "    tma = {}\n",
    "    scale = percent / 100.0\n",
    "    tma['azimuth_maxspeed'] = np.min([10.0 * scale, 7.0])\n",
    "    tma['azimuth_accel'] = 10.0 * scale\n",
    "    tma['azimuth_jerk'] = np.max([1.0, 40.0 * scale])\n",
    "    tma['altitude_maxspeed'] = 5.0 * scale\n",
    "    tma['altitude_accel'] = 5.0 * scale\n",
    "    tma['altitude_jerk'] = np.max([1.0, 20.0 * scale])\n",
    "    tma['settle_time'] = 3.0\n",
    "    return tma"
   ]
  },
  {
   "cell_type": "code",
   "execution_count": null,
   "id": "3fc1dda2-628e-4637-adc0-c28eab15e94e",
   "metadata": {},
   "outputs": [],
   "source": [
    "def rotator_movement(percent=100):\n",
    "    # Kevin and Brian say these can run 100% and are independent of TMA movement\n",
    "    if percent > 125:\n",
    "        percent = 125\n",
    "        print(\"Cannot exceed 125 percent, by requirements.\")\n",
    "    rot = {}\n",
    "    rot['maxspeed'] = 3.5 * percent/100\n",
    "    rot['accel'] = 1.0 * percent/100\n",
    "    rot['jerk'] = 4.0 * percent/100\n",
    "    return rot"
   ]
  },
  {
   "cell_type": "code",
   "execution_count": null,
   "id": "3750297d-2b6d-45e6-989c-a9bf91328b03",
   "metadata": {},
   "outputs": [],
   "source": [
    "def get_model_observatory(dayobs='2024-11-01'):\n",
    "    # Set up a fresh model observatory\n",
    "    survey_start = Time(f'{dayobs}T12:00:00', format='isot', scale='utc')\n",
    "    mjd_now = survey_start.mjd\n",
    "\n",
    "    kinematic_model = KinemModel(mjd0=mjd_now)\n",
    "    kinematic_model.setup_camera(readtime=2.4, **rotator_movement(100.))\n",
    "    kinematic_model.setup_telescope(**tma_movement(10.0))\n",
    "    \n",
    "    # Some weather telemetry that might be useful\n",
    "    seeing_data = ConstantSeeingData(fwhm_500=2.0)\n",
    "    wind_data = ConstantWindData(wind_direction=340, wind_speed=5.0)\n",
    "    \n",
    "    # Set up the model observatory\n",
    "    observatory = ModelObservatory(mjd=mjd_now, \n",
    "                                   mjd_start=survey_start.mjd,\n",
    "                                   kinem_model=kinematic_model, # Modified kinematics\n",
    "                                   cloud_data='ideal',          # No clouds\n",
    "                                   seeing_data=seeing_data,     # Modified seeing\n",
    "                                   wind_data=wind_data,         # Add some wind\n",
    "                                   downtimes='ideal',           # No downtime\n",
    "                                   lax_dome=True,               # dome crawl?\n",
    "                                   init_load_length=1,          # size of skybrightness files to load first\n",
    "                                  )\n",
    "    return observatory"
   ]
  },
  {
   "cell_type": "code",
   "execution_count": null,
   "id": "928ec4c3-c3ae-463d-8db0-8bde2321cdc7",
   "metadata": {},
   "outputs": [],
   "source": [
    "def update_model_observatory_sunset(observatory, filter_scheduler):\n",
    "    # Make sure correct filters are mounted\n",
    "    conditions = observatory.return_conditions()\n",
    "    filters_needed = filter_scheduler(conditions)\n",
    "    observatory.observatory.mount_filters(filters_needed)\n",
    "    conditions = observatory.return_conditions()\n",
    "    print(\"Current filter set\", conditions.mounted_filters)\n",
    "    \n",
    "    # Move ahead to twilight\n",
    "    observatory.mjd = conditions.sun_n18_setting\n",
    "    print(\"Current observatory time\", observatory.mjd)\n",
    "    return observatory"
   ]
  },
  {
   "cell_type": "code",
   "execution_count": null,
   "id": "71f7c72a-a2f3-43c0-8d28-278857417ae8",
   "metadata": {},
   "outputs": [],
   "source": [
    "verbose = False\n",
    "\n",
    "dayobs = '2024-11-03'\n",
    "survey_start = Time(f'{dayobs}T12:00:00', format='isot', scale='utc')\n",
    "mjd_now = survey_start.mjd\n",
    "\n",
    "# Set up again to be sure all is 'clean'\n",
    "#scheduler, filter_scheduler = get_comcam_schedulers()\n",
    "#filter_scheduler = ComCamFilterSched()\n",
    "filter_scheduler = ComCamFilterSched(\n",
    "    #loaded_filter_groups=(('r', 'i'),),\n",
    "    loaded_filter_groups=(filters_list,),\n",
    "    illum_bins=(0, 100)\n",
    ")\n",
    "observatory = get_model_observatory(dayobs)\n",
    "observatory = update_model_observatory_sunset(observatory, filter_scheduler)\n",
    "conditions = observatory.return_conditions()\n",
    "\n",
    "mjd = observatory.mjd\n",
    "mjd_end = conditions.sun_n12_rising\n",
    "sim_duration = mjd_end - mjd\n",
    "\n",
    "print(Time(mjd, format='mjd').iso)\n",
    "\n",
    "\n",
    "observatory, scheduler, observations = sim_runner(\n",
    "    observatory,\n",
    "    scheduler,\n",
    "    filter_scheduler=filter_scheduler,\n",
    "    sim_start_mjd=mjd,\n",
    "    sim_duration=sim_duration,\n",
    "    n_visit_limit=None,\n",
    "    step_none=10.0,\n",
    "    verbose=True,\n",
    "    record_rewards=False,\n",
    "    start_result_size=int(2e4),\n",
    "    append_result_size=int(2.5e4),\n",
    ")"
   ]
  },
  {
   "cell_type": "code",
   "execution_count": null,
   "id": "89f94b84-d2d5-4ca5-918e-469da219cbea",
   "metadata": {},
   "outputs": [],
   "source": [
    "sc = SchemaConverter()\n",
    "visits = sc.obs2opsim(observations)"
   ]
  },
  {
   "cell_type": "code",
   "execution_count": null,
   "id": "aebb3ede-c658-4108-897d-f12333de3cdf",
   "metadata": {},
   "outputs": [],
   "source": [
    "visits.columns"
   ]
  },
  {
   "cell_type": "code",
   "execution_count": null,
   "id": "130cf59b-4e5c-4afa-85d1-c22f39c432ba",
   "metadata": {},
   "outputs": [],
   "source": [
    "sorted(np.unique(visits['target_name']))"
   ]
  },
  {
   "cell_type": "code",
   "execution_count": null,
   "id": "9565d1d0-d880-4ded-9725-46aabd8b7183",
   "metadata": {},
   "outputs": [],
   "source": [
    "visits[['target_name', 'filter']][0:60]"
   ]
  },
  {
   "cell_type": "code",
   "execution_count": null,
   "id": "7c0d2c59-ac03-4cca-a2b2-0aafbe083a3e",
   "metadata": {},
   "outputs": [],
   "source": []
  },
  {
   "cell_type": "code",
   "execution_count": null,
   "id": "24291767-a779-452e-802b-fdb594de3c20",
   "metadata": {},
   "outputs": [],
   "source": [
    "observations"
   ]
  },
  {
   "cell_type": "code",
   "execution_count": null,
   "id": "b98b58d0-9520-4cae-ab16-b2fde489f17b",
   "metadata": {},
   "outputs": [],
   "source": [
    "scheduler.survey_lists[0][0].calc_reward_function(conditions)"
   ]
  },
  {
   "cell_type": "code",
   "execution_count": null,
   "id": "ed101454-7f89-483d-bd66-c16c036c2eb6",
   "metadata": {},
   "outputs": [],
   "source": [
    "scheduler.survey_lists[0][0].generate_observations(conditions)"
   ]
  },
  {
   "cell_type": "code",
   "execution_count": null,
   "id": "cce03d5c-40c8-42fe-938a-eb1e2c6fae35",
   "metadata": {},
   "outputs": [],
   "source": [
    "scheduler.survey_lists[0][0]._check_feasibility(conditions)"
   ]
  },
  {
   "cell_type": "code",
   "execution_count": null,
   "id": "3a8033fd-fe2c-4df0-8fca-c8f52216d40c",
   "metadata": {},
   "outputs": [],
   "source": [
    "scheduler.survey_lists[0][0].indx"
   ]
  },
  {
   "cell_type": "code",
   "execution_count": null,
   "id": "b37d657b-d280-4a76-a4ac-5c93d895ad58",
   "metadata": {},
   "outputs": [],
   "source": [
    "scheduler.survey_lists[0][0].basis_weights"
   ]
  },
  {
   "cell_type": "code",
   "execution_count": null,
   "id": "e0af73f9-4eef-49a4-8118-7fd0a017d02b",
   "metadata": {},
   "outputs": [],
   "source": [
    "import healpy as hp"
   ]
  },
  {
   "cell_type": "code",
   "execution_count": null,
   "id": "8844d843-9be4-479e-963e-2fe30e82438c",
   "metadata": {},
   "outputs": [],
   "source": [
    "np.unique(scheduler.survey_lists[0][0].basis_functions[0](conditions))"
   ]
  },
  {
   "cell_type": "code",
   "execution_count": null,
   "id": "12bbb2b0-967d-47fc-a539-16aa7edfdfd1",
   "metadata": {},
   "outputs": [],
   "source": [
    "hp.mollview(scheduler.survey_lists[0][0].basis_functions[1](conditions))"
   ]
  },
  {
   "cell_type": "code",
   "execution_count": null,
   "id": "0145863e-c999-4df1-b718-2e0d4f4f9ec3",
   "metadata": {},
   "outputs": [],
   "source": [
    "scheduler.survey_lists[0][0].basis_functions[1](conditions)[scheduler.survey_lists[0][0].indx]"
   ]
  },
  {
   "cell_type": "code",
   "execution_count": null,
   "id": "94bf1621-8dba-4dc6-9981-09ddd5c04489",
   "metadata": {},
   "outputs": [],
   "source": [
    "reward = 0\n",
    "for bf, weight in zip(scheduler.survey_lists[0][0].basis_functions, scheduler.survey_lists[0][0].basis_weights):\n",
    "    basis_value = bf(conditions, indx=scheduler.survey_lists[0][0].indx)\n",
    "    reward += basis_value * weight"
   ]
  },
  {
   "cell_type": "code",
   "execution_count": null,
   "id": "de7d7f79-3086-4d55-a719-f4fcd5f8992f",
   "metadata": {},
   "outputs": [],
   "source": [
    "hp.mollview(reward)"
   ]
  },
  {
   "cell_type": "code",
   "execution_count": null,
   "id": "80832ecf-6659-4846-858d-84e8603d546b",
   "metadata": {},
   "outputs": [],
   "source": [
    "reward[scheduler.survey_lists[0][0].indx]"
   ]
  },
  {
   "cell_type": "code",
   "execution_count": null,
   "id": "8750b181-d5d8-4f6f-aa00-5ccec01e5e68",
   "metadata": {},
   "outputs": [],
   "source": [
    "if not np.isscalar(reward):\n",
    "    reward = np.sum(reward[scheduler.survey_lists[0][0].indx])"
   ]
  },
  {
   "cell_type": "code",
   "execution_count": null,
   "id": "0042e812-8fe4-49b0-8b6d-8a88f2a82fef",
   "metadata": {},
   "outputs": [],
   "source": [
    "2 * reward"
   ]
  },
  {
   "cell_type": "code",
   "execution_count": null,
   "id": "110099d7-63f1-4ee5-a3c6-839967cc9b0a",
   "metadata": {},
   "outputs": [],
   "source": [
    "dir(scheduler.survey_lists[0][0])"
   ]
  },
  {
   "cell_type": "code",
   "execution_count": null,
   "id": "113c8d46-2779-457a-9400-f6cabe1b9b49",
   "metadata": {},
   "outputs": [],
   "source": [
    "conditions.mounted_filters"
   ]
  },
  {
   "cell_type": "code",
   "execution_count": null,
   "id": "d73ad870-2740-46dd-bda8-c33be087b72e",
   "metadata": {},
   "outputs": [],
   "source": [
    "print(conditions.tel_alt)\n",
    "print(conditions.tel_az)\n",
    "print(conditions.tel_ra)\n",
    "print(conditions.tel_dec)"
   ]
  },
  {
   "cell_type": "code",
   "execution_count": null,
   "id": "61a8c356-8bbb-4cbf-9f95-24a26e7d800c",
   "metadata": {},
   "outputs": [],
   "source": []
  },
  {
   "cell_type": "code",
   "execution_count": null,
   "id": "520c2c08-cc41-4ca9-aab1-d67075b8b6f5",
   "metadata": {},
   "outputs": [],
   "source": []
  },
  {
   "cell_type": "code",
   "execution_count": null,
   "id": "3720752d-b18e-4105-9268-242b43030211",
   "metadata": {},
   "outputs": [],
   "source": []
  },
  {
   "cell_type": "code",
   "execution_count": null,
   "id": "e0681f99-12b4-444b-b1c4-c8ec6c4b0751",
   "metadata": {},
   "outputs": [],
   "source": [
    "from astroplan.plots import plot_airmass\n",
    "from astroplan import Observer, FixedTarget\n",
    "from astropy.coordinates import SkyCoord\n",
    "\n",
    "import matplotlib.pyplot as plt"
   ]
  },
  {
   "cell_type": "code",
   "execution_count": null,
   "id": "5bc1c47b-3e77-4231-8cde-79266ae34d54",
   "metadata": {},
   "outputs": [],
   "source": [
    "observer = Observer.at_site(\"LSST\")"
   ]
  },
  {
   "cell_type": "code",
   "execution_count": null,
   "id": "b47da500-148b-4004-a4a9-1d28fa8b98f7",
   "metadata": {},
   "outputs": [],
   "source": [
    "time = observer.midnight(time=Time('2024-11-04 00:00:00.000', format='iso'), which='nearest')"
   ]
  },
  {
   "cell_type": "code",
   "execution_count": null,
   "id": "3e0e2a5e-a103-41cb-9e35-924c6e018098",
   "metadata": {},
   "outputs": [],
   "source": [
    "observer.twilight_evening_astronomical(time=Time('2024-11-04 00:00:00.000', format='iso'), which='nearest').iso"
   ]
  },
  {
   "cell_type": "code",
   "execution_count": null,
   "id": "3bc1fcbb-6695-4efb-8a36-33972b7bc078",
   "metadata": {},
   "outputs": [],
   "source": [
    "dir(observer)"
   ]
  },
  {
   "cell_type": "code",
   "execution_count": null,
   "id": "26d078b8-107b-48ea-8e85-91139570c9ce",
   "metadata": {},
   "outputs": [],
   "source": [
    "ra = 30.0\n",
    "dec = -60.0\n",
    "name = 'target'\n",
    "targets = [\n",
    "    FixedTarget(SkyCoord(ra, dec, unit='deg', frame='icrs'), name=name)\n",
    "]"
   ]
  },
  {
   "cell_type": "code",
   "execution_count": null,
   "id": "03a0b0bd-3ccf-453c-b104-435a72cd5673",
   "metadata": {},
   "outputs": [],
   "source": [
    "plt.figure()\n",
    "plt.clf()\n",
    "ax = plot_airmass(targets, observer, time, brightness_shading=True, altitude_yaxis=True)\n",
    "ax.legend(loc='lower right')\n",
    "plt.tight_layout()\n",
    "plt.show()"
   ]
  },
  {
   "cell_type": "code",
   "execution_count": null,
   "id": "25c03c96-f9da-4b09-8478-6cc1dbc8e865",
   "metadata": {},
   "outputs": [],
   "source": []
  },
  {
   "cell_type": "code",
   "execution_count": null,
   "id": "b186ebf9-0acd-4062-9fdf-836a3c72b71f",
   "metadata": {},
   "outputs": [],
   "source": []
  },
  {
   "cell_type": "code",
   "execution_count": null,
   "id": "c31ef27a-c3d1-4082-9e6f-43cbf007cd82",
   "metadata": {},
   "outputs": [],
   "source": []
  },
  {
   "cell_type": "code",
   "execution_count": null,
   "id": "067929ea-fad7-4966-b009-6cb7a55b36e9",
   "metadata": {},
   "outputs": [],
   "source": []
  },
  {
   "cell_type": "code",
   "execution_count": null,
   "id": "a3fcd77a-b036-4096-ab6a-e11efb9eb2e6",
   "metadata": {},
   "outputs": [],
   "source": [
    "def get_scheduler():\n",
    "    nside = 32\n",
    "    #per_night = True  # Dither DDF per night\n",
    "    #detailer = detailers.DitherDetailer(max_dither=0.2, per_night=False)\n",
    "    #n_offsets = 30\n",
    "    #night = 42\n",
    "    #offsets = np.degrees(detailer._generate_offsets(n_offsets, night))\n",
    "    camera_ddf_rot_limit = 75.0\n",
    "    # Existing\n",
    "    #observatory = ModelObservatory(nside=nside, mjd_start=MJD_START)\n",
    "\n",
    "    # New\n",
    "    filter_scheduler = ComCamFilterSched(\n",
    "        loaded_filter_groups=(('g', 'r', 'i'),),\n",
    "        illum_bins=(0, 100)\n",
    "    )\n",
    "    dayobs = '20241103'\n",
    "    observatory = get_model_observatory(dayobs)\n",
    "    observatory = update_model_observatory_sunset(observatory, filter_scheduler)\n",
    "\n",
    "    \n",
    "    observatory.sky_model.load_length = 3\n",
    "    #observatory = update_model_observatory_sunset(observatory, filter_scheduler)\n",
    "    conditions = observatory.return_conditions()\n",
    "    sky = SkyAreaGenerator(nside=nside)\n",
    "    footprints_hp, footprints_labels = sky.return_maps()\n",
    "    footprints = Footprint(\n",
    "        MJD_START,\n",
    "        sun_ra_start=conditions.sun_ra,\n",
    "        nside=nside,\n",
    "        filters=[\"u\", \"g\", \"r_03\", \"i_06\", \"z\", \"y\"],\n",
    "    )\n",
    "    for i, key in enumerate(footprints_hp.dtype.names):\n",
    "        footprints.footprints[i, :] = footprints_hp[key]\n",
    "    footprints.filters = dict(\n",
    "        u=0,\n",
    "        g=1,\n",
    "        r_03=2,\n",
    "        i_06=3,\n",
    "        z=4,\n",
    "        y=5,\n",
    "    )\n",
    "    filters_list = [\n",
    "        \"i_06\",\n",
    "        \"r_03\"\n",
    "    ]\n",
    "    surveys = []\n",
    "    i = 0\n",
    "    for filter in filters_list:\n",
    "        for offset in range(0, 31):\n",
    "            surveys.append(gen_field_survey(f'BLOCK-T248_{i}'), sequence=[filter])\n",
    "            i += 1\n",
    "    scheduler = CoreScheduler(surveys, nside=nside)\n",
    "\n",
    "    return nside, scheduler"
   ]
  },
  {
   "cell_type": "code",
   "execution_count": null,
   "id": "a50580ac-947b-4fcc-a303-276c05c77e22",
   "metadata": {},
   "outputs": [],
   "source": [
    "nside, scheduler = get_scheduler()"
   ]
  },
  {
   "cell_type": "code",
   "execution_count": null,
   "id": "864a2cbd-6901-4c7e-865c-5b5249de7862",
   "metadata": {},
   "outputs": [],
   "source": []
  }
 ],
 "metadata": {
  "kernelspec": {
   "display_name": "rubin-sim",
   "language": "python",
   "name": "rubin-sim"
  },
  "language_info": {
   "codemirror_mode": {
    "name": "ipython",
    "version": 3
   },
   "file_extension": ".py",
   "mimetype": "text/x-python",
   "name": "python",
   "nbconvert_exporter": "python",
   "pygments_lexer": "ipython3",
   "version": "3.11.6"
  }
 },
 "nbformat": 4,
 "nbformat_minor": 5
}
