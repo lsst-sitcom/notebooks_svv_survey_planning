{
 "cells": [
  {
   "cell_type": "markdown",
   "id": "40a3858e-ae2d-4c82-a52a-69d36c160346",
   "metadata": {
    "execution": {
     "iopub.execute_input": "2024-11-24T17:57:59.443838Z",
     "iopub.status.busy": "2024-11-24T17:57:59.443527Z",
     "iopub.status.idle": "2024-11-24T17:57:59.446183Z",
     "shell.execute_reply": "2024-11-24T17:57:59.445802Z",
     "shell.execute_reply.started": "2024-11-24T17:57:59.443820Z"
    }
   },
   "source": [
    "# ComCam Science Programs Survey Progress"
   ]
  },
  {
   "cell_type": "code",
   "execution_count": null,
   "id": "9fe6aba9-12b7-42b7-b85d-bcaa981895f5",
   "metadata": {},
   "outputs": [],
   "source": [
    "import numpy as np\n",
    "import matplotlib.pyplot as plt\n",
    "%matplotlib widget"
   ]
  },
  {
   "cell_type": "code",
   "execution_count": null,
   "id": "0ebb86e8-d6d4-4d0a-9475-ba08bd5f7777",
   "metadata": {},
   "outputs": [],
   "source": [
    "import os\n",
    "os.environ[\"no_proxy\"] += \",.consdb\"\n",
    "\n",
    "from lsst.summit.utils import ConsDbClient\n",
    "\n",
    "client = ConsDbClient(\"http://consdb-pq.consdb:8080/consdb\")"
   ]
  },
  {
   "cell_type": "markdown",
   "id": "28a30de3-82f5-42a6-8a59-6c67422d9512",
   "metadata": {},
   "source": [
    "## All ComCam Exposures"
   ]
  },
  {
   "cell_type": "code",
   "execution_count": null,
   "id": "bbd083bc-6a03-40d8-95d6-b2db6765949d",
   "metadata": {},
   "outputs": [],
   "source": [
    "instrument = 'lsstcomcam'\n",
    "\n",
    "visits_query = f'''\n",
    "    SELECT * FROM cdb_{instrument}.exposure\n",
    "'''\n",
    "\n",
    "visits = client.query(visits_query).to_pandas()"
   ]
  },
  {
   "cell_type": "code",
   "execution_count": null,
   "id": "468ea8b3-1930-470d-ae01-8d03654860af",
   "metadata": {},
   "outputs": [],
   "source": [
    "for img_type in np.unique(visits['img_type']):\n",
    "    print(img_type, np.sum(visits['img_type'] == img_type))"
   ]
  },
  {
   "cell_type": "markdown",
   "id": "6f8a111d-5242-4b47-b5b4-02a34e7c3a40",
   "metadata": {
    "execution": {
     "iopub.execute_input": "2024-11-24T18:17:03.615807Z",
     "iopub.status.busy": "2024-11-24T18:17:03.615522Z",
     "iopub.status.idle": "2024-11-24T18:17:03.617946Z",
     "shell.execute_reply": "2024-11-24T18:17:03.617573Z",
     "shell.execute_reply.started": "2024-11-24T18:17:03.615792Z"
    }
   },
   "source": [
    "## Science Program Exposures"
   ]
  },
  {
   "cell_type": "code",
   "execution_count": null,
   "id": "fa05c023-3054-421f-a289-3af9f6d7f268",
   "metadata": {},
   "outputs": [],
   "source": [
    "instrument = 'lsstcomcam'\n",
    "\n",
    "visits_query = f'''\n",
    "    SELECT * FROM cdb_{instrument}.exposure\n",
    "    WHERE img_type IN ('OBJECT', 'ACQ')\n",
    "    AND science_program IN ('BLOCK-320', 'PP-SURVEY', 'BLOCK-T248')\n",
    "'''\n",
    "\n",
    "visits = client.query(visits_query).to_pandas()"
   ]
  },
  {
   "cell_type": "code",
   "execution_count": null,
   "id": "c77384ff-3cc2-45bf-a15e-733eff7e6a04",
   "metadata": {},
   "outputs": [],
   "source": [
    "visits.columns"
   ]
  },
  {
   "cell_type": "code",
   "execution_count": null,
   "id": "0e4eadda-cd4f-4f40-b2e4-1fed3e934c90",
   "metadata": {
    "scrolled": true
   },
   "outputs": [],
   "source": [
    "visits"
   ]
  },
  {
   "cell_type": "code",
   "execution_count": null,
   "id": "e9c5c026-0672-48bd-8c6e-d5a9bef8b0a7",
   "metadata": {},
   "outputs": [],
   "source": [
    "np.unique(visits['img_type'])"
   ]
  },
  {
   "cell_type": "code",
   "execution_count": null,
   "id": "ab9ef41b-f33e-4ea5-a34f-999d0be2e44e",
   "metadata": {},
   "outputs": [],
   "source": [
    "np.unique(visits['science_program'])"
   ]
  },
  {
   "cell_type": "code",
   "execution_count": null,
   "id": "9dcbcbbb-7e86-44f3-8da1-3e797a29a772",
   "metadata": {},
   "outputs": [],
   "source": [
    "bands = {'u': 'purple', 'g': 'blue', 'r': 'green', 'i': 'cyan', 'z': 'orange', 'y': 'red'}"
   ]
  },
  {
   "cell_type": "code",
   "execution_count": null,
   "id": "162e8832-ba70-43c1-a268-159144290e40",
   "metadata": {},
   "outputs": [],
   "source": [
    "for band in bands:\n",
    "    print(band, np.sum(visits['band'] == band))"
   ]
  },
  {
   "cell_type": "code",
   "execution_count": null,
   "id": "584c888c-b19a-4b2a-8444-17f11f8174c6",
   "metadata": {},
   "outputs": [],
   "source": [
    "for day_obs in np.unique(visits['day_obs']):\n",
    "    print(day_obs, np.sum(visits['day_obs'] == day_obs))"
   ]
  },
  {
   "cell_type": "code",
   "execution_count": null,
   "id": "e3f8caf0-f1dc-4f03-9462-fd55aa7d47c1",
   "metadata": {},
   "outputs": [],
   "source": [
    "visits.value_counts('day_obs').values"
   ]
  },
  {
   "cell_type": "code",
   "execution_count": null,
   "id": "f9c5b4ba-9c88-4dc2-b2fd-816e4f36339d",
   "metadata": {},
   "outputs": [],
   "source": [
    "xticks = np.arange(np.min(visits['day_obs']), np.max(visits['day_obs']) + 1)\n",
    "xtick_labels = xticks.astype(str)\n",
    "\n",
    "plt.figure()\n",
    "plt.scatter(visits.value_counts('day_obs').index.values, visits.value_counts('day_obs').values, c='black', label='Total')\n",
    "for band in bands:\n",
    "    selection = (visits['band'] == band)\n",
    "    plt.scatter(visits[selection].value_counts('day_obs').index.values, \n",
    "                visits[selection].value_counts('day_obs').values, \n",
    "                c=bands[band], label=band)\n",
    "\n",
    "plt.legend()\n",
    "plt.xticks(xticks, xtick_labels, rotation=45.)\n",
    "plt.ylabel('Visit Count')\n",
    "plt.tight_layout()"
   ]
  },
  {
   "cell_type": "code",
   "execution_count": null,
   "id": "d3a22df0-6162-4589-9648-544f067d036f",
   "metadata": {},
   "outputs": [],
   "source": [
    "from astropy.coordinates import SkyCoord\n",
    "from astroplan import FixedTarget\n",
    "\n",
    "targets = [\n",
    "    FixedTarget(SkyCoord(6.022329,-72.081444, unit='deg', frame='icrs'), name='47_Tuc'),\n",
    "    FixedTarget(SkyCoord(37.9, 7.0, unit='deg', frame='icrs'), name='Rubin_SV_38_7'),\n",
    "    FixedTarget(SkyCoord(39.9971, -34.4492, unit='deg', frame='icrs'), name='Fornax_dSph'),\n",
    "    FixedTarget(SkyCoord(53.125, -28.1, unit='deg', frame='icrs'), name='ECDFS'),\n",
    "    FixedTarget(SkyCoord(59.1004, -48.73, unit='deg', frame='icrs'), name='EDFS_ComCam'),\n",
    "    FixedTarget(SkyCoord(95.0, -25.0, unit='deg', frame='icrs'), name='Rubin_SV_95_-25'),\n",
    "    FixedTarget(SkyCoord(106.23, -10.51, unit='deg', frame='icrs'), name='Seagull'),\n",
    "]"
   ]
  },
  {
   "cell_type": "code",
   "execution_count": null,
   "id": "785567be-3194-4c3d-aed4-4e20048fe06d",
   "metadata": {},
   "outputs": [],
   "source": [
    "visits_coord = SkyCoord(visits['s_ra'], visits['s_dec'], unit='deg', frame='icrs')"
   ]
  },
  {
   "cell_type": "code",
   "execution_count": null,
   "id": "f59568be-499a-4cde-8e0a-bb8cefb367be",
   "metadata": {},
   "outputs": [],
   "source": [
    "for target in targets:\n",
    "    print(target.name)\n",
    "    angsep = target.coord.separation(visits_coord).deg\n",
    "    selection_angle = angsep < 2.\n",
    "\n",
    "    for band in bands:\n",
    "        selection_band = (visits['band'] == band)\n",
    "        print(band, np.sum(selection_angle & selection_band))\n",
    "\n",
    "    print('')"
   ]
  },
  {
   "cell_type": "code",
   "execution_count": null,
   "id": "aef10410-9bdc-497f-9216-47f2274c3e05",
   "metadata": {},
   "outputs": [],
   "source": [
    "for target in targets:\n",
    "\n",
    "    angsep = target.coord.separation(visits_coord).deg\n",
    "    selection_angle = angsep < 2.\n",
    "\n",
    "    if not np.any(selection_angle):\n",
    "        continue\n",
    "    \n",
    "    plt.figure()\n",
    "    for band in bands:\n",
    "        selection_band = (visits['band'] == band) \n",
    "        if np.any(selection_angle & selection_band):\n",
    "            #print(band, np.sum(selection & selection_band))\n",
    "            plt.scatter(visits['day_obs'][selection_angle & selection_band], \n",
    "                        # visits['exp_midpt_mjd'][selection_angle & selection_band],\n",
    "                        visits['airmass'][selection_angle & selection_band], \n",
    "                        c=bands[band], marker='_', label=band)\n",
    "    plt.legend(loc='lower left')\n",
    "    #plt.xlabel('MJD')\n",
    "    plt.xlim(np.min(xticks) - 0.5, np.max(xticks) + 0.5)\n",
    "    plt.xticks(xticks, xtick_labels, rotation=45.)\n",
    "    plt.ylabel('Airmass')\n",
    "    #xtick_labels = [_.split()[0] for _ in Time(plt.xticks()[0], format='mjd').iso]\n",
    "    #plt.xticks(plt.xticks()[0], xtick_labels, rotation=45)\n",
    "    plt.ylim(1.5, 1.0)\n",
    "    plt.title(target.name)\n",
    "    plt.tight_layout()"
   ]
  },
  {
   "cell_type": "code",
   "execution_count": null,
   "id": "8f378d70-9496-4b5f-80ab-465047ed047d",
   "metadata": {},
   "outputs": [],
   "source": []
  }
 ],
 "metadata": {
  "kernelspec": {
   "display_name": "LSST",
   "language": "python",
   "name": "lsst"
  },
  "language_info": {
   "codemirror_mode": {
    "name": "ipython",
    "version": 3
   },
   "file_extension": ".py",
   "mimetype": "text/x-python",
   "name": "python",
   "nbconvert_exporter": "python",
   "pygments_lexer": "ipython3",
   "version": "3.11.9"
  }
 },
 "nbformat": 4,
 "nbformat_minor": 5
}
