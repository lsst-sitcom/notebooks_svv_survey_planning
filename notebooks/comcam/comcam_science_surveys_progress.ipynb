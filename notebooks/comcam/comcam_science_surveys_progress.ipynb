{
 "cells": [
  {
   "cell_type": "markdown",
   "id": "40a3858e-ae2d-4c82-a52a-69d36c160346",
   "metadata": {
    "execution": {
     "iopub.execute_input": "2024-11-24T17:57:59.443838Z",
     "iopub.status.busy": "2024-11-24T17:57:59.443527Z",
     "iopub.status.idle": "2024-11-24T17:57:59.446183Z",
     "shell.execute_reply": "2024-11-24T17:57:59.445802Z",
     "shell.execute_reply.started": "2024-11-24T17:57:59.443820Z"
    }
   },
   "source": [
    "# ComCam Science Programs Survey Progress"
   ]
  },
  {
   "cell_type": "code",
   "execution_count": null,
   "id": "9fe6aba9-12b7-42b7-b85d-bcaa981895f5",
   "metadata": {},
   "outputs": [],
   "source": [
    "import numpy as np\n",
    "import matplotlib.pyplot as plt\n",
    "%matplotlib widget"
   ]
  },
  {
   "cell_type": "code",
   "execution_count": null,
   "id": "0ebb86e8-d6d4-4d0a-9475-ba08bd5f7777",
   "metadata": {},
   "outputs": [],
   "source": [
    "import os\n",
    "os.environ[\"no_proxy\"] += \",.consdb\"\n",
    "\n",
    "from lsst.summit.utils import ConsDbClient\n",
    "\n",
    "client = ConsDbClient(\"http://consdb-pq.consdb:8080/consdb\")"
   ]
  },
  {
   "cell_type": "markdown",
   "id": "28a30de3-82f5-42a6-8a59-6c67422d9512",
   "metadata": {},
   "source": [
    "## All ComCam Exposures"
   ]
  },
  {
   "cell_type": "code",
   "execution_count": null,
   "id": "bbd083bc-6a03-40d8-95d6-b2db6765949d",
   "metadata": {},
   "outputs": [],
   "source": [
    "instrument = 'lsstcomcam'\n",
    "\n",
    "visits_query = f'''\n",
    "    SELECT * FROM cdb_{instrument}.exposure\n",
    "'''\n",
    "\n",
    "visits = client.query(visits_query).to_pandas()"
   ]
  },
  {
   "cell_type": "code",
   "execution_count": null,
   "id": "468ea8b3-1930-470d-ae01-8d03654860af",
   "metadata": {},
   "outputs": [],
   "source": [
    "for img_type in np.unique(visits['img_type']):\n",
    "    print(img_type, np.sum(visits['img_type'] == img_type))"
   ]
  },
  {
   "cell_type": "markdown",
   "id": "6f8a111d-5242-4b47-b5b4-02a34e7c3a40",
   "metadata": {
    "execution": {
     "iopub.execute_input": "2024-11-24T18:17:03.615807Z",
     "iopub.status.busy": "2024-11-24T18:17:03.615522Z",
     "iopub.status.idle": "2024-11-24T18:17:03.617946Z",
     "shell.execute_reply": "2024-11-24T18:17:03.617573Z",
     "shell.execute_reply.started": "2024-11-24T18:17:03.615792Z"
    }
   },
   "source": [
    "## Science Program Exposures"
   ]
  },
  {
   "cell_type": "code",
   "execution_count": null,
   "id": "fa05c023-3054-421f-a289-3af9f6d7f268",
   "metadata": {},
   "outputs": [],
   "source": [
    "instrument = 'lsstcomcam'\n",
    "\n",
    "visits_query = f'''\n",
    "    SELECT * FROM cdb_{instrument}.exposure\n",
    "    WHERE img_type IN ('OBJECT', 'ACQ')\n",
    "    AND science_program IN ('BLOCK-320', 'PP-SURVEY', 'BLOCK-T248')\n",
    "'''\n",
    "\n",
    "visits = client.query(visits_query).to_pandas()"
   ]
  },
  {
   "cell_type": "code",
   "execution_count": null,
   "id": "c77384ff-3cc2-45bf-a15e-733eff7e6a04",
   "metadata": {},
   "outputs": [],
   "source": [
    "visits.columns"
   ]
  },
  {
   "cell_type": "code",
   "execution_count": null,
   "id": "0e4eadda-cd4f-4f40-b2e4-1fed3e934c90",
   "metadata": {
    "scrolled": true
   },
   "outputs": [],
   "source": [
    "visits"
   ]
  },
  {
   "cell_type": "code",
   "execution_count": null,
   "id": "e9c5c026-0672-48bd-8c6e-d5a9bef8b0a7",
   "metadata": {},
   "outputs": [],
   "source": [
    "np.unique(visits['img_type'])"
   ]
  },
  {
   "cell_type": "code",
   "execution_count": null,
   "id": "ab9ef41b-f33e-4ea5-a34f-999d0be2e44e",
   "metadata": {},
   "outputs": [],
   "source": [
    "np.unique(visits['science_program'])"
   ]
  },
  {
   "cell_type": "markdown",
   "id": "e3134601-9e40-4321-b74b-b6b55790a201",
   "metadata": {},
   "source": [
    "### Distribution by Band"
   ]
  },
  {
   "cell_type": "code",
   "execution_count": null,
   "id": "9dcbcbbb-7e86-44f3-8da1-3e797a29a772",
   "metadata": {},
   "outputs": [],
   "source": [
    "bands = {'u': 'purple', 'g': 'blue', 'r': 'green', 'i': 'cyan', 'z': 'orange', 'y': 'red'}"
   ]
  },
  {
   "cell_type": "code",
   "execution_count": null,
   "id": "162e8832-ba70-43c1-a268-159144290e40",
   "metadata": {},
   "outputs": [],
   "source": [
    "for band in bands:\n",
    "    print(band, np.sum(visits['band'] == band))"
   ]
  },
  {
   "cell_type": "markdown",
   "id": "b4f067c7-4517-4f04-bc55-11c3b136b751",
   "metadata": {},
   "source": [
    "### Distribution by day_obs"
   ]
  },
  {
   "cell_type": "code",
   "execution_count": null,
   "id": "584c888c-b19a-4b2a-8444-17f11f8174c6",
   "metadata": {},
   "outputs": [],
   "source": [
    "for day_obs in np.unique(visits['day_obs']):\n",
    "    print(day_obs, np.sum(visits['day_obs'] == day_obs))"
   ]
  },
  {
   "cell_type": "code",
   "execution_count": null,
   "id": "e3f8caf0-f1dc-4f03-9462-fd55aa7d47c1",
   "metadata": {},
   "outputs": [],
   "source": [
    "visits.value_counts('day_obs').values"
   ]
  },
  {
   "cell_type": "code",
   "execution_count": null,
   "id": "dc6b2c7c-e110-46e8-a23f-3807da62cb38",
   "metadata": {},
   "outputs": [],
   "source": [
    "from astropy.time import Time"
   ]
  },
  {
   "cell_type": "code",
   "execution_count": null,
   "id": "d8c63b6b-7699-4ca7-8011-ceb37cb31b95",
   "metadata": {},
   "outputs": [],
   "source": [
    "def dayObsToMJD(day_obs):\n",
    "    year = np.floor(day_obs / 10000).astype(int)\n",
    "    month = np.floor((day_obs % 10000) / 100).astype(int)\n",
    "    day = day_obs % 100\n",
    "    time = Time({'year': year, 'month': month, 'day': day}, format='ymdhms')\n",
    "    return time.mjd"
   ]
  },
  {
   "cell_type": "code",
   "execution_count": null,
   "id": "b761cfdf-ed43-4bf5-ba67-16a8597488c6",
   "metadata": {},
   "outputs": [],
   "source": [
    "def MJDToDayObs(mjd):\n",
    "    time = Time(mjd, format='mjd')\n",
    "    return np.array([_.iso.split()[0].replace('-', '') for _ in time])"
   ]
  },
  {
   "cell_type": "code",
   "execution_count": null,
   "id": "12d06397-8a75-459a-94ae-783c324534c1",
   "metadata": {},
   "outputs": [],
   "source": [
    "#year = np.floor(visits['day_obs'].values / 10000).astype(int)"
   ]
  },
  {
   "cell_type": "code",
   "execution_count": null,
   "id": "407376f4-e6ff-4418-a922-fb2f7f249833",
   "metadata": {},
   "outputs": [],
   "source": [
    "#month = np.floor((visits['day_obs'].values % 10000) / 100).astype(int)"
   ]
  },
  {
   "cell_type": "code",
   "execution_count": null,
   "id": "72b528e8-74eb-4446-8459-0d22c653f099",
   "metadata": {},
   "outputs": [],
   "source": [
    "#day = visits['day_obs'].values % 100"
   ]
  },
  {
   "cell_type": "code",
   "execution_count": null,
   "id": "c92460fa-10c2-43c7-8c65-38a003210e81",
   "metadata": {},
   "outputs": [],
   "source": [
    "#Time({'year': year, 'month': month, 'day': day}).mjd"
   ]
  },
  {
   "cell_type": "code",
   "execution_count": null,
   "id": "2be7b2e4-4cd8-4ff1-8d87-fd8048b9e9f2",
   "metadata": {},
   "outputs": [],
   "source": [
    "#mjd = np.unique(dayObsToMJD(visits['day_obs']))"
   ]
  },
  {
   "cell_type": "code",
   "execution_count": null,
   "id": "ed1b7378-a2f3-464f-8209-93ffc7ac8bd5",
   "metadata": {},
   "outputs": [],
   "source": [
    "#MJDToDayObs(mjd)"
   ]
  },
  {
   "cell_type": "code",
   "execution_count": null,
   "id": "7f9cff55-1886-4623-9edb-72ad80d3fbcb",
   "metadata": {},
   "outputs": [],
   "source": [
    "#np.unique(visits['day_obs'])"
   ]
  },
  {
   "cell_type": "code",
   "execution_count": null,
   "id": "df21463c-1cce-409e-9f47-bfd94d8c041e",
   "metadata": {},
   "outputs": [],
   "source": [
    "#dayObstoMJD(visits.value_counts('day_obs').index.values)"
   ]
  },
  {
   "cell_type": "code",
   "execution_count": null,
   "id": "7c3dce56-7791-49ea-af0a-c9eebb27016b",
   "metadata": {},
   "outputs": [],
   "source": [
    "#np.arange(np.min(visits['day_obs']), np.max(visits['day_obs']) + 2)[::2]"
   ]
  },
  {
   "cell_type": "code",
   "execution_count": null,
   "id": "f9c5b4ba-9c88-4dc2-b2fd-816e4f36339d",
   "metadata": {},
   "outputs": [],
   "source": [
    "mjd = dayObsToMJD(visits['day_obs'])\n",
    "xticks = np.arange(np.min(mjd), np.max(mjd) + 2)[::2]\n",
    "xtick_labels = MJDToDayObs(xticks)\n",
    "\n",
    "plt.figure()\n",
    "plt.scatter(dayObstoMJD(visits.value_counts('day_obs').index.values), \n",
    "            visits.value_counts('day_obs').values, c='black', label='Total')\n",
    "for band in bands:\n",
    "    selection = (visits['band'] == band)\n",
    "    plt.scatter(dayObstoMJD(visits[selection].value_counts('day_obs').index.values), \n",
    "                visits[selection].value_counts('day_obs').values, \n",
    "                c=bands[band], label=band)\n",
    "\n",
    "plt.legend(loc='upper left')\n",
    "plt.xticks(xticks, xtick_labels, rotation=45.)\n",
    "plt.ylabel('Visit Count')\n",
    "plt.grid()\n",
    "plt.tight_layout()"
   ]
  },
  {
   "cell_type": "markdown",
   "id": "e10dbb21-f593-42fb-8fee-2b7b43338437",
   "metadata": {},
   "source": [
    "### Distribution by target"
   ]
  },
  {
   "cell_type": "code",
   "execution_count": null,
   "id": "d3a22df0-6162-4589-9648-544f067d036f",
   "metadata": {},
   "outputs": [],
   "source": [
    "from astropy.coordinates import SkyCoord\n",
    "from astroplan import FixedTarget\n",
    "\n",
    "targets = [\n",
    "    FixedTarget(SkyCoord(6.022329,-72.081444, unit='deg', frame='icrs'), name='47_Tuc'),\n",
    "    FixedTarget(SkyCoord(37.9, 7.0, unit='deg', frame='icrs'), name='Rubin_SV_38_7'),\n",
    "    FixedTarget(SkyCoord(39.9971, -34.4492, unit='deg', frame='icrs'), name='Fornax_dSph'),\n",
    "    FixedTarget(SkyCoord(53.125, -28.1, unit='deg', frame='icrs'), name='ECDFS'),\n",
    "    FixedTarget(SkyCoord(59.1004, -48.73, unit='deg', frame='icrs'), name='EDFS_ComCam'),\n",
    "    FixedTarget(SkyCoord(95.0, -25.0, unit='deg', frame='icrs'), name='Rubin_SV_095_-25'),\n",
    "    FixedTarget(SkyCoord(106.23, -10.51, unit='deg', frame='icrs'), name='Seagull'),\n",
    "]"
   ]
  },
  {
   "cell_type": "code",
   "execution_count": null,
   "id": "785567be-3194-4c3d-aed4-4e20048fe06d",
   "metadata": {},
   "outputs": [],
   "source": [
    "visits_coord = SkyCoord(visits['s_ra'], visits['s_dec'], unit='deg', frame='icrs')"
   ]
  },
  {
   "cell_type": "code",
   "execution_count": null,
   "id": "f59568be-499a-4cde-8e0a-bb8cefb367be",
   "metadata": {},
   "outputs": [],
   "source": [
    "for target in targets:\n",
    "    print(target.name)\n",
    "    angsep = target.coord.separation(visits_coord).deg\n",
    "    selection_angle = angsep < 2.\n",
    "\n",
    "    for band in bands:\n",
    "        selection_band = (visits['band'] == band)\n",
    "        print(band, np.sum(selection_angle & selection_band))\n",
    "\n",
    "    print('')"
   ]
  },
  {
   "cell_type": "code",
   "execution_count": null,
   "id": "138f6fe9-a580-4b82-881e-26f8425f2f73",
   "metadata": {},
   "outputs": [],
   "source": [
    "selection_day_obs = (visits['day_obs'] == 20241203)\n",
    "\n",
    "for target in targets:\n",
    "    print(target.name)\n",
    "    angsep = target.coord.separation(visits_coord).deg\n",
    "    selection_angle = angsep < 2.\n",
    "\n",
    "    for band in bands:\n",
    "        selection_band = (visits['band'] == band)\n",
    "        print(band, np.sum(selection_angle & selection_band & selection_day_obs))\n",
    "\n",
    "    print('')"
   ]
  },
  {
   "cell_type": "markdown",
   "id": "136d2845-2c07-4591-93b3-03f413be49dc",
   "metadata": {
    "execution": {
     "iopub.execute_input": "2024-11-25T06:54:50.253539Z",
     "iopub.status.busy": "2024-11-25T06:54:50.252977Z",
     "iopub.status.idle": "2024-11-25T06:54:50.255677Z",
     "shell.execute_reply": "2024-11-25T06:54:50.255253Z",
     "shell.execute_reply.started": "2024-11-25T06:54:50.253520Z"
    }
   },
   "source": [
    "### Distribution by target, band, and airmass"
   ]
  },
  {
   "cell_type": "code",
   "execution_count": null,
   "id": "6c7740c0-48a0-4a55-afa1-c983d7554087",
   "metadata": {},
   "outputs": [],
   "source": [
    "import astropy.units as u"
   ]
  },
  {
   "cell_type": "code",
   "execution_count": null,
   "id": "fd4d0b0f-dc85-4059-958a-6cab4562bf3a",
   "metadata": {},
   "outputs": [],
   "source": [
    "(1. * u.day).to(u.second).value"
   ]
  },
  {
   "cell_type": "code",
   "execution_count": null,
   "id": "aef10410-9bdc-497f-9216-47f2274c3e05",
   "metadata": {},
   "outputs": [],
   "source": [
    "for target in targets:\n",
    "\n",
    "    angsep = target.coord.separation(visits_coord).deg\n",
    "    selection_angle = angsep < 2.\n",
    "\n",
    "    if not np.any(selection_angle):\n",
    "        continue\n",
    "    \n",
    "    plt.figure()\n",
    "    for band in bands:\n",
    "        selection_band = (visits['band'] == band) \n",
    "        if np.any(selection_angle & selection_band):\n",
    "            #if target.name == 'Rubin_SV_095_-25':\n",
    "            #    #print(90. - visits['altitude'][selection_angle & selection_band])\n",
    "            #    for ii in range(0, len(visits[selection_angle & selection_band])):\n",
    "            #        print(\n",
    "            #            90. - visits['altitude'][selection_angle & selection_band].values[ii], \n",
    "            #            visits['azimuth'][selection_angle & selection_band].values[ii],\n",
    "            #            (1. * u.day).to(u.second).value * (visits['obs_start_mjd'][selection_angle & selection_band].values[ii + 1] - visits['obs_start_mjd'][selection_angle & selection_band].values[ii])\n",
    "            #        )\n",
    "            #print(band, np.sum(selection & selection_band))\n",
    "            plt.scatter(dayObstoMJD(visits['day_obs'][selection_angle & selection_band]), \n",
    "                        # visits['exp_midpt_mjd'][selection_angle & selection_band],\n",
    "                        visits['airmass'][selection_angle & selection_band], \n",
    "                        c=bands[band], marker='_', label=band)\n",
    "    plt.legend(loc='lower left')\n",
    "    #plt.xlabel('MJD')\n",
    "    plt.xlim(np.min(xticks) - 0.5, np.max(xticks) + 0.5)\n",
    "    plt.xticks(xticks, xtick_labels, rotation=45.)\n",
    "    plt.ylabel('Airmass')\n",
    "    #xtick_labels = [_.split()[0] for _ in Time(plt.xticks()[0], format='mjd').iso]\n",
    "    #plt.xticks(plt.xticks()[0], xtick_labels, rotation=45)\n",
    "    plt.ylim(1.5, 1.0)\n",
    "    plt.grid()\n",
    "    plt.title(target.name)\n",
    "    plt.tight_layout()"
   ]
  },
  {
   "cell_type": "code",
   "execution_count": null,
   "id": "a2508081-a375-4dec-8243-79507f54eae1",
   "metadata": {},
   "outputs": [],
   "source": []
  },
  {
   "cell_type": "code",
   "execution_count": null,
   "id": "8f378d70-9496-4b5f-80ab-465047ed047d",
   "metadata": {},
   "outputs": [],
   "source": []
  },
  {
   "cell_type": "code",
   "execution_count": null,
   "id": "d9c886fa-0257-4eb3-9e11-16b2a5bfa922",
   "metadata": {},
   "outputs": [],
   "source": []
  }
 ],
 "metadata": {
  "kernelspec": {
   "display_name": "LSST",
   "language": "python",
   "name": "lsst"
  },
  "language_info": {
   "codemirror_mode": {
    "name": "ipython",
    "version": 3
   },
   "file_extension": ".py",
   "mimetype": "text/x-python",
   "name": "python",
   "nbconvert_exporter": "python",
   "pygments_lexer": "ipython3",
   "version": "3.11.9"
  }
 },
 "nbformat": 4,
 "nbformat_minor": 5
}
