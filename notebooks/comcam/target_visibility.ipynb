{
 "cells": [
  {
   "cell_type": "code",
   "execution_count": null,
   "id": "24d0541c-05ef-49b4-9272-3fff1df91b15",
   "metadata": {},
   "outputs": [],
   "source": [
    "import numpy as np\n",
    "\n",
    "from astropy.coordinates import SkyCoord\n",
    "import astropy.units as u\n",
    "from astropy.time import Time\n",
    "from datetime import datetime, timezone\n",
    "from astroplan import Observer, FixedTarget\n",
    "from astroplan.plots import plot_airmass, plot_sky\n",
    "\n",
    "import matplotlib.pyplot as plt\n",
    "#%matplotlib widget"
   ]
  },
  {
   "cell_type": "code",
   "execution_count": null,
   "id": "c2397d74-56d1-4e2b-9cb1-3370065a562a",
   "metadata": {},
   "outputs": [],
   "source": [
    "#time = Time('2024-11-15 03:00:00.000', format='iso')\n",
    "time = Time(datetime.now(timezone.utc))\n",
    "observer = Observer.at_site(\"LSST\")\n",
    "\n",
    "ra = 53.125\n",
    "dec = -28.1\n",
    "name = 'ECDFS'\n",
    "coord = SkyCoord(ra=ra, dec=dec, unit='deg', frame='icrs')"
   ]
  },
  {
   "cell_type": "code",
   "execution_count": null,
   "id": "fcd30386-28e9-4ff7-b0c4-ec19f72adc0d",
   "metadata": {},
   "outputs": [],
   "source": [
    "time_midnight = observer.midnight(time, which='nearest')\n",
    "time_sunset = observer.sun_set_time(time_midnight, which='previous')\n",
    "time_sunrise = observer.sun_rise_time(time_midnight, which='next')\n",
    "\n",
    "if observer.moon_altaz(time_midnight).alt.value > 0.:\n",
    "    time_moonrise = observer.moon_rise_time(time_midnight, which='previous')\n",
    "    time_moonset = observer.moon_set_time(time_midnight, which='next')\n",
    "else:\n",
    "    time_moonrise = observer.moon_rise_time(time_midnight, which='next')\n",
    "    time_moonset = observer.moon_set_time(time_midnight, which='previous')\n",
    "\n",
    "print('Time (UTC) =', time)\n",
    "print('Time Midnight (UTC) =', time_midnight)\n",
    "print('Time Evening Civil Twilight (UTC) =', observer.twilight_evening_civil(time_midnight, which='previous').iso)\n",
    "print('Time Evening Nautical Twilight (UTC) =', observer.twilight_evening_nautical(time_midnight, which='previous').iso)\n",
    "print('Time Evening Astronomical Twilight (UTC) =', observer.twilight_evening_astronomical(time_midnight, which='previous').iso)\n",
    "print('Time Morning Astronomical Twilight (UTC) =', observer.twilight_morning_astronomical(time_midnight, which='next').iso)\n",
    "print('Time Evening Nautical Twilight (UTC) =', observer.twilight_morning_nautical(time_midnight, which='previous').iso)\n",
    "print('Time Evening Civil Twilight (UTC) =', observer.twilight_morning_civil(time_midnight, which='previous').iso)\n",
    "print('Target = %s'%(name))\n",
    "print('(RA, Dec) = (%.2f, %2f)'%(ra, dec))\n",
    "print('Target Az (deg) =', observer.altaz(time, coord).az.deg)\n",
    "print('Target Alt (deg) =', observer.altaz(time, coord).alt.deg)\n",
    "print('Target Transit (UTC) =', observer.target_meridian_transit_time(time_midnight, coord, which='nearest').iso)\n",
    "print('Moon Illumination =', observer.moon_illumination(time))\n",
    "print('Moonrise time (UTC) =', time_moonrise.iso)\n",
    "print('Moonset time (UTC) =', time_moonset.iso)\n",
    "print('Lunar Separation (deg) =', observer.moon_altaz(time).separation(observer.altaz(time, coord)).deg)"
   ]
  },
  {
   "cell_type": "code",
   "execution_count": null,
   "id": "9c3fdfb8-e9bf-4feb-b93d-952ab93422b7",
   "metadata": {},
   "outputs": [],
   "source": [
    "time_array = time_sunset + np.arange(0., (time_sunrise - time_sunset).to(u.hr).value, 0.1) * u.hr\n",
    "\n",
    "alt_array = observer.altaz(time_array, coord).alt.deg\n",
    "az_array = observer.altaz(time_array, coord).az.deg\n",
    "\n",
    "print('%30s%15s%15s'%('Time (UTC)', 'Alt (deg)', 'Az (deg)'))\n",
    "for ii in range(0, len(time_array)):\n",
    "    print('%30s%15.2f%15.2f'%(time_array[ii].iso, alt_array[ii], az_array[ii]))"
   ]
  },
  {
   "cell_type": "code",
   "execution_count": null,
   "id": "8e5bb63f-5fce-41e3-930a-d53f6af29700",
   "metadata": {},
   "outputs": [],
   "source": [
    "target = FixedTarget(coord, name=name)\n",
    "\n",
    "plt.figure()\n",
    "plt.clf()\n",
    "ax = plot_airmass(target, observer, time_midnight, brightness_shading=True, altitude_yaxis=True)\n",
    "ax.legend(loc='lower right')\n",
    "plt.tight_layout()\n",
    "plt.show()"
   ]
  },
  {
   "cell_type": "code",
   "execution_count": null,
   "id": "b73020b7-8f2a-46b2-9c03-4aac98db96f0",
   "metadata": {},
   "outputs": [],
   "source": [
    "target_moon = FixedTarget(observer.moon_altaz(time), name='Moon')\n",
    "\n",
    "plt.clf()\n",
    "plot_sky(target, observer, time_array)\n",
    "plot_sky(target, observer, time)\n",
    "plot_sky(target_moon, observer, time_array)\n",
    "plot_sky(target_moon, observer, time)\n",
    "plt.legend(loc='lower right')\n",
    "#bbox_to_anchor=(1.25, 0.5))\n",
    "plt.show()"
   ]
  },
  {
   "cell_type": "code",
   "execution_count": null,
   "id": "5a742b70-5cf7-4bc0-b17c-f60cfd46e492",
   "metadata": {},
   "outputs": [],
   "source": []
  },
  {
   "cell_type": "code",
   "execution_count": null,
   "id": "e7b3310b-de0c-4279-9981-23cbf55ff0e2",
   "metadata": {},
   "outputs": [],
   "source": []
  },
  {
   "cell_type": "code",
   "execution_count": null,
   "id": "31c651b1-9feb-4866-b408-6c4601f4145c",
   "metadata": {},
   "outputs": [],
   "source": []
  },
  {
   "cell_type": "code",
   "execution_count": null,
   "id": "680063cf-172b-439e-b455-ea22b4a08475",
   "metadata": {},
   "outputs": [],
   "source": []
  }
 ],
 "metadata": {
  "kernelspec": {
   "display_name": "LSST",
   "language": "python",
   "name": "lsst"
  },
  "language_info": {
   "codemirror_mode": {
    "name": "ipython",
    "version": 3
   },
   "file_extension": ".py",
   "mimetype": "text/x-python",
   "name": "python",
   "nbconvert_exporter": "python",
   "pygments_lexer": "ipython3",
   "version": "3.11.9"
  }
 },
 "nbformat": 4,
 "nbformat_minor": 5
}
