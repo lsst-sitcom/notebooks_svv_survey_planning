{
 "cells": [
  {
   "cell_type": "markdown",
   "id": "af7d2363-d2d6-4189-8772-5061aef73eb5",
   "metadata": {
    "jp-MarkdownHeadingCollapsed": true
   },
   "source": [
    "# Start"
   ]
  },
  {
   "cell_type": "code",
   "execution_count": null,
   "id": "208cf44c-5e28-4de0-b10e-da93e736b1b7",
   "metadata": {},
   "outputs": [],
   "source": [
    "import sys\n",
    "sys.path.append('/home/b/bechtol/repos/ts_config_ocs')"
   ]
  },
  {
   "cell_type": "code",
   "execution_count": null,
   "id": "c800b4fb-3d1d-4901-aac9-33579418555e",
   "metadata": {},
   "outputs": [],
   "source": [
    "import Scheduler.feature_scheduler.maintel.fbs_config_fieldsurvey"
   ]
  },
  {
   "cell_type": "code",
   "execution_count": null,
   "id": "1fa819b3-b711-4d5a-9344-b5055f6afd47",
   "metadata": {},
   "outputs": [],
   "source": [
    "nside, scheduler = Scheduler.feature_scheduler.maintel.fbs_config_fieldsurvey.get_scheduler()"
   ]
  },
  {
   "cell_type": "code",
   "execution_count": null,
   "id": "5f8a7fb1-d678-4a04-a5ea-20a55309e74c",
   "metadata": {},
   "outputs": [],
   "source": [
    "scheduler.survey_lists"
   ]
  },
  {
   "cell_type": "code",
   "execution_count": null,
   "id": "d4739a59-a3d6-41ee-bec8-fc39e6e4e494",
   "metadata": {},
   "outputs": [],
   "source": [
    "print(scheduler.survey_lists[0][0].science_program)\n",
    "print(scheduler.survey_lists[0][0].survey_name)\n",
    "print(scheduler.survey_lists[0][0].target_name)\n",
    "print(scheduler.survey_lists[0][0].observation_reason)\n",
    "print(scheduler.survey_lists[0][0].scheduler_note)"
   ]
  },
  {
   "cell_type": "code",
   "execution_count": null,
   "id": "3babd56f-65f6-4f9c-b32e-6b752489295b",
   "metadata": {},
   "outputs": [],
   "source": [
    "scheduler.survey_lists[0][0].basis_functions"
   ]
  },
  {
   "cell_type": "code",
   "execution_count": null,
   "id": "6b30653b-69b9-4adb-821b-19a03f443ccd",
   "metadata": {},
   "outputs": [],
   "source": [
    "scheduler.survey_lists[0][0].detailers"
   ]
  },
  {
   "cell_type": "markdown",
   "id": "f00ec973-e534-44ff-b16b-073910ab9194",
   "metadata": {
    "jp-MarkdownHeadingCollapsed": true
   },
   "source": [
    "# Set Up Model Observatory"
   ]
  },
  {
   "cell_type": "code",
   "execution_count": null,
   "id": "c916a7d0-d3c7-453b-aef9-7b1338b2b50b",
   "metadata": {},
   "outputs": [],
   "source": [
    "import os\n",
    "import warnings\n",
    "import copy\n",
    "import numpy as np\n",
    "import pandas as pd\n",
    "import matplotlib.pyplot as plt\n",
    "import colorcet as cc\n",
    "import healpy as hp\n",
    "from astropy.time import Time\n",
    "\n",
    "from rubin_scheduler.site_models import Almanac\n",
    "from rubin_scheduler.utils import Site\n",
    "from rubin_scheduler.data import get_data_dir\n",
    "\n",
    "from rubin_scheduler.scheduler.model_observatory import ModelObservatory, KinemModel\n",
    "from rubin_scheduler.site_models import ConstantSeeingData, ConstantWindData\n",
    "\n",
    "from rubin_scheduler.utils import ra_dec2_hpid\n",
    "#from rubin_scheduler.scheduler.utils import empty_observation\n",
    "\n",
    "from rubin_scheduler.scheduler import basis_functions\n",
    "from rubin_scheduler.scheduler import features\n",
    "from rubin_scheduler.scheduler.detailers import CameraSmallRotPerObservationListDetailer\n",
    "from rubin_scheduler.scheduler.surveys import FieldSurvey\n",
    "from rubin_scheduler.scheduler.schedulers import CoreScheduler, ComCamFilterSched\n",
    "from rubin_scheduler.utils import Site, _approx_altaz2pa, pseudo_parallactic_angle, rotation_converter\n",
    "\n",
    "from rubin_scheduler.scheduler import sim_runner\n",
    "from rubin_scheduler.scheduler.utils import SchemaConverter"
   ]
  },
  {
   "cell_type": "code",
   "execution_count": null,
   "id": "251fdb1f-0207-4098-9e7d-d00a058097e8",
   "metadata": {},
   "outputs": [],
   "source": [
    "at_usdf = True\n",
    "if at_usdf:\n",
    "    #os.environ[\"RUBIN_SIM_DATA_DIR\"] = \"/sdf/group/rubin/shared/rubin_sim_data\"\n",
    "    os.environ[\"RUBIN_SIM_DATA_DIR\"] = \"/home/b/bechtol/rubin-user/rubin_sim_data\"\n",
    "print(\"Using rubin_sim_data from \", get_data_dir())"
   ]
  },
  {
   "cell_type": "code",
   "execution_count": null,
   "id": "2adba136-951d-4e91-a3f9-baa3eceb6b0c",
   "metadata": {},
   "outputs": [],
   "source": [
    "# Setting the start of the *survey* (and keeping this the same) is important for the Model Observatory and Scheduler,\n",
    "# because this sets an overall dither pattern per night, but also helps track things that may \n",
    "# otherwise change per night ... for SV surveys, might not be totally necessary, but is good practice\n",
    "# (you can change the *day* / mjd that you are simulating, of course, but mjd_start should remain the same)\n",
    "\n",
    "dayobs = '2024-11-01'\n",
    "survey_start = Time(f'{dayobs}T12:00:00', format='isot', scale='utc')"
   ]
  },
  {
   "cell_type": "code",
   "execution_count": null,
   "id": "c41d2ddb-3179-4482-9eae-743c000593a4",
   "metadata": {},
   "outputs": [],
   "source": [
    "# Don't have to do this, but can grab almanac information\n",
    "\n",
    "almanac = Almanac(mjd_start = survey_start.mjd)\n",
    "\n",
    "def show_almanac_info(dayobs):\n",
    "    night_info = almanac.get_sunset_info(evening_date=dayobs, longitude=Site('LSST').longitude_rad)\n",
    "    \n",
    "    dd = []\n",
    "    for val, col in zip(night_info, night_info.dtype.names):\n",
    "        if col == 'night':\n",
    "            continue\n",
    "        else:\n",
    "            print(col, val, Time(val, format='mjd', scale='utc').iso)\n",
    "    \n",
    "    # And can check on the lunar phase -- this goes from 0 (new) to 100 (full)\n",
    "    moon_phase = almanac.get_sun_moon_positions(night_info['moonrise'])['moon_phase']\n",
    "    print(f'moonphase(%) {moon_phase.round(2)}')\n",
    "\n",
    "show_almanac_info(dayobs)"
   ]
  },
  {
   "cell_type": "code",
   "execution_count": null,
   "id": "a3b18dd4-af2d-49f3-9266-afbed7e8b25f",
   "metadata": {},
   "outputs": [],
   "source": [
    "def tma_movement(percent=70):\n",
    "    # See https://confluence.lsstcorp.org/display/LSSTCOM/TMA+Motion+Settings\n",
    "    # Expected performance at end of comcam on-sky is probably 10%\n",
    "    if percent > 125:\n",
    "        percent = 125\n",
    "        print(\"Cannot exceed 125 percent, by requirements.\")\n",
    "    tma = {}\n",
    "    scale = percent / 100.0\n",
    "    tma['azimuth_maxspeed'] = np.min([10.0 * scale, 7.0])\n",
    "    tma['azimuth_accel'] = 10.0 * scale\n",
    "    tma['azimuth_jerk'] = np.max([1.0, 40.0 * scale])\n",
    "    tma['altitude_maxspeed'] = 5.0 * scale\n",
    "    tma['altitude_accel'] = 5.0 * scale\n",
    "    tma['altitude_jerk'] = np.max([1.0, 20.0 * scale])\n",
    "    tma['settle_time'] = 3.0\n",
    "    return tma"
   ]
  },
  {
   "cell_type": "code",
   "execution_count": null,
   "id": "81f41884-a9e0-4426-a0a5-5d8be5559c4b",
   "metadata": {},
   "outputs": [],
   "source": [
    "def rotator_movement(percent=100):\n",
    "    # Kevin and Brian say these can run 100% and are independent of TMA movement\n",
    "    if percent > 125:\n",
    "        percent = 125\n",
    "        print(\"Cannot exceed 125 percent, by requirements.\")\n",
    "    rot = {}\n",
    "    rot['maxspeed'] = 3.5 * percent/100\n",
    "    rot['accel'] = 1.0 * percent/100\n",
    "    rot['jerk'] = 4.0 * percent/100\n",
    "    return rot"
   ]
  },
  {
   "cell_type": "code",
   "execution_count": null,
   "id": "a0d8dc7e-705f-40ef-b672-12f14312a8f7",
   "metadata": {},
   "outputs": [],
   "source": [
    "def get_model_observatory(dayobs='2024-11-01'):\n",
    "    # Set up a fresh model observatory\n",
    "    survey_start = Time(f'{dayobs}T12:00:00', format='isot', scale='utc')\n",
    "    mjd_now = survey_start.mjd\n",
    "\n",
    "    kinematic_model = KinemModel(mjd0=mjd_now)\n",
    "    kinematic_model.setup_camera(readtime=2.4, **rotator_movement(100.))\n",
    "    kinematic_model.setup_telescope(**tma_movement(10.0))\n",
    "    \n",
    "    # Some weather telemetry that might be useful\n",
    "    seeing_data = ConstantSeeingData(fwhm_500=2.0)\n",
    "    wind_data = ConstantWindData(wind_direction=340, wind_speed=5.0)\n",
    "    \n",
    "    # Set up the model observatory\n",
    "    observatory = ModelObservatory(mjd=mjd_now, \n",
    "                                   mjd_start=survey_start.mjd,\n",
    "                                   kinem_model=kinematic_model, # Modified kinematics\n",
    "                                   cloud_data='ideal',          # No clouds\n",
    "                                   seeing_data=seeing_data,     # Modified seeing\n",
    "                                   wind_data=wind_data,         # Add some wind\n",
    "                                   downtimes='ideal',           # No downtime\n",
    "                                   lax_dome=True,               # dome crawl?\n",
    "                                   init_load_length=1,          # size of skybrightness files to load first\n",
    "                                  )\n",
    "    return observatory"
   ]
  },
  {
   "cell_type": "code",
   "execution_count": null,
   "id": "71133d72-31fb-40a2-9afe-607362b68e5a",
   "metadata": {},
   "outputs": [],
   "source": [
    "def update_model_observatory_sunset(observatory, filter_scheduler):\n",
    "    # Make sure correct filters are mounted\n",
    "    conditions = observatory.return_conditions()\n",
    "    filters_needed = filter_scheduler(conditions)\n",
    "    observatory.observatory.mount_filters(filters_needed)\n",
    "    conditions = observatory.return_conditions()\n",
    "    print(\"Current filter set\", conditions.mounted_filters)\n",
    "    \n",
    "    # Move ahead to twilight\n",
    "    observatory.mjd = conditions.sun_n18_setting\n",
    "    print(\"Current observatory time\", observatory.mjd)\n",
    "    return observatory"
   ]
  },
  {
   "cell_type": "code",
   "execution_count": null,
   "id": "775d5fe6-a417-4f22-b087-52b0c3e3ed3a",
   "metadata": {},
   "outputs": [],
   "source": [
    "# JUST A TEST\n",
    "\n",
    "verbose = False\n",
    "\n",
    "dayobs = '2024-11-01'\n",
    "survey_start = Time(f'{dayobs}T12:00:00', format='isot', scale='utc')\n",
    "mjd_now = survey_start.mjd\n",
    "\n",
    "# Set up again to be sure all is 'clean'\n",
    "#scheduler, filter_scheduler = get_comcam_schedulers()\n",
    "filter_scheduler = ComCamFilterSched(\n",
    "    loaded_filter_groups=(('g', 'r', 'i'),),\n",
    "    illum_bins=(0, 100)\n",
    ")\n",
    "observatory = get_model_observatory(dayobs)\n",
    "observatory = update_model_observatory_sunset(observatory, filter_scheduler)\n",
    "conditions = observatory.return_conditions()"
   ]
  },
  {
   "cell_type": "code",
   "execution_count": null,
   "id": "eaf908bb-d99b-4626-a159-1a5ba7f30fff",
   "metadata": {},
   "outputs": [],
   "source": [
    "#dir(observatory.observatory)"
   ]
  },
  {
   "cell_type": "markdown",
   "id": "37abf078-5d1e-461f-9254-62fffa36bf59",
   "metadata": {
    "jp-MarkdownHeadingCollapsed": true
   },
   "source": [
    "# Run Simulation"
   ]
  },
  {
   "cell_type": "code",
   "execution_count": null,
   "id": "f1d61530-e6b7-48a5-8964-f794640c9a3f",
   "metadata": {},
   "outputs": [],
   "source": [
    "verbose = False\n",
    "\n",
    "dayobs = '2024-11-01'\n",
    "survey_start = Time(f'{dayobs}T12:00:00', format='isot', scale='utc')\n",
    "mjd_now = survey_start.mjd\n",
    "\n",
    "# Set up again to be sure all is 'clean'\n",
    "#scheduler, filter_scheduler = get_comcam_schedulers()\n",
    "#filter_scheduler = ComCamFilterSched()\n",
    "filter_scheduler = ComCamFilterSched(\n",
    "    loaded_filter_groups=(('g', 'r', 'i'),),\n",
    "    illum_bins=(0, 100)\n",
    ")\n",
    "observatory = get_model_observatory(dayobs)\n",
    "observatory = update_model_observatory_sunset(observatory, filter_scheduler)\n",
    "conditions = observatory.return_conditions()\n",
    "\n",
    "mjd = observatory.mjd\n",
    "mjd_end = conditions.sun_n12_rising\n",
    "sim_duration = 1 #mjd_end - mjd\n",
    "\n",
    "observatory, scheduler, observations = sim_runner(\n",
    "    observatory,\n",
    "    scheduler,\n",
    "    filter_scheduler=filter_scheduler,\n",
    "    sim_start_mjd=mjd,\n",
    "    sim_duration=sim_duration,\n",
    "    n_visit_limit=None,\n",
    "    step_none=10.0,\n",
    "    verbose=True,\n",
    "    record_rewards=False,\n",
    "    start_result_size=int(2e4),\n",
    "    append_result_size=int(2.5e4),\n",
    ")"
   ]
  },
  {
   "cell_type": "code",
   "execution_count": null,
   "id": "7082e09f-88e8-4e0b-8fd5-8cc1c93238b0",
   "metadata": {},
   "outputs": [],
   "source": [
    "sc = SchemaConverter()\n",
    "visits = sc.obs2opsim(observations)"
   ]
  },
  {
   "cell_type": "code",
   "execution_count": null,
   "id": "951943bf-9bd9-4ebc-9c68-a1fbfff755b6",
   "metadata": {},
   "outputs": [],
   "source": [
    "visits.columns"
   ]
  },
  {
   "cell_type": "code",
   "execution_count": null,
   "id": "e71c38ca-106c-4f62-a7bb-a1f585c3c52a",
   "metadata": {},
   "outputs": [],
   "source": [
    "# Let's check in on sequences, because there are some issues\n",
    "visits.groupby('target_name')['observationStartMJD'].count()"
   ]
  },
  {
   "cell_type": "code",
   "execution_count": null,
   "id": "24874420-35f1-41b2-aa7c-029c8aacc58d",
   "metadata": {},
   "outputs": [],
   "source": [
    "# the time from the start of one exposure to the start of the next exposure:\n",
    "slew_to_next_visit = visits['slewTime'][1:]\n",
    "expected_overheads = visits['visitTime'][:-1].values + slew_to_next_visit.values\n",
    "# Compare to the actual time between visits\n",
    "actual_overheads = np.diff(visits['observationStartMJD'])*24*60*60 \n",
    "# We can look at the difference to identify gaps in visits (seconds)\n",
    "diff = np.abs(expected_overheads - actual_overheads)\n",
    "indx = np.where((diff > 1) & (diff < 6*60*60))[0]\n",
    "breaks = []\n",
    "for i in indx:\n",
    "    b1 = visits.iloc[i]['observationStartMJD']\n",
    "    b2 = visits.iloc[i+1]['observationStartMJD']\n",
    "    breaks.append([b1, b2])\n",
    "print(indx)\n",
    "print(breaks)"
   ]
  },
  {
   "cell_type": "code",
   "execution_count": null,
   "id": "8a013bc0-078e-47c5-a678-16d04c21ba8b",
   "metadata": {},
   "outputs": [],
   "source": [
    "plt.figure(figsize=(8, 6))\n",
    "filtershapes = {'u': 'o', 'g': '^', 'r': 'v', 'i': 's', 'z': '*', 'y': 'p'}\n",
    "filtercolors = {'u': '#005BDB',\n",
    "                'g': '#3DA952',\n",
    "                'r': '#c61c00',\n",
    "                'i': '#997500',\n",
    "                'z': '#CE0D77',\n",
    "                'y': '#5d0000'}\n",
    "fieldcolors = {}\n",
    "for i, t in enumerate(visits.target_name.unique()):\n",
    "    fieldcolors[t] = cc.glasbey[i]\n",
    "\n",
    "if len(breaks) > 0:\n",
    "    for b in breaks:\n",
    "        plt.fill_between(b, 2.5, 0.0, color='pink', alpha=0.3)\n",
    "\n",
    "night = 1\n",
    "nvisits = visits.query('night == @night')\n",
    "for t in nvisits.target_name.unique():\n",
    "    vv = nvisits.query('target_name == @t')\n",
    "    for f in vv['filter'].unique():\n",
    "        vvf = vv.query('filter == @f')\n",
    "        label = f'{t} {f}'\n",
    "        plt.plot(vvf.observationStartMJD, vvf.airmass, linestyle='', \n",
    "                 marker=filtershapes[f], markersize=3, color=fieldcolors[t], label=label)\n",
    "plt.legend(loc=(0.00 , -0.3), ncols=len(nvisits.target_name.unique()))\n",
    "plt.ylim(2.1, 0.9)\n",
    "plt.xlim(nvisits.observationStartMJD.min(), nvisits.observationStartMJD.max())\n",
    "plt.grid(alpha=0.3)\n",
    "plt.xlabel(\"MJD\", fontsize='large')\n",
    "plt.ylabel(\"Airmass\", fontsize='x-large')\n",
    "#plt.title(f\"Night {night}, {Time(nights.observationStartMJD.min(), format='mjd', scale='utc').isot.split(\"T\")[0]}\")"
   ]
  },
  {
   "cell_type": "code",
   "execution_count": null,
   "id": "e70e7686-20fb-453d-86a4-9eb0fcbff16a",
   "metadata": {},
   "outputs": [],
   "source": []
  },
  {
   "cell_type": "markdown",
   "id": "8ee63091-87db-4af1-85c0-283b25a3ae54",
   "metadata": {
    "jp-MarkdownHeadingCollapsed": true
   },
   "source": [
    "# Code Scraps for Testing"
   ]
  },
  {
   "cell_type": "code",
   "execution_count": null,
   "id": "dae881c4-c2ca-4c14-af45-674e4e0f5c68",
   "metadata": {},
   "outputs": [],
   "source": [
    "import yaml\n",
    "\n",
    "with open('/home/b/bechtol/repos/ts_fbs_utils/python/lsst/ts/fbs/utils/data/field_survey_centers.yaml') as stream:\n",
    "    try:\n",
    "        targets = yaml.safe_load(stream)\n",
    "    except yaml.YAMLError as exc:\n",
    "        print(exc)\n",
    "        \n",
    "targets['comcam_sv_targets']"
   ]
  },
  {
   "cell_type": "code",
   "execution_count": null,
   "id": "2cf56bc5-ff5b-46ad-bec2-5c84f07e8e0b",
   "metadata": {},
   "outputs": [],
   "source": [
    "import numpy as np\n",
    "\n",
    "from rubin_scheduler.scheduler import detailers\n",
    "\n",
    "detailer = detailers.DitherDetailer(max_dither=0.2, per_night=False)\n",
    "\n",
    "n_offsets = 30\n",
    "night = 42\n",
    "offsets = np.degrees(detailer._generate_offsets(n_offsets, night))"
   ]
  },
  {
   "cell_type": "code",
   "execution_count": null,
   "id": "69ec81da-5c07-44f3-a2b5-8e909b167131",
   "metadata": {},
   "outputs": [],
   "source": [
    "offsets[:,0]"
   ]
  },
  {
   "cell_type": "code",
   "execution_count": null,
   "id": "29ad47ef-d10b-4583-b83a-1bada8d2fd0b",
   "metadata": {},
   "outputs": [],
   "source": [
    "import matplotlib.pyplot as plt\n",
    "\n",
    "plt.figure(figsize=(6, 6))\n",
    "plt.scatter(offsets[:,0], offsets[:,1])\n",
    "plt.xlabel('x_offset (deg)')\n",
    "plt.ylabel('y_offset (deg)')\n",
    "plt.xlim(-0.2, 0.2)\n",
    "plt.ylim(-0.2, 0.2)"
   ]
  },
  {
   "cell_type": "code",
   "execution_count": null,
   "id": "df30469d-cb39-4d32-b2b7-72509a27b2e9",
   "metadata": {},
   "outputs": [],
   "source": [
    "180 / 3600."
   ]
  },
  {
   "cell_type": "code",
   "execution_count": null,
   "id": "de12e4fd-3212-4f46-8bed-a45051eaf18a",
   "metadata": {},
   "outputs": [],
   "source": []
  },
  {
   "cell_type": "code",
   "execution_count": null,
   "id": "c02a8349-98ea-4a82-a7f4-bb91d672a794",
   "metadata": {},
   "outputs": [],
   "source": [
    "import "
   ]
  },
  {
   "cell_type": "code",
   "execution_count": null,
   "id": "da5f077e-7632-49d6-b2de-b0b50c745ad3",
   "metadata": {},
   "outputs": [],
   "source": []
  },
  {
   "cell_type": "code",
   "execution_count": null,
   "id": "1811f4b3-1b13-46ce-a8a0-77a35f2c4adc",
   "metadata": {},
   "outputs": [],
   "source": []
  },
  {
   "cell_type": "code",
   "execution_count": null,
   "id": "d34ac422-cf5a-468c-bc55-83f0d4111829",
   "metadata": {},
   "outputs": [],
   "source": [
    "import numpy as np\n",
    "\n",
    "from rubin_scheduler.scheduler.detailers import BaseDetailer\n",
    "from rubin_scheduler.scheduler.utils import wrap_ra_dec\n",
    "from rubin_scheduler.utils import (\n",
    "    _approx_altaz2pa,\n",
    "    _approx_ra_dec2_alt_az,\n",
    "    bearing,\n",
    "    ddf_locations,\n",
    "    dest_latlon,\n",
    "    gnomonic_project_tosky,\n",
    "    rotation_converter,\n",
    ")\n",
    "\n",
    "\n",
    "class DitherDetailerAvoidShortSlews(BaseDetailer):\n",
    "    \"\"\"\n",
    "    make a uniform dither pattern. Offset by a maximum radius in a random\n",
    "    direction. Mostly intended for DDF pointings, the BaseMarkovDF_survey\n",
    "    class includes dithering for large areas.\n",
    "\n",
    "    Parameters\n",
    "    ----------\n",
    "    max_dither : `float` (0.7)\n",
    "        The maximum dither size to use (degrees).\n",
    "    per_night : `bool` (True)\n",
    "        If true, us the same dither offset for an entire night\n",
    "    nnights : `int` (7305)\n",
    "        The number of nights to pre-generate random dithers for\n",
    "\n",
    "\n",
    "    \"\"\"\n",
    "\n",
    "    def __init__(self, max_dither=0.7, seed=42, per_night=True, nnights=7305):\n",
    "        self.survey_features = {}\n",
    "\n",
    "        self.current_night = -1\n",
    "        self.max_dither = np.radians(max_dither)\n",
    "        self.per_night = per_night\n",
    "        self.rng = np.random.default_rng(seed)\n",
    "        self.angles = self.rng.random(nnights) * 2 * np.pi\n",
    "        self.radii = self.max_dither * np.sqrt(self.rng.random(nnights))\n",
    "        self.offsets = (self.rng.random((nnights, 2)) - 0.5) * 2.0 * self.max_dither\n",
    "        self.offset = None\n",
    "\n",
    "    def _generate_offsets(self, n_offsets, night):\n",
    "        if self.per_night:\n",
    "            if night != self.current_night:\n",
    "                self.current_night = night\n",
    "                self.offset = self.offsets[night, :]\n",
    "                angle = self.angles[night]\n",
    "                radius = self.radii[night]\n",
    "                self.offset = np.array([radius * np.cos(angle), radius * np.sin(angle)])\n",
    "            offsets = np.tile(self.offset, (n_offsets, 1))\n",
    "        else:\n",
    "            angle = self.rng.random(n_offsets) * 2 * np.pi\n",
    "            radius = self.max_dither * np.sqrt(self.rng.random(n_offsets))\n",
    "            offsets = np.array([radius * np.cos(angle), radius * np.sin(angle)]).T\n",
    "\n",
    "        return offsets\n",
    "\n",
    "    def __call__(self, observation_list, conditions):\n",
    "        if len(observation_list) == 0:\n",
    "            return observation_list\n",
    "        # Generate offsets in RA and Dec\n",
    "        offsets = self._generate_offsets(len(observation_list), conditions.night)\n",
    "\n",
    "        obs_array = np.concatenate(observation_list)\n",
    "        new_ra, new_dec = gnomonic_project_tosky(\n",
    "            offsets[:, 0], offsets[:, 1], obs_array[\"RA\"], obs_array[\"dec\"]\n",
    "        )\n",
    "        new_ra, new_dec = wrap_ra_dec(new_ra, new_dec)\n",
    "        for i, obs in enumerate(observation_list):\n",
    "            observation_list[i][\"RA\"] = new_ra[i]\n",
    "            observation_list[i][\"dec\"] = new_dec[i]\n",
    "        return observation_list\n"
   ]
  },
  {
   "cell_type": "code",
   "execution_count": null,
   "id": "44e4810b-8f61-4ed3-8b63-901f8849c376",
   "metadata": {},
   "outputs": [],
   "source": [
    "detailer = DitherDetailerAvoidShortSlews(max_dither=0.2, per_night=False)\n",
    "\n",
    "n_offsets = 30\n",
    "night = 42\n",
    "offsets = np.degrees(detailer._generate_offsets(n_offsets, night))"
   ]
  },
  {
   "cell_type": "code",
   "execution_count": null,
   "id": "bb7bdb41-0404-43bc-96d0-cf0fdfd5b4cb",
   "metadata": {},
   "outputs": [],
   "source": [
    "plt.figure(figsize=(6, 6))\n",
    "plt.scatter(offsets[:,0], offsets[:,1])\n",
    "plt.xlabel('x_offset (deg)')\n",
    "plt.ylabel('y_offset (deg)')\n",
    "plt.xlim(-0.2, 0.2)\n",
    "plt.ylim(-0.2, 0.2)"
   ]
  },
  {
   "cell_type": "code",
   "execution_count": null,
   "id": "234dbb82-9d38-4feb-8f54-9fb3769453c0",
   "metadata": {},
   "outputs": [],
   "source": []
  },
  {
   "cell_type": "code",
   "execution_count": null,
   "id": "160fb064-1724-47ba-b6e7-3b5bb9045546",
   "metadata": {},
   "outputs": [],
   "source": []
  },
  {
   "cell_type": "code",
   "execution_count": null,
   "id": "8d6fc9eb-cc7a-4793-a101-a47b289d9dd3",
   "metadata": {},
   "outputs": [],
   "source": []
  },
  {
   "cell_type": "code",
   "execution_count": null,
   "id": "1b470002-ddfd-4c10-9273-f580dad39bb4",
   "metadata": {},
   "outputs": [],
   "source": [
    "#import sys\n",
    "#sys.path.append('/home/b/bechtol/repos/ts_fbs_utils')"
   ]
  },
  {
   "cell_type": "code",
   "execution_count": null,
   "id": "da267966-0a64-4579-87c7-51dba25ee7c0",
   "metadata": {},
   "outputs": [],
   "source": [
    "from lsst.ts.fbs.utils.maintel.make_fieldsurvey_scheduler import get_comcam_sv_targets\n",
    "\n",
    "get_comcam_sv_targets(exclude=['Baades_Window', 'COSMOS', 'NGC_6822'])"
   ]
  },
  {
   "cell_type": "code",
   "execution_count": null,
   "id": "471d5b14-e744-4f27-bb1a-b864255b14ce",
   "metadata": {},
   "outputs": [],
   "source": [
    "from lsst.ts.fbs.utils.maintel.make_fieldsurvey_scheduler import get_comcam_sv_targets"
   ]
  },
  {
   "cell_type": "code",
   "execution_count": null,
   "id": "c4b12a8f-fb8e-48b1-a458-ca4c5600a8b0",
   "metadata": {},
   "outputs": [],
   "source": [
    "from lsst.ts.fbs.utils.maintel.make_fieldsurvey_scheduler import (\n",
    "    MakeFieldSurveyScheduler,\n",
    "    get_comcam_sv_targets,\n",
    ")"
   ]
  },
  {
   "cell_type": "code",
   "execution_count": null,
   "id": "64281354-6342-4e8c-901e-3d536518bf57",
   "metadata": {},
   "outputs": [],
   "source": []
  },
  {
   "cell_type": "code",
   "execution_count": null,
   "id": "6efe40f6-3bce-4220-be1b-ace44c9f49d3",
   "metadata": {},
   "outputs": [],
   "source": []
  },
  {
   "cell_type": "code",
   "execution_count": null,
   "id": "a589ba6b-b3fd-4f37-b3a9-dda877e09f3c",
   "metadata": {},
   "outputs": [],
   "source": []
  },
  {
   "cell_type": "code",
   "execution_count": null,
   "id": "4a1c10b2-d92e-4e87-a218-217d43554d5b",
   "metadata": {},
   "outputs": [],
   "source": []
  },
  {
   "cell_type": "code",
   "execution_count": null,
   "id": "9237027c-84d8-4608-bcf5-d8c2ebe27da4",
   "metadata": {},
   "outputs": [],
   "source": []
  },
  {
   "cell_type": "markdown",
   "id": "10d253b8-ef96-4e16-8dc4-77746dd0bb6c",
   "metadata": {
    "jp-MarkdownHeadingCollapsed": true
   },
   "source": [
    "# Scratch"
   ]
  },
  {
   "cell_type": "code",
   "execution_count": null,
   "id": "92007f56-0c78-44d4-b38d-d73ae211f87c",
   "metadata": {},
   "outputs": [],
   "source": [
    "import lsst.ts.fbs.utils\n",
    "lsst.ts.fbs.utils"
   ]
  },
  {
   "cell_type": "code",
   "execution_count": null,
   "id": "feb232c3-94a6-4300-898d-5de814eee3a4",
   "metadata": {},
   "outputs": [],
   "source": [
    "#import lsst.ts.config.ocs"
   ]
  },
  {
   "cell_type": "code",
   "execution_count": null,
   "id": "09241585-e1d1-4fc6-97d3-f5fcf8ee26ef",
   "metadata": {},
   "outputs": [],
   "source": [
    "import rubin_scheduler\n",
    "rubin_scheduler"
   ]
  },
  {
   "cell_type": "code",
   "execution_count": null,
   "id": "d90893c3-6da8-412f-85f7-6cc41e381ebc",
   "metadata": {},
   "outputs": [],
   "source": [
    "from lsst.ts.fbs.utils.maintel import MakeFieldSurveyScheduler"
   ]
  },
  {
   "cell_type": "code",
   "execution_count": null,
   "id": "248b523b-9586-4745-8ac2-e272971d80e9",
   "metadata": {},
   "outputs": [],
   "source": [
    "nside = 32"
   ]
  },
  {
   "cell_type": "code",
   "execution_count": null,
   "id": "9b0c221c-f1f7-4c44-b5b4-2c577553b9aa",
   "metadata": {},
   "outputs": [],
   "source": [
    "make_scheduler = MakeFieldSurveyScheduler()"
   ]
  },
  {
   "cell_type": "code",
   "execution_count": null,
   "id": "e9e4f9ee-26fb-469c-bce5-a4fa2acd993b",
   "metadata": {},
   "outputs": [],
   "source": [
    "make_scheduler.nside"
   ]
  },
  {
   "cell_type": "code",
   "execution_count": null,
   "id": "5730f5cb-e37b-4216-9099-f505d1c07091",
   "metadata": {},
   "outputs": [],
   "source": [
    "sequence=\"rgi\"\n",
    "nvis=[30, 30, 30]\n",
    "survey_name=\"test\""
   ]
  },
  {
   "cell_type": "code",
   "execution_count": null,
   "id": "f5ea80ac-740e-4920-be1b-4361db69f85a",
   "metadata": {},
   "outputs": [],
   "source": [
    "make_scheduler._load_candidate_fields()"
   ]
  },
  {
   "cell_type": "code",
   "execution_count": null,
   "id": "e494e7b8-1276-411d-9696-9484e5e868d5",
   "metadata": {},
   "outputs": [],
   "source": [
    "field_names = [\n",
    "    \"EDFS_A\", \n",
    "    \"EDFS_B\",\n",
    "]\n",
    "make_scheduler.add_field_surveys(field_names, sequence=sequence, nvis=nvis, survey_name=survey_name)"
   ]
  },
  {
   "cell_type": "code",
   "execution_count": null,
   "id": "19fa4455-6a33-4f2c-a397-61182380aa13",
   "metadata": {},
   "outputs": [],
   "source": [
    "make_scheduler.surveys[1]"
   ]
  },
  {
   "cell_type": "code",
   "execution_count": null,
   "id": "78870ac0-630e-4e4c-a2d4-a0e528206223",
   "metadata": {},
   "outputs": [],
   "source": [
    "make_scheduler.get_scheduler()"
   ]
  },
  {
   "cell_type": "code",
   "execution_count": null,
   "id": "ba484fad-d932-4675-8a11-71257f18058c",
   "metadata": {},
   "outputs": [],
   "source": []
  },
  {
   "cell_type": "markdown",
   "id": "b7a9684b-ce8b-4cdb-9eb9-ab881462aaf0",
   "metadata": {
    "jp-MarkdownHeadingCollapsed": true
   },
   "source": [
    "# Scheduler Config Testing"
   ]
  },
  {
   "cell_type": "code",
   "execution_count": null,
   "id": "42abd9de-98a7-40da-8c32-00a832a8c69b",
   "metadata": {},
   "outputs": [],
   "source": [
    "import sys\n",
    "sys.path.append('/home/b/bechtol/repos/ts_config_ocs')"
   ]
  },
  {
   "cell_type": "code",
   "execution_count": null,
   "id": "ba999cde-423d-4da1-bb51-07b954cfa564",
   "metadata": {},
   "outputs": [],
   "source": [
    "#import Scheduler.feature_scheduler.auxtel.fbs_config_image_photocal_survey"
   ]
  },
  {
   "cell_type": "code",
   "execution_count": null,
   "id": "17c27eac-064c-454d-a524-ff369763003a",
   "metadata": {},
   "outputs": [],
   "source": [
    "#Scheduler.feature_scheduler.auxtel.fbs_config_image_photocal_survey.get_scheduler()"
   ]
  },
  {
   "cell_type": "code",
   "execution_count": null,
   "id": "4a9bd6c8-c23b-4849-878b-e4546101d013",
   "metadata": {},
   "outputs": [],
   "source": [
    "import Scheduler.feature_scheduler.maintel.fbs_config_fieldsurvey"
   ]
  },
  {
   "cell_type": "code",
   "execution_count": null,
   "id": "fecdd015-a3cc-4947-8e51-7c5ef4e1101e",
   "metadata": {},
   "outputs": [],
   "source": [
    "nside, scheduler = Scheduler.feature_scheduler.maintel.fbs_config_fieldsurvey.get_scheduler()"
   ]
  },
  {
   "cell_type": "code",
   "execution_count": null,
   "id": "b5569f45-e17c-45bb-9c99-f34bde029900",
   "metadata": {},
   "outputs": [],
   "source": [
    "scheduler.survey_lists"
   ]
  },
  {
   "cell_type": "code",
   "execution_count": null,
   "id": "98e8c390-1f51-4ec1-85cc-2a479316074e",
   "metadata": {},
   "outputs": [],
   "source": [
    "dir(scheduler.survey_lists[0][0])"
   ]
  },
  {
   "cell_type": "code",
   "execution_count": null,
   "id": "c302416c-6ede-4095-85c7-e68c08958979",
   "metadata": {},
   "outputs": [],
   "source": [
    "scheduler.survey_lists[0][0].basis_functions"
   ]
  },
  {
   "cell_type": "code",
   "execution_count": null,
   "id": "80593e01-480c-4002-ba60-0aa84f0e4efd",
   "metadata": {},
   "outputs": [],
   "source": [
    "scheduler.survey_lists[0][0].detailers"
   ]
  },
  {
   "cell_type": "markdown",
   "id": "b5e8b5f9-1943-47f4-9374-f5de8bc03934",
   "metadata": {
    "jp-MarkdownHeadingCollapsed": true
   },
   "source": [
    "# Run Simulation Simple"
   ]
  },
  {
   "cell_type": "code",
   "execution_count": null,
   "id": "e927c662-ba7d-4236-a5df-fff4e5cbeb05",
   "metadata": {},
   "outputs": [],
   "source": [
    "import copy\n",
    "import numpy as np\n",
    "\n",
    "from astropy.time import Time\n",
    "\n",
    "import matplotlib.pylab as plt"
   ]
  },
  {
   "cell_type": "code",
   "execution_count": null,
   "id": "f72decd8-58f5-41bd-b05d-4626f6b5e40c",
   "metadata": {},
   "outputs": [],
   "source": [
    "from rubin_scheduler.scheduler.model_observatory import ModelObservatory\n",
    "from rubin_scheduler.site_models import SeeingData\n",
    "from rubin_scheduler.scheduler import  sim_runner"
   ]
  },
  {
   "cell_type": "code",
   "execution_count": null,
   "id": "c081d42d-a242-4b83-b076-a5c4eadfe393",
   "metadata": {},
   "outputs": [],
   "source": [
    "# There ought to be a way to set the environment variable for this kernel\n",
    "import os\n",
    "os.environ[\"RUBIN_SIM_DATA_DIR\"] = \"/home/b/bechtol/rubin-user/rubin_sim_data\"\n",
    "os.getenv(\"RUBIN_SIM_DATA_DIR\")"
   ]
  },
  {
   "cell_type": "code",
   "execution_count": null,
   "id": "359245d2-8240-44f6-aa86-cd00890eecf7",
   "metadata": {},
   "outputs": [],
   "source": [
    "# Note that can only set this date after downloading the full set sky brightness data\n",
    "mjd_start = Time('2024-09-01 00:00:00.000', format='iso').mjd\n",
    "mjd_start"
   ]
  },
  {
   "cell_type": "code",
   "execution_count": null,
   "id": "3f29a62b-1503-4790-a2f6-6f0c79168407",
   "metadata": {},
   "outputs": [],
   "source": [
    "# We need the start date of the survey, so let's load up our model observatory and get that from the conditions\n",
    "mo = ModelObservatory(nside=nside, ideal_conditions=True, mjd_start=mjd_start)\n",
    "mo.seeing_data = SeeingData(Time(mjd_start, format='mjd'))\n",
    "conditions = mo.return_conditions()"
   ]
  },
  {
   "cell_type": "code",
   "execution_count": null,
   "id": "d84f7a99-373a-4bcd-a41e-12cf4dba4392",
   "metadata": {},
   "outputs": [],
   "source": [
    "conditions.mounted_filters = ['gjgj', 'ghghi', 'kykykz']\n",
    "conditions.mounted_filters"
   ]
  },
  {
   "cell_type": "code",
   "execution_count": null,
   "id": "69ceb30d-9e57-4ddf-9a9c-ee639c75e2ca",
   "metadata": {},
   "outputs": [],
   "source": [
    "mo.conditions.mounted_filters"
   ]
  },
  {
   "cell_type": "code",
   "execution_count": null,
   "id": "28ec082b-6c2d-4813-adcd-7cb747e3a31a",
   "metadata": {},
   "outputs": [],
   "source": [
    "new_mo, new_scheduler, observations = sim_runner(copy.deepcopy(mo), copy.deepcopy(scheduler), survey_length=0.2, verbose=True)\n",
    "del new_mo\n",
    "del new_scheduler"
   ]
  },
  {
   "cell_type": "code",
   "execution_count": null,
   "id": "87170afa-a7b9-487e-b260-015002e3da5d",
   "metadata": {},
   "outputs": [],
   "source": [
    "observations.dtype.names"
   ]
  },
  {
   "cell_type": "code",
   "execution_count": null,
   "id": "543e36d3-11c2-449b-863b-1e9b0c9e5337",
   "metadata": {},
   "outputs": [],
   "source": [
    "observations['filter']"
   ]
  },
  {
   "cell_type": "code",
   "execution_count": null,
   "id": "d9b27f57-6993-47dc-8385-e540a073813e",
   "metadata": {},
   "outputs": [],
   "source": [
    "observations[0]"
   ]
  },
  {
   "cell_type": "code",
   "execution_count": null,
   "id": "9e200f6f-47a9-41d7-b2c9-91ec37352ae4",
   "metadata": {},
   "outputs": [],
   "source": [
    "f2c = {'u': 'purple', 'g': 'blue', 'r': 'green',\n",
    "       'i': 'cyan', 'z': 'orange', 'y': 'red'}\n",
    "\n",
    "plt.figure(dpi=200)\n",
    "for filtername in f2c:\n",
    "    in_filt = np.where(observations['filter'] == filtername)[0]\n",
    "    if in_filt.size > 0:\n",
    "        plt.plot(observations['mjd'][in_filt], observations['airmass'][in_filt], \n",
    "                 'o', markersize=1, color=f2c[filtername], label=filtername)\n",
    "plt.legend()\n",
    "plt.xlabel('MJD')\n",
    "plt.ylabel('Airmass')"
   ]
  },
  {
   "cell_type": "markdown",
   "id": "8c504ab3-ddb7-467a-b597-9fbfa975aa44",
   "metadata": {
    "jp-MarkdownHeadingCollapsed": true
   },
   "source": [
    "# Tests"
   ]
  },
  {
   "cell_type": "code",
   "execution_count": null,
   "id": "08836080-2ccf-42ee-9bd1-a11ff294c97f",
   "metadata": {},
   "outputs": [],
   "source": [
    "import lsst.ts.fbs.utils"
   ]
  },
  {
   "cell_type": "code",
   "execution_count": null,
   "id": "8224df4a-cc57-4aca-90c4-f63fafeba3b7",
   "metadata": {},
   "outputs": [],
   "source": [
    "from lsst.ts.fbs.utils.tests.maintel.test_basis_functions import test_get_basis_functions_field_survey"
   ]
  },
  {
   "cell_type": "code",
   "execution_count": null,
   "id": "30818aba-04e2-4c2d-87c8-1cf6ec8e03ad",
   "metadata": {},
   "outputs": [],
   "source": [
    "dir(lsst.ts.fbs.utils)"
   ]
  },
  {
   "cell_type": "code",
   "execution_count": null,
   "id": "d7d91844-72ba-4e0a-9b65-58aede4737a9",
   "metadata": {},
   "outputs": [],
   "source": []
  }
 ],
 "metadata": {
  "kernelspec": {
   "display_name": "rubin-sim",
   "language": "python",
   "name": "rubin-sim"
  },
  "language_info": {
   "codemirror_mode": {
    "name": "ipython",
    "version": 3
   },
   "file_extension": ".py",
   "mimetype": "text/x-python",
   "name": "python",
   "nbconvert_exporter": "python",
   "pygments_lexer": "ipython3",
   "version": "3.11.6"
  }
 },
 "nbformat": 4,
 "nbformat_minor": 5
}
